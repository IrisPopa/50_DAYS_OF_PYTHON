{
 "cells": [
  {
   "cell_type": "code",
   "execution_count": null,
   "id": "df9f9c5d-0ccb-4f1f-a6bf-59fed408349c",
   "metadata": {},
   "outputs": [],
   "source": [
    "Day 8: Odd and Even\n",
    "Write a function called odd_even that has one parameter and takes a list of numbers as an argument. The function returns the\n",
    "difference between the largest even number in the list and the smallest odd number in the list. For example, if you pass\n",
    "[1,2,4,6] as an argument the function should return 6 -1= 5."
   ]
  },
  {
   "cell_type": "code",
   "execution_count": 15,
   "id": "6aa6bcc5-a95c-43e6-a175-79d0b8d9de19",
   "metadata": {},
   "outputs": [],
   "source": [
    "def  odd_even(list_number):\n",
    "    even_list =[]\n",
    "    odd_list=[]\n",
    "    for x in list_number:\n",
    "        if x % 2 ==0:\n",
    "            even_list.append(x)\n",
    "        else:\n",
    "            odd_list.append(x)\n",
    "        \n",
    "    difference = max(even_list) - min(odd_list)\n",
    "    return f'{max(even_list)} - {min(odd_list)} = {difference}'\n"
   ]
  },
  {
   "cell_type": "code",
   "execution_count": 16,
   "id": "b5f3eaaf-0290-4ae2-b7a9-b62fa8e72444",
   "metadata": {},
   "outputs": [
    {
     "data": {
      "text/plain": [
       "'6 - 1 = 5'"
      ]
     },
     "execution_count": 16,
     "metadata": {},
     "output_type": "execute_result"
    }
   ],
   "source": [
    "odd_even([1,2,4,6])"
   ]
  },
  {
   "cell_type": "code",
   "execution_count": null,
   "id": "62b81dd9-b4a3-487b-a963-23d1511a46d0",
   "metadata": {},
   "outputs": [],
   "source": []
  },
  {
   "cell_type": "markdown",
   "id": "22b5b200-c4be-46e6-aece-83e21b4595c4",
   "metadata": {},
   "source": [
    "List of Prime Numbers\n",
    "Write a function called prime_numbers. This function asks a user to enter a number (integer) as an argument and returns a\n",
    "list of all the prime numbers within its range. For example, if user enters 10, your code should return [2, 3, 5, 7] as prime numbers."
   ]
  },
  {
   "cell_type": "code",
   "execution_count": 84,
   "id": "ccf47e7c-2670-4fd7-bf42-9c3a0f4464d3",
   "metadata": {},
   "outputs": [],
   "source": [
    "def prime_numbers() -> list:\n",
    "    prime_num = []\n",
    "    n = int(input('Please enter a number (integer): '))\n",
    "    for i in range(0, n + 1):\n",
    "        if i > 1:\n",
    "            for j in range(2, i):\n",
    "                if i % j == 0:\n",
    "                    break\n",
    "            else:\n",
    "                prime_num.append(i)\n",
    "    return prime_num"
   ]
  },
  {
   "cell_type": "code",
   "execution_count": 85,
   "id": "a9aa34c6-3290-45e0-8c72-fa0e1ffc2e20",
   "metadata": {},
   "outputs": [
    {
     "name": "stdin",
     "output_type": "stream",
     "text": [
      "Please enter a number (integer):  10\n"
     ]
    },
    {
     "data": {
      "text/plain": [
       "[2, 3, 5, 7]"
      ]
     },
     "execution_count": 85,
     "metadata": {},
     "output_type": "execute_result"
    }
   ],
   "source": [
    "prime_numbers() "
   ]
  },
  {
   "cell_type": "code",
   "execution_count": null,
   "id": "1d21c0d8-6934-467e-b13b-c2092024d827",
   "metadata": {},
   "outputs": [],
   "source": []
  },
  {
   "cell_type": "markdown",
   "id": "3fb2fb5b-43da-43fe-8558-dbe0225c2ca0",
   "metadata": {},
   "source": [
    "Day 9: Biggest Odd Number\n",
    "Create a function called biggest_odd that takes a string of numbers and returns the biggest odd number in the list. For\n",
    "example, if you pass ‘23569’ as an argument, your function should return 9. Use list comprehension."
   ]
  },
  {
   "cell_type": "code",
   "execution_count": 104,
   "id": "766a4283-ea91-461d-b572-11d98a382c9a",
   "metadata": {},
   "outputs": [],
   "source": [
    "def biggest_odd (string_numbers):\n",
    "    list_number = list(string_numbers)\n",
    "    list_odd_number =[]\n",
    "    for x in list_number:\n",
    "        if int(x) % 2 != 0:\n",
    "            list_odd_number.append(x)\n",
    "    return max(list_odd_number)\n",
    "    "
   ]
  },
  {
   "cell_type": "code",
   "execution_count": 105,
   "id": "916e5a9c-3dd7-4799-a152-e7ab6dd351fc",
   "metadata": {},
   "outputs": [
    {
     "data": {
      "text/plain": [
       "'7'"
      ]
     },
     "execution_count": 105,
     "metadata": {},
     "output_type": "execute_result"
    }
   ],
   "source": [
    "biggest_odd ('6787447476')"
   ]
  },
  {
   "cell_type": "code",
   "execution_count": null,
   "id": "5c3bb8d3-26c3-4ad0-b0e9-e379cb75a985",
   "metadata": {},
   "outputs": [],
   "source": []
  },
  {
   "cell_type": "markdown",
   "id": "e29f9f30-94e8-46ef-8c5e-8f1a4722d0ac",
   "metadata": {},
   "source": [
    "Extra Challenge: Zeros to the End\n",
    "Write a function called zeros_last. This function takes a list as argument. If a list has zeros (0), it will move them to the front of the list and maintain the order of the other numbers in the list. If there are no Zeros in the list, the function should return the original list sorted in ascending order. For example, if you pass [1, 4, 6, 0, 7,0,9] as an argument, your code should return [1, 4, 6, 7, 9, 0, 0]. If you pass [2, 1, 4, 7, 6] as your argument, your code should return [1, 2, 4, 6, 7]"
   ]
  },
  {
   "cell_type": "code",
   "execution_count": 234,
   "id": "44a4c551-6053-4b48-b825-bb99188e090f",
   "metadata": {},
   "outputs": [],
   "source": [
    "def zeros_last(list_number):\n",
    "    new_list_number = []\n",
    "    for x in list_number:\n",
    "        if x == 0:\n",
    "            new_list = [x for x in list_number if x == 0]\n",
    "            for x in list_number:\n",
    "                if x == 0:\n",
    "                    list_number.pop(list_number.index(0))  # remove the zeros, we need a loop becauset the index() method returns the position at the first occurrence of the zero value\n",
    "            return list_number + new_list\n",
    "    else:\n",
    "        new_list_number = sorted(list_number)\n",
    "    return new_list_number"
   ]
  },
  {
   "cell_type": "code",
   "execution_count": 235,
   "id": "35064d4d-ed6f-4f80-9411-d165a0c07027",
   "metadata": {},
   "outputs": [],
   "source": [
    "list_number1 =[1, 4, 6, 0, 9, 7, 0, 5]"
   ]
  },
  {
   "cell_type": "code",
   "execution_count": 236,
   "id": "7b073106-c62e-43fb-a596-5b1039b665a3",
   "metadata": {},
   "outputs": [
    {
     "data": {
      "text/plain": [
       "[1, 4, 6, 9, 7, 5, 0, 0]"
      ]
     },
     "execution_count": 236,
     "metadata": {},
     "output_type": "execute_result"
    }
   ],
   "source": [
    "zeros_last(list_number1)"
   ]
  },
  {
   "cell_type": "code",
   "execution_count": 192,
   "id": "bc7706e9-4fd4-4fcc-8943-f5f9683ace18",
   "metadata": {},
   "outputs": [],
   "source": [
    "list_number2 =[2, 1, 4, 7, 6, 3, 10]"
   ]
  },
  {
   "cell_type": "code",
   "execution_count": null,
   "id": "8a2ebe27-ff39-4f5d-8c03-f649703edefb",
   "metadata": {},
   "outputs": [],
   "source": [
    "zeros_last(list_number2)"
   ]
  },
  {
   "cell_type": "code",
   "execution_count": 239,
   "id": "f6da9006-3c90-4d3a-a84f-1e117fdf845e",
   "metadata": {},
   "outputs": [
    {
     "data": {
      "text/plain": [
       "[1, 4, 6, 9, 7, 0, 5, 0]"
      ]
     },
     "execution_count": 239,
     "metadata": {},
     "output_type": "execute_result"
    }
   ],
   "source": [
    "zeros_last1([1, 4, 6, 0, 9, 7, 0, 5])"
   ]
  },
  {
   "cell_type": "code",
   "execution_count": null,
   "id": "a85d2b2c-ad99-4cb7-abfe-d749db6c544f",
   "metadata": {},
   "outputs": [],
   "source": []
  }
 ],
 "metadata": {
  "kernelspec": {
   "display_name": "curs_python_env",
   "language": "python",
   "name": "curs_python_env"
  },
  "language_info": {
   "codemirror_mode": {
    "name": "ipython",
    "version": 3
   },
   "file_extension": ".py",
   "mimetype": "text/x-python",
   "name": "python",
   "nbconvert_exporter": "python",
   "pygments_lexer": "ipython3",
   "version": "3.10.5"
  }
 },
 "nbformat": 4,
 "nbformat_minor": 5
}
