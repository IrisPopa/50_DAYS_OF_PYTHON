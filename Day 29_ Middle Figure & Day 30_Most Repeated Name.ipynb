{
 "cells": [
  {
   "cell_type": "markdown",
   "id": "c5263024-017b-45d5-8976-097355a94dc4",
   "metadata": {},
   "source": [
    "## Day 29: Middle Figure\n",
    "Write a function called middle_figure that takes two parameters a, and b. The two parameters are strings. The\n",
    "function joins the two strings and finds the middle element. If the combined string has a middle element, the function should return the element, otherwise, return ‘no middle figure’. Use ‘make love’ as an argument for a and ‘not wars’ as an\n",
    "argument for b. Your function should return ‘e’ as the middle element. Whitespaces should be removed."
   ]
  },
  {
   "cell_type": "code",
   "execution_count": 56,
   "id": "947739f7-7a05-428c-9227-1fbb91d322fa",
   "metadata": {},
   "outputs": [],
   "source": [
    "def middle_figure(str1, str2):\n",
    "    combined_string = ''.join(list(str1.replace(' ', '') + str2.replace(' ', '')))\n",
    "    print(combined_string)\n",
    "    if len(combined_string) % 2 != 0:\n",
    "        return combined_string[int(len(combined_string)//2)]\n",
    "    else:\n",
    "        return f'no middle figure'"
   ]
  },
  {
   "cell_type": "code",
   "execution_count": 1,
   "id": "2ddfc96e-304c-4eb9-bffa-05f488f2f811",
   "metadata": {},
   "outputs": [],
   "source": [
    "a = 'make love'"
   ]
  },
  {
   "cell_type": "code",
   "execution_count": 2,
   "id": "dd018536-4d64-4ce1-9224-35d36657c1e9",
   "metadata": {},
   "outputs": [],
   "source": [
    "b = 'not wars'"
   ]
  },
  {
   "cell_type": "code",
   "execution_count": 57,
   "id": "12d61244-8e90-42b5-90f8-ddbef6464f11",
   "metadata": {},
   "outputs": [
    {
     "name": "stdout",
     "output_type": "stream",
     "text": [
      "makelovenotwars\n"
     ]
    },
    {
     "data": {
      "text/plain": [
       "'e'"
      ]
     },
     "execution_count": 57,
     "metadata": {},
     "output_type": "execute_result"
    }
   ],
   "source": [
    "middle_figure(a, b)"
   ]
  },
  {
   "cell_type": "code",
   "execution_count": 44,
   "id": "0b72dc6d-c210-4d51-b1d7-9d2a10127562",
   "metadata": {},
   "outputs": [],
   "source": [
    "x = 'middle element'"
   ]
  },
  {
   "cell_type": "code",
   "execution_count": 47,
   "id": "b429b077-9681-4f8b-a9b7-3685d1ec8e4e",
   "metadata": {},
   "outputs": [],
   "source": [
    "y = 'should be removed'"
   ]
  },
  {
   "cell_type": "code",
   "execution_count": 58,
   "id": "4a5c5c0b-37ce-406f-bff7-0ebc46709522",
   "metadata": {},
   "outputs": [
    {
     "name": "stdout",
     "output_type": "stream",
     "text": [
      "middleelementshouldberemoved\n"
     ]
    },
    {
     "data": {
      "text/plain": [
       "'no middle figure'"
      ]
     },
     "execution_count": 58,
     "metadata": {},
     "output_type": "execute_result"
    }
   ],
   "source": [
    "middle_figure(x, y)"
   ]
  },
  {
   "cell_type": "code",
   "execution_count": null,
   "id": "a206c275-cb57-42f6-aed2-cf064710d92f",
   "metadata": {},
   "outputs": [],
   "source": []
  },
  {
   "cell_type": "code",
   "execution_count": 49,
   "id": "85836e8e-f5e6-4235-aadf-a82579bee144",
   "metadata": {},
   "outputs": [],
   "source": [
    "def middle_figure1(a: str,b: str):\n",
    "    c = (a + b).replace(' ','')\n",
    "    print(c)\n",
    "    b = len(c)\n",
    "    middle = b//2\n",
    "    if len(c)% 2 == 1:\n",
    "        return c[middle]\n",
    "    else:\n",
    "        return 'No middle figure'"
   ]
  },
  {
   "cell_type": "code",
   "execution_count": 50,
   "id": "e685f759-af7f-416f-8cf7-c5e5c76f8b3b",
   "metadata": {},
   "outputs": [
    {
     "name": "stdout",
     "output_type": "stream",
     "text": [
      "makelovenotwars\n"
     ]
    },
    {
     "data": {
      "text/plain": [
       "'e'"
      ]
     },
     "execution_count": 50,
     "metadata": {},
     "output_type": "execute_result"
    }
   ],
   "source": [
    "middle_figure1(a,b)"
   ]
  },
  {
   "cell_type": "code",
   "execution_count": 54,
   "id": "7f756148-4416-49a4-9b2e-255a0abc471c",
   "metadata": {},
   "outputs": [
    {
     "name": "stdout",
     "output_type": "stream",
     "text": [
      "middleelementshouldberemoved\n"
     ]
    },
    {
     "data": {
      "text/plain": [
       "'No middle figure'"
      ]
     },
     "execution_count": 54,
     "metadata": {},
     "output_type": "execute_result"
    }
   ],
   "source": [
    "middle_figure1(x,y)"
   ]
  },
  {
   "cell_type": "code",
   "execution_count": 55,
   "id": "f4730b26-9b0b-46af-b473-4e67647afb5a",
   "metadata": {},
   "outputs": [
    {
     "data": {
      "text/plain": [
       "7"
      ]
     },
     "execution_count": 55,
     "metadata": {},
     "output_type": "execute_result"
    }
   ],
   "source": [
    "z = 15//2\n",
    "z"
   ]
  },
  {
   "cell_type": "code",
   "execution_count": null,
   "id": "c2575ca2-6920-43d9-afe9-98eb7c336930",
   "metadata": {},
   "outputs": [],
   "source": []
  },
  {
   "cell_type": "markdown",
   "id": "918fe440-9223-44ba-b85d-20228ed5f135",
   "metadata": {},
   "source": [
    "## Day 30: Most Repeated Name\n",
    "Write a function called repeated_name that finds the most repeated name in the following list.\n",
    "name = [\"John\", \"Peter\", \"John\", \"Peter\", \"Jones\", \"Peter\"]"
   ]
  },
  {
   "cell_type": "code",
   "execution_count": 19,
   "id": "580a4cf0-4b33-4419-8a45-46a0c6fa77be",
   "metadata": {},
   "outputs": [],
   "source": [
    "def repeated_name(name_list):\n",
    "    count_list = []\n",
    "    for name in name_list:\n",
    "        count_list.append(name_list.count(name))\n",
    "    return name_list[count_list.index(max(count_list))]"
   ]
  },
  {
   "cell_type": "code",
   "execution_count": 67,
   "id": "287feb40-f51c-4177-b9ab-e48e9a0725ab",
   "metadata": {},
   "outputs": [],
   "source": [
    "name1 = ['John', 'Peter', 'John', 'Peter', 'Jones', 'Peter']"
   ]
  },
  {
   "cell_type": "code",
   "execution_count": 136,
   "id": "68e0969a-4643-41c1-824d-26642887f6d8",
   "metadata": {},
   "outputs": [],
   "source": [
    "name2 = ['John', 'Mary', 'John', 'Mary', 'John', 'Ana', 'Paul', 'Mary']"
   ]
  },
  {
   "cell_type": "code",
   "execution_count": 137,
   "id": "61e1054b-e4e6-471d-accc-0ecd02e1decc",
   "metadata": {},
   "outputs": [
    {
     "data": {
      "text/plain": [
       "'Peter'"
      ]
     },
     "execution_count": 137,
     "metadata": {},
     "output_type": "execute_result"
    }
   ],
   "source": [
    "repeated_name(name1)"
   ]
  },
  {
   "cell_type": "code",
   "execution_count": 138,
   "id": "5b3567ab-1ebe-491b-bd1e-b479b3522706",
   "metadata": {},
   "outputs": [
    {
     "data": {
      "text/plain": [
       "'John'"
      ]
     },
     "execution_count": 138,
     "metadata": {},
     "output_type": "execute_result"
    }
   ],
   "source": [
    "repeated_name(name2)"
   ]
  },
  {
   "cell_type": "code",
   "execution_count": null,
   "id": "5ef4bdf5-7c8d-4333-b1bd-3b9ea1a7e992",
   "metadata": {},
   "outputs": [],
   "source": []
  },
  {
   "cell_type": "code",
   "execution_count": 56,
   "id": "f7876c60-b05f-4386-bf41-19d91082c2c2",
   "metadata": {},
   "outputs": [],
   "source": [
    "from collections import Counter\n",
    "# The collections module has a counter() class that we can use to find the most common element of a lis"
   ]
  },
  {
   "cell_type": "code",
   "execution_count": 133,
   "id": "d241fb06-0209-47b0-8384-3e6fb3df23bb",
   "metadata": {},
   "outputs": [],
   "source": [
    "def frequent_name1(a):\n",
    "    Counter(a).most_common().sort()\n",
    "    return Counter(a).most_common()[0]"
   ]
  },
  {
   "cell_type": "code",
   "execution_count": 139,
   "id": "3f3a40ac-1c41-48b5-81f4-a24f0dacbe8a",
   "metadata": {},
   "outputs": [
    {
     "data": {
      "text/plain": [
       "('Peter', 3)"
      ]
     },
     "execution_count": 139,
     "metadata": {},
     "output_type": "execute_result"
    }
   ],
   "source": [
    "frequent_name1(name1)"
   ]
  },
  {
   "cell_type": "code",
   "execution_count": 140,
   "id": "956d7c51-85fc-4a42-96e6-5362a1e5fc46",
   "metadata": {},
   "outputs": [
    {
     "data": {
      "text/plain": [
       "('John', 3)"
      ]
     },
     "execution_count": 140,
     "metadata": {},
     "output_type": "execute_result"
    }
   ],
   "source": [
    "frequent_name1(name2)"
   ]
  },
  {
   "cell_type": "code",
   "execution_count": null,
   "id": "4d3b54b2-9519-439f-8944-4e721e50f51f",
   "metadata": {},
   "outputs": [],
   "source": []
  },
  {
   "cell_type": "markdown",
   "id": "a4c77b3a-2a68-499a-86dd-90492dca86fa",
   "metadata": {},
   "source": [
    "Extra Challenge: Sort by Last Name\n",
    "You work for a local school in your area. The school has a list of names of students saved in a list. The school has asked you to write a program that takes a list of names and sorts them alphabetically. The names should be sorted by last names. Here is a list of names:\n",
    "[‘Beyonce Knowles, ‘Alicia Keys’, ‘Katie Perry’, ‘Chris Brown’,’ Tom Cruise’]\n",
    "Your code should not just sort them alphabetically, but it should also switch the names (the last name must be the first). Here is how your code output should look:\n",
    "['Brown Chris', 'Cruise Tom', 'Keys Alicia', 'Perry Katie', 'Knowles Beyonce']\n",
    "Write a function called sorted_names"
   ]
  },
  {
   "cell_type": "code",
   "execution_count": 52,
   "id": "ba9454e7-c19b-46be-8691-9a0f3244bdd3",
   "metadata": {},
   "outputs": [],
   "source": [
    "def sorted_names(name_list):\n",
    "    new_name_list = []\n",
    "    for name in name_list:\n",
    "        one_name_list = list(name.split())\n",
    "        one_name_list.reverse()\n",
    "        new_name_list.append(' '.join(tuple(one_name_list)))\n",
    "    new_name_list.sort()\n",
    "    return new_name_list"
   ]
  },
  {
   "cell_type": "code",
   "execution_count": 169,
   "id": "501a0c8e-c377-46c1-8ab5-7cf68e049041",
   "metadata": {},
   "outputs": [],
   "source": [
    "c = ['Beyonce Knowles', 'Alicia Keys', 'Katie Perry', 'Chris Brown', 'Tom Cruise']"
   ]
  },
  {
   "cell_type": "code",
   "execution_count": 172,
   "id": "bb7a8637-b6d8-4588-a74a-e63527b3f258",
   "metadata": {},
   "outputs": [
    {
     "data": {
      "text/plain": [
       "['Brown Chris', 'Cruise Tom', 'Keys Alicia', 'Knowles Beyonce', 'Perry Katie']"
      ]
     },
     "execution_count": 172,
     "metadata": {},
     "output_type": "execute_result"
    }
   ],
   "source": [
    "sorted_names(c)"
   ]
  },
  {
   "cell_type": "code",
   "execution_count": 85,
   "id": "e3dcca09-936f-4cec-afa6-558f8d00e682",
   "metadata": {},
   "outputs": [],
   "source": [
    "b = ['Mihaela Popa','Mariana Coman','Paul Georgescu','Augustina Biloiu','Andreea Calin','Catalina Croitoru']"
   ]
  },
  {
   "cell_type": "code",
   "execution_count": 86,
   "id": "0525b165-377e-4519-85b6-69a9f13f8396",
   "metadata": {},
   "outputs": [
    {
     "data": {
      "text/plain": [
       "['Biloiu Augustina',\n",
       " 'Calin Andreea',\n",
       " 'Coman Mariana',\n",
       " 'Croitoru Catalina',\n",
       " 'Georgescu Paul',\n",
       " 'Popa Mihaela']"
      ]
     },
     "execution_count": 86,
     "metadata": {},
     "output_type": "execute_result"
    }
   ],
   "source": [
    "sorted_names(b)"
   ]
  },
  {
   "cell_type": "code",
   "execution_count": null,
   "id": "c6f95293-536c-476b-8700-b220fad71556",
   "metadata": {},
   "outputs": [],
   "source": []
  },
  {
   "cell_type": "code",
   "execution_count": 142,
   "id": "150d89ff-2a11-4b28-aa43-642e21a24250",
   "metadata": {},
   "outputs": [],
   "source": [
    "def sorted_names1(list1):\n",
    "    list2 = []\n",
    "    for i in list1:\n",
    "        list2.append(i.split())\n",
    "        list3 = []\n",
    "        # creating a key for the sorted function\n",
    "        x = lambda x: x[-1]\n",
    "        for j in sorted(list2, key=x):\n",
    "            # appending sorted names to list3\n",
    "            list3.append(' '.join([j[-1], j[0]]))\n",
    "    return list3"
   ]
  },
  {
   "cell_type": "code",
   "execution_count": 170,
   "id": "0529f3fa-2fe5-4e00-a7a6-91e3a8a4a247",
   "metadata": {},
   "outputs": [
    {
     "data": {
      "text/plain": [
       "['Brown Chris', 'Cruise Tom', 'Keys Alicia', 'Knowles Beyonce', 'Perry Katie']"
      ]
     },
     "execution_count": 170,
     "metadata": {},
     "output_type": "execute_result"
    }
   ],
   "source": [
    "sorted_names1(c)"
   ]
  },
  {
   "cell_type": "code",
   "execution_count": 171,
   "id": "ae2deb59-e168-416f-9c6c-13d39ff18041",
   "metadata": {},
   "outputs": [
    {
     "data": {
      "text/plain": [
       "['Biloiu Augustina',\n",
       " 'Calin Andreea',\n",
       " 'Coman Mariana',\n",
       " 'Croitoru Catalina',\n",
       " 'Georgescu Paul',\n",
       " 'Popa Mihaela']"
      ]
     },
     "execution_count": 171,
     "metadata": {},
     "output_type": "execute_result"
    }
   ],
   "source": [
    "sorted_names1(b)"
   ]
  },
  {
   "cell_type": "code",
   "execution_count": 180,
   "id": "c0bab9bb-6048-4253-b087-6841d3f1d7c1",
   "metadata": {},
   "outputs": [
    {
     "data": {
      "text/plain": [
       "['Alicia', 'Cruise', 'Brown', 'Chris', 'Keys']"
      ]
     },
     "execution_count": 180,
     "metadata": {},
     "output_type": "execute_result"
    }
   ],
   "source": [
    "y = lambda x: x[-1]\n",
    "f = sorted(['Brown', 'Chris', 'Cruise', 'Alicia', 'Keys'], key = y)\n",
    "f"
   ]
  },
  {
   "cell_type": "code",
   "execution_count": 179,
   "id": "e8432538-7d69-429c-ba2b-07fe3fde4f6f",
   "metadata": {},
   "outputs": [
    {
     "data": {
      "text/plain": [
       "['Alicia', 'Brown', 'Chris', 'Cruise', 'Keys']"
      ]
     },
     "execution_count": 179,
     "metadata": {},
     "output_type": "execute_result"
    }
   ],
   "source": [
    "d = sorted(['Brown', 'Chris',  'Cruise', 'Alicia', 'Keys'])\n",
    "d"
   ]
  },
  {
   "cell_type": "code",
   "execution_count": null,
   "id": "8db0196b-89c6-48b6-8bab-76c02072076d",
   "metadata": {},
   "outputs": [],
   "source": []
  }
 ],
 "metadata": {
  "kernelspec": {
   "display_name": "Python 3 (ipykernel)",
   "language": "python",
   "name": "python3"
  },
  "language_info": {
   "codemirror_mode": {
    "name": "ipython",
    "version": 3
   },
   "file_extension": ".py",
   "mimetype": "text/x-python",
   "name": "python",
   "nbconvert_exporter": "python",
   "pygments_lexer": "ipython3",
   "version": "3.10.5"
  }
 },
 "nbformat": 4,
 "nbformat_minor": 5
}
