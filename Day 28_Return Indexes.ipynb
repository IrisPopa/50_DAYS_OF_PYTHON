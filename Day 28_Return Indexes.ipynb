{
 "cells": [
  {
   "cell_type": "markdown",
   "id": "eb31d077-59b5-46c2-8c91-294ab60ab1d1",
   "metadata": {},
   "source": [
    "Day 28: Return Indexes\n",
    "Write a function called index_position. This function takes a string as a parameter and returns the positions or indexes of all\n",
    "lower letters in the string. For example, ‘LovE’ should return [1,2]"
   ]
  },
  {
   "cell_type": "code",
   "execution_count": 119,
   "id": "acd937d4-8aa8-4c39-82a1-4f7d6af9ab50",
   "metadata": {},
   "outputs": [],
   "source": [
    "def index_position(string):\n",
    "    position_list =[]\n",
    "    for i in range (0, len(string)):\n",
    "        if string[i].islower() == True:\n",
    "            position_list.append(i)\n",
    "    return position_list"
   ]
  },
  {
   "cell_type": "code",
   "execution_count": 120,
   "id": "44969a4b-f8c6-4337-b6a8-38309d7eccf9",
   "metadata": {},
   "outputs": [],
   "source": [
    "b = 'LoweR leTters '"
   ]
  },
  {
   "cell_type": "code",
   "execution_count": 121,
   "id": "e4b808ef-b015-446a-b92e-4e412433f899",
   "metadata": {},
   "outputs": [
    {
     "data": {
      "text/plain": [
       "[1, 2, 3, 6, 7, 9, 10, 11, 12]"
      ]
     },
     "execution_count": 121,
     "metadata": {},
     "output_type": "execute_result"
    }
   ],
   "source": [
    "index_position(b)"
   ]
  },
  {
   "cell_type": "code",
   "execution_count": null,
   "id": "f52525e0-151e-4c89-b25b-ae0b365ab38d",
   "metadata": {},
   "outputs": [],
   "source": []
  },
  {
   "cell_type": "code",
   "execution_count": 122,
   "id": "85edf4dc-bbf4-4669-a8c8-4afda3fba3b5",
   "metadata": {},
   "outputs": [],
   "source": [
    "def index_position1 (a):\n",
    "    idex = []\n",
    "    for i, item in enumerate(a):\n",
    "        if item.islower():\n",
    "            idex.append(i)\n",
    "    return idex"
   ]
  },
  {
   "cell_type": "code",
   "execution_count": 124,
   "id": "04ea9155-3817-41fe-9343-ad3d02688c08",
   "metadata": {},
   "outputs": [
    {
     "data": {
      "text/plain": [
       "[1, 2, 3, 6, 7, 9, 10, 11, 12]"
      ]
     },
     "execution_count": 124,
     "metadata": {},
     "output_type": "execute_result"
    }
   ],
   "source": [
    "index_position1(b)"
   ]
  },
  {
   "cell_type": "code",
   "execution_count": null,
   "id": "0fcffcbd-ba89-4ab2-b46b-7a1ba8868f59",
   "metadata": {},
   "outputs": [],
   "source": []
  },
  {
   "cell_type": "code",
   "execution_count": null,
   "id": "07bfd409-2f2a-474d-a80f-398d595e270c",
   "metadata": {},
   "outputs": [],
   "source": []
  },
  {
   "cell_type": "markdown",
   "id": "e818c541-9d26-4378-bade-145120a9020a",
   "metadata": {},
   "source": [
    "Extra Challenge: Largest Number\n",
    "Write a function called largest_number that takes a list of integers and re-arrange the individual digits to create the largest\n",
    "number possible. For example, if you pass the following as an argument: list1 = [3, 67, 87, 9, 2]. Your code should return the\n",
    "number in this exact format: 9,877,632 as the largest number."
   ]
  },
  {
   "cell_type": "code",
   "execution_count": 105,
   "id": "6031904a-6489-4b93-a9d6-c45f6949cf8c",
   "metadata": {},
   "outputs": [],
   "source": [
    "def largest_number(num_list):\n",
    "    new_list = list(''.join(str(x) for x in num_list))\n",
    "    new_list.sort(reverse = True)\n",
    "    largest_number = '{:,}'.format(int(''.join(str(x) for x in  new_list)))\n",
    "    return largest_number  "
   ]
  },
  {
   "cell_type": "code",
   "execution_count": 89,
   "id": "58982995-4ffc-488e-a797-0eb4575c4788",
   "metadata": {},
   "outputs": [],
   "source": [
    "list1 = [3, 67, 87, 9, 2]"
   ]
  },
  {
   "cell_type": "code",
   "execution_count": 106,
   "id": "67ef35e9-7f00-4def-b8ea-483699b7f7cd",
   "metadata": {},
   "outputs": [
    {
     "data": {
      "text/plain": [
       "'9,877,632'"
      ]
     },
     "execution_count": 106,
     "metadata": {},
     "output_type": "execute_result"
    }
   ],
   "source": [
    "largest_number(list1)"
   ]
  },
  {
   "cell_type": "code",
   "execution_count": 101,
   "id": "da46da25-4d4e-4552-b9c4-4706b72aa986",
   "metadata": {},
   "outputs": [],
   "source": [
    "list2 = [56, 67, 87, 5]"
   ]
  },
  {
   "cell_type": "code",
   "execution_count": 136,
   "id": "e9c9cbc5-45be-4afa-ac70-aa4662da4cad",
   "metadata": {},
   "outputs": [
    {
     "data": {
      "text/plain": [
       "'8,776,655'"
      ]
     },
     "execution_count": 136,
     "metadata": {},
     "output_type": "execute_result"
    }
   ],
   "source": [
    "largest_number(list2)"
   ]
  },
  {
   "cell_type": "code",
   "execution_count": 133,
   "id": "a0e0f0d8-5051-470d-a903-20d41cf8fc7d",
   "metadata": {},
   "outputs": [],
   "source": [
    "def largest_number1(arr: list):\n",
    "    # Create empty list\n",
    "    list1 = []\n",
    "    # remove brackets and spaces in the lists\n",
    "    n = str(arr).strip('[,]').replace(',', '').replace(' ', '')\n",
    "    # append the numbers to the empty list\n",
    "    for i in n:\n",
    "            list1.append(int(i))\n",
    "            # Sorting the list in descending order\n",
    "            list1.sort(reverse=True)\n",
    "            # removing parenthesis and spaces from the sorted\n",
    "            # list and converting it to int\n",
    "            large_number = int(str(list1).strip('[]').replace(',', '').replace(' ', ''))\n",
    "    # return a large formatted number\n",
    "    return 'The largest number is, {:,}'.format(large_number)"
   ]
  },
  {
   "cell_type": "code",
   "execution_count": 134,
   "id": "8f0d0bc6-93ad-405c-82ff-d9514ad7fc5e",
   "metadata": {},
   "outputs": [
    {
     "data": {
      "text/plain": [
       "'The largest number is, 9,877,632'"
      ]
     },
     "execution_count": 134,
     "metadata": {},
     "output_type": "execute_result"
    }
   ],
   "source": [
    "largest_number1(list1)"
   ]
  },
  {
   "cell_type": "code",
   "execution_count": null,
   "id": "935b8be6-eed1-4c9a-ad6d-e7322841fe2c",
   "metadata": {},
   "outputs": [],
   "source": []
  }
 ],
 "metadata": {
  "kernelspec": {
   "display_name": "curs_python_env",
   "language": "python",
   "name": "curs_python_env"
  },
  "language_info": {
   "codemirror_mode": {
    "name": "ipython",
    "version": 3
   },
   "file_extension": ".py",
   "mimetype": "text/x-python",
   "name": "python",
   "nbconvert_exporter": "python",
   "pygments_lexer": "ipython3",
   "version": "3.10.5"
  }
 },
 "nbformat": 4,
 "nbformat_minor": 5
}
