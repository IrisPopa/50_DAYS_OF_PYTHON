{
 "cells": [
  {
   "cell_type": "markdown",
   "id": "ffd27c2b-a023-40ff-aa00-87848920f0ec",
   "metadata": {},
   "source": [
    "Day 18: Any Number of Arguments\n",
    "Write a function called any_number that can receive any number of arguments (integers and floats) and return the average of those integers. If you pass 12, 90, 12, 34 as arguments your function should return 37.0 as average. If you pass 12, 90 your function should return 51.0 as average"
   ]
  },
  {
   "cell_type": "code",
   "execution_count": 1,
   "id": "0763e140-6370-43b5-90b5-3af8bbefde17",
   "metadata": {},
   "outputs": [],
   "source": [
    "import math "
   ]
  },
  {
   "cell_type": "code",
   "execution_count": 15,
   "id": "26b83678-5f1a-492f-930b-559ac600da94",
   "metadata": {},
   "outputs": [],
   "source": [
    "def any_number(*args):\n",
    "    suma = 0\n",
    "    count = 0\n",
    "    for arg in args:\n",
    "        suma += arg\n",
    "        count += 1 \n",
    "    return  suma / count"
   ]
  },
  {
   "cell_type": "code",
   "execution_count": 16,
   "id": "926a1744-d61b-47aa-973b-83259dea3fa2",
   "metadata": {},
   "outputs": [
    {
     "data": {
      "text/plain": [
       "37.0"
      ]
     },
     "execution_count": 16,
     "metadata": {},
     "output_type": "execute_result"
    }
   ],
   "source": [
    "any_number(12, 90, 12, 34)"
   ]
  },
  {
   "cell_type": "code",
   "execution_count": 17,
   "id": "47e04f00-e4ac-4129-b312-57a0f5f756d3",
   "metadata": {},
   "outputs": [
    {
     "data": {
      "text/plain": [
       "51.0"
      ]
     },
     "execution_count": 17,
     "metadata": {},
     "output_type": "execute_result"
    }
   ],
   "source": [
    "any_number(12, 90)"
   ]
  },
  {
   "cell_type": "code",
   "execution_count": 95,
   "id": "2cbc2b83-4cff-46f6-9797-50358af6edef",
   "metadata": {},
   "outputs": [],
   "source": [
    "def any_num(*args):\n",
    "    ave = sum(args)/len(args)\n",
    "    return f'The average is {ave}'"
   ]
  },
  {
   "cell_type": "code",
   "execution_count": 96,
   "id": "441c483f-f617-4721-b083-eb89a4db5110",
   "metadata": {},
   "outputs": [
    {
     "data": {
      "text/plain": [
       "'The average is 37.0'"
      ]
     },
     "execution_count": 96,
     "metadata": {},
     "output_type": "execute_result"
    }
   ],
   "source": [
    "any_num(12, 90, 12, 34 )"
   ]
  },
  {
   "cell_type": "code",
   "execution_count": null,
   "id": "779c8f3f-dd59-43ef-a7a4-cc771a691478",
   "metadata": {},
   "outputs": [],
   "source": []
  },
  {
   "cell_type": "code",
   "execution_count": null,
   "id": "c7e2c140-1e22-409a-b667-8c0af8492d09",
   "metadata": {},
   "outputs": [],
   "source": [
    "Extra Challenge: Add and Reverse\n",
    "Write a function called add_reverse. This function takes two lists as argument and adds each corresponding number, and\n",
    "reverses the outcome. For example, if you pass [10, 12, 34] and [12, 56, 78]. Your code should return [112, 22, 68]. If the\n",
    "two lists are not of equal lengths, the code should return a message that \"the lists are not of equal lengths\"."
   ]
  },
  {
   "cell_type": "code",
   "execution_count": 109,
   "id": "45c4cf4b-389f-40bd-ae8e-5d9f5c6e98c4",
   "metadata": {},
   "outputs": [],
   "source": [
    "def add_reverse(list1, list2):\n",
    "    sum_list = []\n",
    "    if len(list1) != len(list2):\n",
    "        return f\"the lists are not of equal lengths\"\n",
    "    if len(list1) == len(list2):\n",
    "        for i in range(len(list1)):\n",
    "            sum_list.append(list1[i] + list2[i])\n",
    "        sum_list.reverse()\n",
    "    return sum_list"
   ]
  },
  {
   "cell_type": "code",
   "execution_count": 110,
   "id": "6df8d7fd-26f2-4f22-affb-83e8bffe87dc",
   "metadata": {},
   "outputs": [
    {
     "data": {
      "text/plain": [
       "[112, 68, 22]"
      ]
     },
     "execution_count": 110,
     "metadata": {},
     "output_type": "execute_result"
    }
   ],
   "source": [
    "add_reverse([10, 12, 34], [12, 56, 78])"
   ]
  },
  {
   "cell_type": "code",
   "execution_count": 111,
   "id": "7fc5e967-8357-43d9-848a-6d7c94ed8617",
   "metadata": {},
   "outputs": [
    {
     "data": {
      "text/plain": [
       "'the lists are not of equal lengths'"
      ]
     },
     "execution_count": 111,
     "metadata": {},
     "output_type": "execute_result"
    }
   ],
   "source": [
    "add_reverse([10, 12, 34, 15], [12, 56, 78])"
   ]
  },
  {
   "cell_type": "code",
   "execution_count": 112,
   "id": "a8c5b084-8ba2-46bb-b417-fd55a830d13c",
   "metadata": {},
   "outputs": [
    {
     "data": {
      "text/plain": [
       "[8, 112, 68, 22]"
      ]
     },
     "execution_count": 112,
     "metadata": {},
     "output_type": "execute_result"
    }
   ],
   "source": [
    "add_reverse([10, 12, 34, 2], [12, 56, 78, 6])"
   ]
  },
  {
   "cell_type": "code",
   "execution_count": null,
   "id": "f500307b-f5e0-447c-babc-4e3d6f23895c",
   "metadata": {},
   "outputs": [],
   "source": []
  },
  {
   "cell_type": "code",
   "execution_count": 102,
   "id": "1168508b-213c-44ee-989f-8ea61bd38cbd",
   "metadata": {},
   "outputs": [],
   "source": [
    "def add_reverse1(n:list, k:list):\n",
    "    # Creating an empty list\n",
    "    new_list = []\n",
    "    if len(n) == len(k):\n",
    "        for i in range(0, len(n)):\n",
    "            # adding and appending corresponding numbers\n",
    "            new_list.append(n[i] + k[i])\n",
    "            # Reversing new list\n",
    "        new_list.reverse()\n",
    "        return new_list\n",
    "    else:\n",
    "        return f'Lists have different lenghts'"
   ]
  },
  {
   "cell_type": "code",
   "execution_count": 103,
   "id": "7e6663d1-78c4-423d-9692-bf875024f7c4",
   "metadata": {},
   "outputs": [
    {
     "data": {
      "text/plain": [
       "[8, 112, 68, 22]"
      ]
     },
     "execution_count": 103,
     "metadata": {},
     "output_type": "execute_result"
    }
   ],
   "source": [
    "add_reverse1([10, 12, 34, 2], [12, 56, 78, 6])"
   ]
  },
  {
   "cell_type": "code",
   "execution_count": null,
   "id": "75a7c17a-e679-4079-bdda-8ee5a8926d27",
   "metadata": {},
   "outputs": [],
   "source": []
  },
  {
   "cell_type": "markdown",
   "id": "a4ce6bf6-e7bb-4b99-914f-bfe056b913d5",
   "metadata": {},
   "source": [
    "Day 19: Words and Elements\n",
    "Write two functions. The first function is called count_words which takes a string of words and counts how many words are in\n",
    "the string. \n",
    "The second function called count_elements takes a string of words and counts how many elements are in the string. Do not\n",
    "count the whitespaces. The first function will return the number of words in a string and the second one will return the number\n",
    "of elements (less whitespace). If you pass ‘I love learning’, the count_words function should return 3 words and count_elements should return 13 elements."
   ]
  },
  {
   "cell_type": "code",
   "execution_count": 79,
   "id": "a1828e82-8df7-46b7-b64e-c20a83f94f66",
   "metadata": {},
   "outputs": [],
   "source": [
    "def count_words(string):\n",
    "    return len(string.split(' '))"
   ]
  },
  {
   "cell_type": "code",
   "execution_count": 72,
   "id": "f9d4ac72-7ae9-43c7-afec-dbfef7903e7c",
   "metadata": {},
   "outputs": [],
   "source": [
    "txt = 'I love learning'"
   ]
  },
  {
   "cell_type": "code",
   "execution_count": 80,
   "id": "5d288a0c-a515-4d14-8120-5330400f7823",
   "metadata": {},
   "outputs": [
    {
     "data": {
      "text/plain": [
       "3"
      ]
     },
     "execution_count": 80,
     "metadata": {},
     "output_type": "execute_result"
    }
   ],
   "source": [
    "count_words(txt)"
   ]
  },
  {
   "cell_type": "code",
   "execution_count": 91,
   "id": "0c6469b1-d8c3-4a9f-b79d-af2a4f165dad",
   "metadata": {},
   "outputs": [],
   "source": [
    "def count_elements(string):\n",
    "    elements_list = list(string)\n",
    "    for x in  elements_list:\n",
    "        if x == ' ':\n",
    "            elements_list.remove(x)\n",
    "    return len(elements_list)"
   ]
  },
  {
   "cell_type": "code",
   "execution_count": 92,
   "id": "94492fa5-2745-4a0c-ac69-63521c565b47",
   "metadata": {},
   "outputs": [
    {
     "data": {
      "text/plain": [
       "13"
      ]
     },
     "execution_count": 92,
     "metadata": {},
     "output_type": "execute_result"
    }
   ],
   "source": [
    "count_elements(txt)"
   ]
  },
  {
   "cell_type": "code",
   "execution_count": null,
   "id": "b4db2feb-c3e6-4c2d-933e-6deb72258473",
   "metadata": {},
   "outputs": [],
   "source": []
  },
  {
   "cell_type": "code",
   "execution_count": 118,
   "id": "9f554fc3-f41a-4b5a-ab58-8dbd93db40d3",
   "metadata": {},
   "outputs": [],
   "source": [
    "def count_characters(a):\n",
    "    a = a.replace(' ', '')\n",
    "    return f'The string has ' \\\n",
    "           f'{len(a)} elements '"
   ]
  },
  {
   "cell_type": "code",
   "execution_count": 119,
   "id": "3d15be0c-31ae-44c2-a432-dd0da8c331f8",
   "metadata": {},
   "outputs": [
    {
     "data": {
      "text/plain": [
       "'The string has 13 elements '"
      ]
     },
     "execution_count": 119,
     "metadata": {},
     "output_type": "execute_result"
    }
   ],
   "source": [
    "count_characters(txt)"
   ]
  },
  {
   "cell_type": "code",
   "execution_count": null,
   "id": "5b2ec1d5-262e-4054-aa52-7d682107c566",
   "metadata": {},
   "outputs": [],
   "source": []
  }
 ],
 "metadata": {
  "kernelspec": {
   "display_name": "curs_python_env",
   "language": "python",
   "name": "curs_python_env"
  },
  "language_info": {
   "codemirror_mode": {
    "name": "ipython",
    "version": 3
   },
   "file_extension": ".py",
   "mimetype": "text/x-python",
   "name": "python",
   "nbconvert_exporter": "python",
   "pygments_lexer": "ipython3",
   "version": "3.10.5"
  }
 },
 "nbformat": 4,
 "nbformat_minor": 5
}
