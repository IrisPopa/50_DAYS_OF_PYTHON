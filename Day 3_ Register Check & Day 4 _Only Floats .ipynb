{
 "cells": [
  {
   "cell_type": "markdown",
   "id": "16406ffe-fc36-4fe1-b9c1-0348f38eea37",
   "metadata": {},
   "source": [
    "Write a function called register_check that checks how many students are in school. The function takes a dictionary as a\n",
    "parameter. If the student is in school, the dictionary says ‘yes’. If the student is not in school, the dictionary says ‘no’. Your\n",
    "function should return the number of students in school. Use the dictionary below. Your function should return 3."
   ]
  },
  {
   "cell_type": "code",
   "execution_count": 3,
   "id": "2dc97569-6d4c-4743-8444-7dee72725e8d",
   "metadata": {},
   "outputs": [],
   "source": [
    "register = {'Michael':'yes','John': 'no', 'Peter':'yes', 'Mary': 'yes'}"
   ]
  },
  {
   "cell_type": "code",
   "execution_count": 16,
   "id": "a442392e-3069-4fef-9f0c-580dd977cb42",
   "metadata": {},
   "outputs": [],
   "source": [
    "def register_check(dict):\n",
    "    result = 0\n",
    "    for k in dict.keys():\n",
    "        if dict[k] == 'yes':\n",
    "            result += 1\n",
    "    return result"
   ]
  },
  {
   "cell_type": "code",
   "execution_count": 17,
   "id": "5532b5b2-ee3b-4177-ad0b-277cad231ab7",
   "metadata": {},
   "outputs": [
    {
     "data": {
      "text/plain": [
       "3"
      ]
     },
     "execution_count": 17,
     "metadata": {},
     "output_type": "execute_result"
    }
   ],
   "source": [
    "register_check(register)"
   ]
  },
  {
   "cell_type": "markdown",
   "id": "c4d3010a-b7c4-4579-8173-2c76b3c2ae4f",
   "metadata": {},
   "source": [
    "names = [\"kerry\", \"dickson\", \"John\", \"Mary\",\"carol\", \"Rose\", \"adam\"]\n",
    "You are given a list of names above. This list is made up of names of lowercase and uppercase letters. Your task is to write a code\n",
    "that will return a tuple of all the names in the list that have only lowercase letters. Your tuple should have names sorted\n",
    "alphabetically in descending order. Using the list above, your code should return:\n",
    "('kerry', 'dickson', 'carol', 'adam')"
   ]
  },
  {
   "cell_type": "code",
   "execution_count": 62,
   "id": "2c98ca0e-d42f-4b42-9efc-8db4124c86ef",
   "metadata": {},
   "outputs": [],
   "source": [
    "names = [\"kerry\", \"dickson\", \"John\", \"Mary\",\"carol\", \"Rose\", \"adam\"]"
   ]
  },
  {
   "cell_type": "code",
   "execution_count": 104,
   "id": "6811a575-825f-4649-8f75-f71b9d66d8dd",
   "metadata": {},
   "outputs": [],
   "source": [
    "def names_lowercase(list_names):\n",
    "    list_lowercase = []\n",
    "    for x in range(0, len(list_names)):\n",
    "        if list_names[x].istitle() == False:\n",
    "            list_lowercase.append(list_names[x])\n",
    "            list_lowercase.sort(reverse=True)\n",
    "    return tuple(list_lowercase)"
   ]
  },
  {
   "cell_type": "code",
   "execution_count": 106,
   "id": "781d162c-d9a5-4db0-9f21-5496c3285daa",
   "metadata": {},
   "outputs": [
    {
     "data": {
      "text/plain": [
       "tuple"
      ]
     },
     "execution_count": 106,
     "metadata": {},
     "output_type": "execute_result"
    }
   ],
   "source": [
    "type(names_lowercase(names))"
   ]
  },
  {
   "cell_type": "code",
   "execution_count": 107,
   "id": "795973e1-5f7d-4180-83db-91705825b86d",
   "metadata": {},
   "outputs": [
    {
     "data": {
      "text/plain": [
       "('kerry', 'dickson', 'carol', 'adam')"
      ]
     },
     "execution_count": 107,
     "metadata": {},
     "output_type": "execute_result"
    }
   ],
   "source": [
    "names_lowercase(names)"
   ]
  },
  {
   "cell_type": "code",
   "execution_count": null,
   "id": "b635a76b-5653-4759-a736-7ee0b936e51a",
   "metadata": {},
   "outputs": [],
   "source": []
  },
  {
   "cell_type": "raw",
   "id": "2eccc621-2a77-4724-bb3c-7bc0979eafd1",
   "metadata": {},
   "source": [
    "Write a function called only_floats, which takes two parameters a and b, and returns 2 if both arguments are floats, returns 1 if only one argument is a float, and returns 0 if neither argument is a float. If you pass (12.1, 23) as an argument, your function should return a 1."
   ]
  },
  {
   "cell_type": "code",
   "execution_count": 109,
   "id": "a181198e-cf07-4c9d-81a3-f18d30f127a5",
   "metadata": {},
   "outputs": [],
   "source": [
    "def only_floats(a,b):\n",
    "    if type(a) is float and type(b) is float:\n",
    "        return 2\n",
    "    elif type(a) is float and type(b) is not float or type(b) is float and type(a) is not float:\n",
    "        return 1\n",
    "    else:\n",
    "        return 0\n",
    "    "
   ]
  },
  {
   "cell_type": "code",
   "execution_count": 110,
   "id": "563c3ef8-ccde-475e-9069-bd06ff554443",
   "metadata": {},
   "outputs": [
    {
     "data": {
      "text/plain": [
       "1"
      ]
     },
     "execution_count": 110,
     "metadata": {},
     "output_type": "execute_result"
    }
   ],
   "source": [
    "only_floats(12.1, 23)"
   ]
  },
  {
   "cell_type": "code",
   "execution_count": 111,
   "id": "0ac0dca5-5fa0-4902-a4d1-211af4c49800",
   "metadata": {},
   "outputs": [
    {
     "data": {
      "text/plain": [
       "2"
      ]
     },
     "execution_count": 111,
     "metadata": {},
     "output_type": "execute_result"
    }
   ],
   "source": [
    "only_floats(10.2, 25.4)"
   ]
  },
  {
   "cell_type": "code",
   "execution_count": 112,
   "id": "fb456587-fe42-420a-8901-7f701931dfde",
   "metadata": {},
   "outputs": [
    {
     "data": {
      "text/plain": [
       "0"
      ]
     },
     "execution_count": 112,
     "metadata": {},
     "output_type": "execute_result"
    }
   ],
   "source": [
    "only_floats(11, 65)"
   ]
  },
  {
   "cell_type": "code",
   "execution_count": null,
   "id": "d23ea4ff-414c-4c2b-8c63-f1126776ee8e",
   "metadata": {},
   "outputs": [],
   "source": []
  },
  {
   "cell_type": "markdown",
   "id": "4725a996-4104-410a-a37c-5a8e91dac555",
   "metadata": {},
   "source": [
    "Write a function called word_index that takes one argument, a list of strings and returns the index of the longest word in the\n",
    "list. If there is no longest word (if all the strings are of the same length), the function should return zero (0). For example, the list\n",
    "below should return 2. \n",
    "words1 = [\"Hate\", \"remorse\", \"vengeance\"]\n",
    "And this list belowword_index, shoul return zero (0)\n",
    "words2 = [\"Love\", \"Hate\"]"
   ]
  },
  {
   "cell_type": "code",
   "execution_count": 261,
   "id": "cfd4cc4e-e24e-4270-99b5-3a688e40c829",
   "metadata": {},
   "outputs": [],
   "source": [
    "def  word_index(list_words):\n",
    "    for word in list_words:\n",
    "        for i in range (0, len(list_words)-1):\n",
    "                if len(list_words[i])== len(list_words[i+1]):\n",
    "                    return 0\n",
    "                elif len(word)== len(max(list_words)):\n",
    "                    return list_words.index(word)\n",
    "        "
   ]
  },
  {
   "cell_type": "code",
   "execution_count": 269,
   "id": "a1aca6c6-8c57-46f1-88b5-93addaa53f8a",
   "metadata": {},
   "outputs": [],
   "source": [
    "words1 = [\"Hate\", \"remorse\", \"vengeance\"]"
   ]
  },
  {
   "cell_type": "code",
   "execution_count": 263,
   "id": "b6fb034b-3eff-4b73-a579-fe8debb63fc4",
   "metadata": {},
   "outputs": [
    {
     "data": {
      "text/plain": [
       "2"
      ]
     },
     "execution_count": 263,
     "metadata": {},
     "output_type": "execute_result"
    }
   ],
   "source": [
    "word_index(words1)"
   ]
  },
  {
   "cell_type": "code",
   "execution_count": 264,
   "id": "a77ceaa5-6944-4630-b003-a9d3347db6a3",
   "metadata": {},
   "outputs": [],
   "source": [
    "words2 = [\"Love\", \"Hate\"]"
   ]
  },
  {
   "cell_type": "code",
   "execution_count": 265,
   "id": "6cdc1415-05d5-4106-af3a-95b2a504fef8",
   "metadata": {},
   "outputs": [
    {
     "data": {
      "text/plain": [
       "0"
      ]
     },
     "execution_count": 265,
     "metadata": {},
     "output_type": "execute_result"
    }
   ],
   "source": [
    "word_index(words2)"
   ]
  },
  {
   "cell_type": "code",
   "execution_count": 266,
   "id": "b3f5650d-b79c-4fc0-9233-c28efbf49477",
   "metadata": {},
   "outputs": [
    {
     "data": {
      "text/plain": [
       "9"
      ]
     },
     "execution_count": 266,
     "metadata": {},
     "output_type": "execute_result"
    }
   ],
   "source": [
    "len(max(words1))"
   ]
  },
  {
   "cell_type": "code",
   "execution_count": 271,
   "id": "631c0267-25e4-40ad-9d93-db82e99a02a4",
   "metadata": {},
   "outputs": [
    {
     "data": {
      "text/plain": [
       "['vengeance', 'remorse', 'Hate']"
      ]
     },
     "execution_count": 271,
     "metadata": {},
     "output_type": "execute_result"
    }
   ],
   "source": [
    "words1.sort(key=len, reverse=True)\n",
    "words1"
   ]
  },
  {
   "cell_type": "code",
   "execution_count": null,
   "id": "354f5277-c40c-4f67-90a2-6277366581c3",
   "metadata": {},
   "outputs": [],
   "source": []
  }
 ],
 "metadata": {
  "kernelspec": {
   "display_name": "curs_python_env",
   "language": "python",
   "name": "curs_python_env"
  },
  "language_info": {
   "codemirror_mode": {
    "name": "ipython",
    "version": 3
   },
   "file_extension": ".py",
   "mimetype": "text/x-python",
   "name": "python",
   "nbconvert_exporter": "python",
   "pygments_lexer": "ipython3",
   "version": "3.10.5"
  }
 },
 "nbformat": 4,
 "nbformat_minor": 5
}
