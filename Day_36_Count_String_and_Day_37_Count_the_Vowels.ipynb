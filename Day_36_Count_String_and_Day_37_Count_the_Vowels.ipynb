{
 "cells": [
  {
   "cell_type": "markdown",
   "id": "631ce4b9-d53b-4153-9bfb-21b2fe513375",
   "metadata": {},
   "source": [
    "## Day 36: Count String\n",
    "Write a function called count that takes one argument a string,\n",
    "and returns a dictionary of how many times each element\n",
    "appears in the string. For example, ‘hello’ should return:\n",
    "{‘h’:1,’e’: 1,’l’:2, ‘o’:1}."
   ]
  },
  {
   "cell_type": "code",
   "execution_count": 7,
   "id": "c0072014-d903-4691-b17e-f086a009aad2",
   "metadata": {},
   "outputs": [],
   "source": [
    "def count(strarg):\n",
    "    str_dict = {}\n",
    "    for x in strarg:\n",
    "        str_dict.update({x:strarg.count(x)})\n",
    "    return str_dict"
   ]
  },
  {
   "cell_type": "code",
   "execution_count": 24,
   "id": "59332ae7-6c11-42b3-b366-50199c792c79",
   "metadata": {},
   "outputs": [
    {
     "data": {
      "text/plain": [
       "{'W': 1,\n",
       " 'r': 1,\n",
       " 'i': 2,\n",
       " 't': 3,\n",
       " 'e': 2,\n",
       " ' ': 4,\n",
       " 'a': 2,\n",
       " 'f': 1,\n",
       " 'u': 2,\n",
       " 'n': 3,\n",
       " 'c': 3,\n",
       " 'o': 2,\n",
       " 'l': 2,\n",
       " 'd': 1}"
      ]
     },
     "execution_count": 24,
     "metadata": {},
     "output_type": "execute_result"
    }
   ],
   "source": [
    "count('Write a function called count')"
   ]
  },
  {
   "cell_type": "code",
   "execution_count": null,
   "id": "b648db06-2ef3-4a01-9029-c80022c8cdd1",
   "metadata": {},
   "outputs": [],
   "source": []
  },
  {
   "cell_type": "code",
   "execution_count": 21,
   "id": "111b5546-ed27-4579-8abc-64e745d407f2",
   "metadata": {},
   "outputs": [],
   "source": [
    "def count1(a):\n",
    "    d = {}\n",
    "    for i in range(len(a)):\n",
    "        x = a[i]\n",
    "        count = 0\n",
    "        for j in range(i, len(a)):\n",
    "            if a[j] == a[i]:\n",
    "                count = count + 1\n",
    "        countz = dict({x: count})\n",
    "        # updating the dictionary\n",
    "        if x not in d.keys():\n",
    "            d.update(countz)\n",
    "    return d"
   ]
  },
  {
   "cell_type": "code",
   "execution_count": 23,
   "id": "e3d31d39-5bc6-485a-8ebe-206027d600a6",
   "metadata": {},
   "outputs": [
    {
     "data": {
      "text/plain": [
       "{'W': 1,\n",
       " 'r': 1,\n",
       " 'i': 2,\n",
       " 't': 3,\n",
       " 'e': 2,\n",
       " ' ': 4,\n",
       " 'a': 2,\n",
       " 'f': 1,\n",
       " 'u': 2,\n",
       " 'n': 3,\n",
       " 'c': 3,\n",
       " 'o': 2,\n",
       " 'l': 2,\n",
       " 'd': 1}"
      ]
     },
     "execution_count": 23,
     "metadata": {},
     "output_type": "execute_result"
    }
   ],
   "source": [
    " count1('Write a function called count')"
   ]
  },
  {
   "cell_type": "code",
   "execution_count": null,
   "id": "e2d47ce6-966b-4d78-9347-3cb48ce33438",
   "metadata": {},
   "outputs": [],
   "source": []
  },
  {
   "cell_type": "markdown",
   "id": "ae2efe27-5e4c-4a19-803b-edacd549d412",
   "metadata": {},
   "source": [
    "## Day 37: Count the Vowels\n",
    "Create a function called count_the_vowels. The function\n",
    "takes one argument, a string, and returns the number of vowels\n",
    "in the string. For example, ‘hello’ should return 2 vowels. If a\n",
    "vowel appears in a string more than once it should be counted\n",
    "as one. For example, ‘saas’ should return 1 vowel. Your code\n",
    "should count lowercase and uppercase vowels"
   ]
  },
  {
   "cell_type": "code",
   "execution_count": 48,
   "id": "751d75d0-3092-4c8f-ac0b-0f356c18998f",
   "metadata": {},
   "outputs": [],
   "source": [
    "def count_the_vowels(str_arg):\n",
    "    count = 0\n",
    "    vowel_list = ['a', 'e', 'i', 'o', 'u'] \n",
    "    for x in set(str_arg.lower()):\n",
    "        if  x in vowel_list:\n",
    "                count +=1\n",
    "    return count"
   ]
  },
  {
   "cell_type": "code",
   "execution_count": 53,
   "id": "a8942c4f-35b8-4758-b7c1-0f5118324dc3",
   "metadata": {},
   "outputs": [
    {
     "data": {
      "text/plain": [
       "4"
      ]
     },
     "execution_count": 53,
     "metadata": {},
     "output_type": "execute_result"
    }
   ],
   "source": [
    "count_the_vowels('If a vOwel appears')"
   ]
  },
  {
   "cell_type": "code",
   "execution_count": null,
   "id": "2441fd88-10b7-4ed8-a533-36ef09b7d2fb",
   "metadata": {},
   "outputs": [],
   "source": []
  },
  {
   "cell_type": "code",
   "execution_count": 54,
   "id": "051bc90c-2e4c-451e-93ae-8a9f54a71b9a",
   "metadata": {},
   "outputs": [],
   "source": [
    "def count_vowels1(a):\n",
    "    vowels = []\n",
    "    for letter in a:\n",
    "        if letter in 'AEIOUaeiou':\n",
    "            if letter not in vowels:\n",
    "                vowels.append(letter)\n",
    "    return len(vowels)"
   ]
  },
  {
   "cell_type": "code",
   "execution_count": 55,
   "id": "16798866-4b67-4e03-89b0-05ee73fb9357",
   "metadata": {},
   "outputs": [
    {
     "data": {
      "text/plain": [
       "4"
      ]
     },
     "execution_count": 55,
     "metadata": {},
     "output_type": "execute_result"
    }
   ],
   "source": [
    "count_vowels1('If a vOwel appears')"
   ]
  },
  {
   "cell_type": "code",
   "execution_count": null,
   "id": "2c16da69-e25d-494e-8731-07d5efb0d5b9",
   "metadata": {},
   "outputs": [],
   "source": []
  }
 ],
 "metadata": {
  "kernelspec": {
   "display_name": "curs_python_env",
   "language": "python",
   "name": "curs_python_env"
  },
  "language_info": {
   "codemirror_mode": {
    "name": "ipython",
    "version": 3
   },
   "file_extension": ".py",
   "mimetype": "text/x-python",
   "name": "python",
   "nbconvert_exporter": "python",
   "pygments_lexer": "ipython3",
   "version": "3.10.5"
  }
 },
 "nbformat": 4,
 "nbformat_minor": 5
}
