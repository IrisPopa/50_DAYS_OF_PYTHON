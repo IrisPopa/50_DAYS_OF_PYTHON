{
 "cells": [
  {
   "cell_type": "markdown",
   "id": "6bd0fef9",
   "metadata": {},
   "source": [
    "**Write a function called convert_add that takes a list of strings as an argument and converts it to integers and sums the list. For example [‘1’, ‘3’, ‘5’] should be converted to [1, 3, 5] and summed to 9."
   ]
  },
  {
   "cell_type": "code",
   "execution_count": 29,
   "id": "f9fead66",
   "metadata": {},
   "outputs": [],
   "source": [
    "def convert_add1(list_of_strings):\n",
    "    list_of_integers =[]\n",
    "    for x in list_of_strings:\n",
    "            list_of_integers.append(int(x))\n",
    "    result = sum(list_of_integers)\n",
    "    return result"
   ]
  },
  {
   "cell_type": "code",
   "execution_count": 30,
   "id": "18164cd6",
   "metadata": {},
   "outputs": [
    {
     "data": {
      "text/plain": [
       "16"
      ]
     },
     "execution_count": 30,
     "metadata": {},
     "output_type": "execute_result"
    }
   ],
   "source": [
    "convert_add1(['1', '3', '5', '7'])"
   ]
  },
  {
   "cell_type": "code",
   "execution_count": 31,
   "id": "743338c3",
   "metadata": {},
   "outputs": [],
   "source": [
    "def convert_add2(list_of_strings):\n",
    "    list_of_integers =[]\n",
    "    count = 0 \n",
    "    for x in list_of_strings:\n",
    "            list_of_integers.append(int(x))\n",
    "    for y in list_of_integers:\n",
    "        count +=y\n",
    "    return count"
   ]
  },
  {
   "cell_type": "code",
   "execution_count": 32,
   "id": "82722248",
   "metadata": {},
   "outputs": [
    {
     "data": {
      "text/plain": [
       "16"
      ]
     },
     "execution_count": 32,
     "metadata": {},
     "output_type": "execute_result"
    }
   ],
   "source": [
    "convert_add2(['1', '3', '5', '7'])"
   ]
  },
  {
   "cell_type": "code",
   "execution_count": null,
   "id": "bc49ba8e",
   "metadata": {},
   "outputs": [],
   "source": []
  },
  {
   "cell_type": "markdown",
   "id": "84c5dea1",
   "metadata": {},
   "source": [
    "Write a function called check_duplicates that takes a list of strings as an argument. The function should check if the list has\n",
    "any duplicates. If there are duplicates, the function should return the duplicates. If there are no duplicates, the function should return \"No duplicates\". For example, the list of fruits below should return apple as a duplicate and list of names should return \"no duplicates\".\n",
    "fruits = ['apple', 'orange', 'banana', 'apple']\n",
    "names = ['Yoda', 'Moses', 'Joshua', 'Mark']"
   ]
  },
  {
   "cell_type": "code",
   "execution_count": 54,
   "id": "d0302a33",
   "metadata": {},
   "outputs": [],
   "source": [
    "def check_duplicates (list_of_strings):\n",
    "    for x in list_of_strings:\n",
    "        if list_of_strings.count(x) >1:\n",
    "            return x\n",
    "        else:\n",
    "            return f'No duplicate'"
   ]
  },
  {
   "cell_type": "code",
   "execution_count": 55,
   "id": "fabf97f6",
   "metadata": {},
   "outputs": [
    {
     "data": {
      "text/plain": [
       "'apple'"
      ]
     },
     "execution_count": 55,
     "metadata": {},
     "output_type": "execute_result"
    }
   ],
   "source": [
    "check_duplicates(['apple', 'orange', 'banana', 'apple'])"
   ]
  },
  {
   "cell_type": "code",
   "execution_count": 52,
   "id": "1899af51",
   "metadata": {},
   "outputs": [],
   "source": [
    "names = ['Yoda', 'Moses', 'Joshua', 'Mark']"
   ]
  },
  {
   "cell_type": "code",
   "execution_count": 56,
   "id": "b0debb0f",
   "metadata": {},
   "outputs": [
    {
     "data": {
      "text/plain": [
       "'No duplicate'"
      ]
     },
     "execution_count": 56,
     "metadata": {},
     "output_type": "execute_result"
    }
   ],
   "source": [
    "check_duplicates(names)"
   ]
  },
  {
   "cell_type": "code",
   "execution_count": null,
   "id": "db1809f3",
   "metadata": {},
   "outputs": [],
   "source": []
  }
 ],
 "metadata": {
  "kernelspec": {
   "display_name": "curs_python_env",
   "language": "python",
   "name": "curs_python_env"
  },
  "language_info": {
   "codemirror_mode": {
    "name": "ipython",
    "version": 3
   },
   "file_extension": ".py",
   "mimetype": "text/x-python",
   "name": "python",
   "nbconvert_exporter": "python",
   "pygments_lexer": "ipython3",
   "version": "3.10.5"
  }
 },
 "nbformat": 4,
 "nbformat_minor": 5
}
