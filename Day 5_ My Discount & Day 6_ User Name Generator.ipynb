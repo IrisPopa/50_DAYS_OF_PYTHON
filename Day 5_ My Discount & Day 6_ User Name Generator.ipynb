{
 "cells": [
  {
   "cell_type": "markdown",
   "id": "8f73e23c-b8a9-45c6-b4f2-233243d1bc7f",
   "metadata": {},
   "source": [
    "Create a function called my_discount. The function takes no arguments but asks the user to input the price and the discount (percentage) of the product. Once the user inputs the\n",
    "price and discount, it calculates the price after the discount. The function should return the price after the discount. For example, if the user enters 150 as price and 15% as the discount, your function should return 127.5."
   ]
  },
  {
   "cell_type": "code",
   "execution_count": 1,
   "id": "6687c968-9766-4974-8da4-a5ed0710006a",
   "metadata": {},
   "outputs": [],
   "source": [
    "def my_discount():\n",
    "    price = int(input('The price is:'))\n",
    "    discount = int(input('The dicount is:'))\n",
    "    net_price = price - price*discount/100\n",
    "    return net_price\n",
    "    "
   ]
  },
  {
   "cell_type": "code",
   "execution_count": 2,
   "id": "60d4f939-d920-4b8e-bf5e-8c2233efa440",
   "metadata": {},
   "outputs": [
    {
     "name": "stdin",
     "output_type": "stream",
     "text": [
      "The price is: 150\n",
      "The dicount is: 15\n"
     ]
    },
    {
     "data": {
      "text/plain": [
       "127.5"
      ]
     },
     "execution_count": 2,
     "metadata": {},
     "output_type": "execute_result"
    }
   ],
   "source": [
    "my_discount()"
   ]
  },
  {
   "cell_type": "markdown",
   "id": "ee67ae5f-122f-4719-9fd8-d1c0ab3f1e84",
   "metadata": {},
   "source": [
    "You work for a school and your boss wants to know how many female and male students are enrolled in the school. The school\n",
    "has saved the students in a list. Your task is to write a code that will count how many males and females are in the list. Here is a\n",
    "list below:"
   ]
  },
  {
   "cell_type": "code",
   "execution_count": 5,
   "id": "1695d916-def0-4e1f-a84f-476e25d99384",
   "metadata": {},
   "outputs": [],
   "source": [
    "students = ['Male', 'Female', 'female', 'male', 'male', 'male', 'female', 'male', 'Female', 'Male', 'Female', 'Male', 'female']"
   ]
  },
  {
   "cell_type": "code",
   "execution_count": 69,
   "id": "d8ec6ef9-d8b6-41b6-84d9-e2994bf85394",
   "metadata": {},
   "outputs": [],
   "source": [
    "def count_gender(list_students: list) ->list:\n",
    "    count_males=0\n",
    "    count_femeals=0\n",
    "    list_gender =[]\n",
    "    for y in list_students:\n",
    "        if y.lower() == 'male':\n",
    "            count_males +=1\n",
    "        else:\n",
    "            count_femeals +=1\n",
    "    list_gender.append(('Males', count_males))\n",
    "    list_gender.append(('Female', count_femeals))\n",
    "    return list_gender"
   ]
  },
  {
   "cell_type": "code",
   "execution_count": 68,
   "id": "19eec15e-db55-41e4-99d0-ca3600fae90f",
   "metadata": {},
   "outputs": [
    {
     "data": {
      "text/plain": [
       "[('Males', 7), ('Female', 6)]"
      ]
     },
     "execution_count": 68,
     "metadata": {},
     "output_type": "execute_result"
    }
   ],
   "source": [
    "count_gender(students)"
   ]
  },
  {
   "cell_type": "code",
   "execution_count": null,
   "id": "93798d9f-43ea-429b-903d-92a4050d095b",
   "metadata": {},
   "outputs": [],
   "source": []
  },
  {
   "cell_type": "markdown",
   "id": "d7aeba49-ee8d-4944-bee6-b8cdb3fb8853",
   "metadata": {},
   "source": [
    "Write a function called user_name that generates a username from the user’s email. The code should ask the user to input an\n",
    "email and the code should return everything before the @ sign as their user name. For example, if someone enters ben@gmail.com,\n",
    "the code should return ben as their user name."
   ]
  },
  {
   "cell_type": "code",
   "execution_count": 170,
   "id": "290f93a8-ceba-47d9-8863-835664e4403e",
   "metadata": {},
   "outputs": [],
   "source": [
    "def user_name1():\n",
    "    email=input('Enter your email:')\n",
    "    email_list =[]\n",
    "    for x in email:\n",
    "         email_list.append(x)\n",
    "    user_list = email_list[:email_list.index('@')]\n",
    "    user_name = ''.join(user_list)\n",
    "    return f'The user name is: {user_name}'"
   ]
  },
  {
   "cell_type": "code",
   "execution_count": 171,
   "id": "1dd24f5a-e4b7-44e7-8ebd-a55303b2bd71",
   "metadata": {},
   "outputs": [
    {
     "name": "stdin",
     "output_type": "stream",
     "text": [
      "Enter your email: mihaela.popa@yahoo.com\n"
     ]
    },
    {
     "data": {
      "text/plain": [
       "'The user name is: mihaela.popa'"
      ]
     },
     "execution_count": 171,
     "metadata": {},
     "output_type": "execute_result"
    }
   ],
   "source": [
    "user_name1()"
   ]
  },
  {
   "cell_type": "code",
   "execution_count": 172,
   "id": "dcf335c5-254c-4d5f-83ad-10d99eb36802",
   "metadata": {},
   "outputs": [],
   "source": [
    "def user_name2 ():\n",
    "    your_email = input(\"Enter your email\")\n",
    "    user_name = your_email.split('@')[0]\n",
    "    return f'Your user name is: {user_name}'"
   ]
  },
  {
   "cell_type": "code",
   "execution_count": 173,
   "id": "a8b107f0-1ce0-45eb-b759-76972e952e54",
   "metadata": {},
   "outputs": [
    {
     "name": "stdin",
     "output_type": "stream",
     "text": [
      "Enter your email valentina.popa@gmail.com\n"
     ]
    },
    {
     "data": {
      "text/plain": [
       "'Your user name is: valentina.popa'"
      ]
     },
     "execution_count": 173,
     "metadata": {},
     "output_type": "execute_result"
    }
   ],
   "source": [
    "user_name2 ()"
   ]
  },
  {
   "cell_type": "code",
   "execution_count": 174,
   "id": "5e663a5a-1e9c-43d8-98f5-2162dd6c3f0a",
   "metadata": {},
   "outputs": [
    {
     "data": {
      "text/plain": [
       "['mihaela.popa', 'yahoo.com']"
      ]
     },
     "execution_count": 174,
     "metadata": {},
     "output_type": "execute_result"
    }
   ],
   "source": [
    " email = 'mihaela.popa@yahoo.com'\n",
    " email.split('@')"
   ]
  },
  {
   "cell_type": "code",
   "execution_count": 169,
   "id": "ae469df2-104f-48ad-b7f7-c059e4a92898",
   "metadata": {},
   "outputs": [
    {
     "data": {
      "text/plain": [
       "'mihaela.popa'"
      ]
     },
     "execution_count": 169,
     "metadata": {},
     "output_type": "execute_result"
    }
   ],
   "source": [
    "email.split('@')[0]"
   ]
  },
  {
   "cell_type": "code",
   "execution_count": null,
   "id": "c34b9110-d9e0-4d77-ae78-496e59b774ba",
   "metadata": {},
   "outputs": [],
   "source": []
  },
  {
   "cell_type": "markdown",
   "id": "cd00a16f-0bc6-48e9-bf8e-2e358c12de98",
   "metadata": {},
   "source": [
    "Write a function called zeroed code that takes a list of numbers as an argument. The code should zero (0) the first and the last\n",
    "number in the list. For example, if the input is [2, 5, 7, 8, 9], your code should return [0, 5, 7, 8, 0]"
   ]
  },
  {
   "cell_type": "code",
   "execution_count": 194,
   "id": "c298083a-cc35-4e8b-b465-0d933cf3b536",
   "metadata": {},
   "outputs": [],
   "source": [
    "def zeroed_code(numbers_list)-> list:\n",
    "    numbers_list[0] = 0\n",
    "    numbers_list[-1] = 0 \n",
    "    return numbers_list "
   ]
  },
  {
   "cell_type": "code",
   "execution_count": 195,
   "id": "d98bd2b4-624d-41a6-9824-985ad9fd4eff",
   "metadata": {},
   "outputs": [
    {
     "data": {
      "text/plain": [
       "[0, 5, 7, 8, 0]"
      ]
     },
     "execution_count": 195,
     "metadata": {},
     "output_type": "execute_result"
    }
   ],
   "source": [
    "zeroed_code([2, 5, 7, 8, 9])"
   ]
  },
  {
   "cell_type": "code",
   "execution_count": 186,
   "id": "40d5c9e3-cc46-4604-909b-428ec13e8885",
   "metadata": {},
   "outputs": [
    {
     "name": "stdin",
     "output_type": "stream",
     "text": [
      "the number is: 4\n"
     ]
    },
    {
     "data": {
      "text/plain": [
       "4"
      ]
     },
     "execution_count": 186,
     "metadata": {},
     "output_type": "execute_result"
    }
   ],
   "source": [
    "x = int(input('the number is:'))\n",
    "x"
   ]
  },
  {
   "cell_type": "code",
   "execution_count": null,
   "id": "e0ea9905-4916-481d-b9c0-13293ed75cfb",
   "metadata": {},
   "outputs": [],
   "source": []
  }
 ],
 "metadata": {
  "kernelspec": {
   "display_name": "curs_python_env",
   "language": "python",
   "name": "curs_python_env"
  },
  "language_info": {
   "codemirror_mode": {
    "name": "ipython",
    "version": 3
   },
   "file_extension": ".py",
   "mimetype": "text/x-python",
   "name": "python",
   "nbconvert_exporter": "python",
   "pygments_lexer": "ipython3",
   "version": "3.10.5"
  }
 },
 "nbformat": 4,
 "nbformat_minor": 5
}
