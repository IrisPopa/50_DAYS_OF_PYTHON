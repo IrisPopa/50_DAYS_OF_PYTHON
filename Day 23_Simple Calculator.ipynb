{
 "cells": [
  {
   "cell_type": "markdown",
   "id": "287e3ac1-81e6-4174-a636-8dbe4789b0e1",
   "metadata": {},
   "source": [
    "## Day 23: Simple Calculator\n",
    "Create a simple calculator. The calculator should be able to perform basic math operations, add, subtract, divide and multiply. The\n",
    "calculator should take input from users. The calculator should be able to handle ZeroDivisionError, NameError, and ValueError."
   ]
  },
  {
   "cell_type": "code",
   "execution_count": 1,
   "id": "ccf47e7c-2670-4fd7-bf42-9c3a0f4464d3",
   "metadata": {},
   "outputs": [],
   "source": [
    "def calculator1():\n",
    "    numbers_list = []\n",
    "    addition_result = 0 \n",
    "    subtract_rezult = 0\n",
    "    multiplication_result =0\n",
    "    divizion_result = 0\n",
    "    while True:\n",
    "        try:\n",
    "            number = input('Pleas enter a number:')\n",
    "            numbers_list.append(int(number))\n",
    "            if len(numbers_list) == 2:\n",
    "                break\n",
    "        except ValueError:\n",
    "            print('Please enter a valid number')\n",
    "    for i in range (0, len(numbers_list)-1):\n",
    "            addition_result += numbers_list[i]\n",
    "            subtract_rezult = numbers_list[i]-numbers_list[i+1]\n",
    "            multiplication_result =numbers_list[i]*numbers_list[i+1]\n",
    "            try:\n",
    "                divizion_result = numbers_list[i] / numbers_list[i+1]\n",
    "            except ZeroDivisionError:\n",
    "                return f\"You cannot divide a number by zero.Try again\"\n",
    "    return f'addition_result = {addition_result}, subtract_rezult = {subtract_rezult}, multiplication_result = {multiplication_result}, divizion_result ={divizion_result}'\n"
   ]
  },
  {
   "cell_type": "code",
   "execution_count": 3,
   "id": "a9aa34c6-3290-45e0-8c72-fa0e1ffc2e20",
   "metadata": {},
   "outputs": [
    {
     "name": "stdin",
     "output_type": "stream",
     "text": [
      "Pleas enter a number: 12\n",
      "Pleas enter a number: 0\n"
     ]
    },
    {
     "data": {
      "text/plain": [
       "'You cannot divide a number by zero.Try again'"
      ]
     },
     "execution_count": 3,
     "metadata": {},
     "output_type": "execute_result"
    }
   ],
   "source": [
    "calculator1()"
   ]
  },
  {
   "cell_type": "code",
   "execution_count": 66,
   "id": "384e16a9-3aa9-4a44-b1f6-8661401d42b4",
   "metadata": {},
   "outputs": [],
   "source": [
    "import math"
   ]
  },
  {
   "cell_type": "code",
   "execution_count": 93,
   "id": "b0dcc46e-aea8-419d-9bf4-a00b80693e91",
   "metadata": {},
   "outputs": [],
   "source": [
    "def calculator1():\n",
    "    try:\n",
    "        num1 = int(input(\"Enter number: \"))\n",
    "        # asking the user to pick an operator\n",
    "        opt = input(\"Pick operator(+,-,*,/) : \")\n",
    "        num2 = int(input('Enter another number: '))\n",
    "        if opt not in ['+', '-', '*', '/'] or len(opt) > 1:\n",
    "            print('Please enter a valid operator')\n",
    "    except ValueError:\n",
    "        print('Please enter a valid number')\n",
    "    else:\n",
    "        if opt == '+':\n",
    "            return f'ans is: {num1 + num2}'\n",
    "        elif opt == '-':\n",
    "            return f'ans is: {num1 - num2}'\n",
    "        elif opt == '*':\n",
    "            return f'ans is: {num1 * num2}'\n",
    "        elif opt == '/':\n",
    "            try:\n",
    "                return f' ans is: {num1 / num2}'\n",
    "            except ZeroDivisionError:\n",
    "                print('You cannot divide a number by zero.')\n",
    "    return 'Try again'"
   ]
  },
  {
   "cell_type": "code",
   "execution_count": 94,
   "id": "766a4283-ea91-461d-b572-11d98a382c9a",
   "metadata": {},
   "outputs": [
    {
     "name": "stdin",
     "output_type": "stream",
     "text": [
      "Enter number:  12\n",
      "Pick operator(+,-,*,/) :  /\n",
      "Enter another number:  0\n"
     ]
    },
    {
     "name": "stdout",
     "output_type": "stream",
     "text": [
      "You cannot divide a number by zero.\n"
     ]
    },
    {
     "data": {
      "text/plain": [
       "'Try again'"
      ]
     },
     "execution_count": 94,
     "metadata": {},
     "output_type": "execute_result"
    }
   ],
   "source": [
    " calculator1()"
   ]
  },
  {
   "cell_type": "code",
   "execution_count": null,
   "id": "8198602a-2fac-43c8-bebb-a00799025e87",
   "metadata": {},
   "outputs": [],
   "source": []
  },
  {
   "cell_type": "markdown",
   "id": "0fe727b1-8192-4b90-b1b0-e909ea7829a5",
   "metadata": {},
   "source": [
    "Extra Challenge: Multiply Words\n",
    "s = \"love live and laugh\"\n",
    "Write a function called multiply_words that takes a string as an argument and multiplies the length of each word in the string by the length of other words in the string. For example, the string above should return 240 - love (4) live (4) and (3) laugh (5). However, your function should only multiply words will all lowercase letters. If a word has one upper case letter, it should be ignored. For example, the following string:s = \"Hate war love Peace\" should return 12 – war (3) love (4). Hate and Peace will be ignored because they have at least one uppercase letter."
   ]
  },
  {
   "cell_type": "code",
   "execution_count": 150,
   "id": "8e393dc1-f71f-4c55-9167-145fb8f7fb19",
   "metadata": {},
   "outputs": [],
   "source": [
    "import math"
   ]
  },
  {
   "cell_type": "code",
   "execution_count": 172,
   "id": "5c3bb8d3-26c3-4ad0-b0e9-e379cb75a985",
   "metadata": {},
   "outputs": [],
   "source": [
    "def multiply_words(string):\n",
    "    multiply_words_list = []\n",
    "    multiply_words_length = 0 \n",
    "    for i in range(0, len(string.split())):\n",
    "        if string.split()[i].islower() == True:\n",
    "           multiply_words_list.append(len(string.split()[i]))\n",
    "           multiply_words_length = math.prod(multiply_words_list)\n",
    "    return f'The multiplie length of words is {multiply_words_length}' "
   ]
  },
  {
   "cell_type": "code",
   "execution_count": 158,
   "id": "8c46baed-0967-4c32-8e6b-72c799f28dd3",
   "metadata": {},
   "outputs": [],
   "source": [
    "x = \"love live and laugh\""
   ]
  },
  {
   "cell_type": "code",
   "execution_count": 170,
   "id": "47651113-1619-4553-92c2-9c6f9f90a580",
   "metadata": {},
   "outputs": [
    {
     "data": {
      "text/plain": [
       "'The multiplie length of words is 240'"
      ]
     },
     "execution_count": 170,
     "metadata": {},
     "output_type": "execute_result"
    }
   ],
   "source": [
    "multiply_words(x)"
   ]
  },
  {
   "cell_type": "code",
   "execution_count": 168,
   "id": "b7f32594-8fa9-4b08-a3d0-d44e19234a4a",
   "metadata": {},
   "outputs": [],
   "source": [
    "y = \"Hate war love Peace\""
   ]
  },
  {
   "cell_type": "code",
   "execution_count": 171,
   "id": "963dc406-d3e3-45ca-816b-ed5e64bc0a29",
   "metadata": {},
   "outputs": [
    {
     "data": {
      "text/plain": [
       "'The multiplie length of words is 12'"
      ]
     },
     "execution_count": 171,
     "metadata": {},
     "output_type": "execute_result"
    }
   ],
   "source": [
    "multiply_words(y)"
   ]
  },
  {
   "cell_type": "code",
   "execution_count": null,
   "id": "c5c3e677-17aa-462d-84d5-e7b952ed43c1",
   "metadata": {},
   "outputs": [],
   "source": []
  },
  {
   "cell_type": "code",
   "execution_count": 173,
   "id": "1bed6889-0d15-4a2c-bfe4-88ed194b3a9c",
   "metadata": {},
   "outputs": [],
   "source": [
    "def multiply_words1(s: str):\n",
    "    arr = []\n",
    "    for word in s.split():\n",
    "        if word.islower():\n",
    "            arr.append(len(word))\n",
    "            # Using the math prod to multiply the lengths\n",
    "            m = math.prod(arr)\n",
    "    return 'The prod of the word lengths is', m"
   ]
  },
  {
   "cell_type": "code",
   "execution_count": 174,
   "id": "512467be-0c15-4d3d-b5b7-39869b808ddb",
   "metadata": {},
   "outputs": [
    {
     "data": {
      "text/plain": [
       "('The prod of the word lengths is', 240)"
      ]
     },
     "execution_count": 174,
     "metadata": {},
     "output_type": "execute_result"
    }
   ],
   "source": [
    " multiply_words1(x)"
   ]
  },
  {
   "cell_type": "code",
   "execution_count": 175,
   "id": "02cf86ee-08c5-4ddd-8dfc-03c44e248343",
   "metadata": {},
   "outputs": [
    {
     "data": {
      "text/plain": [
       "('The prod of the word lengths is', 12)"
      ]
     },
     "execution_count": 175,
     "metadata": {},
     "output_type": "execute_result"
    }
   ],
   "source": [
    " multiply_words1(y)"
   ]
  },
  {
   "cell_type": "code",
   "execution_count": null,
   "id": "3431069c-bf02-4e4a-80b4-e9d115994179",
   "metadata": {},
   "outputs": [],
   "source": []
  }
 ],
 "metadata": {
  "kernelspec": {
   "display_name": "curs_python_env",
   "language": "python",
   "name": "curs_python_env"
  },
  "language_info": {
   "codemirror_mode": {
    "name": "ipython",
    "version": 3
   },
   "file_extension": ".py",
   "mimetype": "text/x-python",
   "name": "python",
   "nbconvert_exporter": "python",
   "pygments_lexer": "ipython3",
   "version": "3.10.5"
  }
 },
 "nbformat": 4,
 "nbformat_minor": 5
}
