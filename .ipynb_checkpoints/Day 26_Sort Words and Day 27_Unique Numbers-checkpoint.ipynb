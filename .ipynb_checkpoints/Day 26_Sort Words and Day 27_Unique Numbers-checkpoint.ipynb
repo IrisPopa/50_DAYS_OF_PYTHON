{
 "cells": [
  {
   "cell_type": "markdown",
   "id": "1331d09c-bc44-4a44-8fdd-2f3c0f29c9f0",
   "metadata": {},
   "source": [
    "**Day 26: Sort Words\n",
    "Write a function called sort_words that takes a string of words as an argument, removes the whitespaces, and returns a list of\n",
    "letters sorted in alphabetical order. Letters will be separated by commas. All letters should appear once in the list. This means\n",
    "that you sort and remove duplicates. For example ‘love life’ should return as ['e,f,i,l,o,v']."
   ]
  },
  {
   "cell_type": "code",
   "execution_count": 66,
   "id": "62b81dd9-b4a3-487b-a963-23d1511a46d0",
   "metadata": {},
   "outputs": [],
   "source": [
    "def sort_words(arg: str):\n",
    "    arg_set = set(arg)\n",
    "    arg_set.remove(' ')\n",
    "    arg_list= list(arg_set)\n",
    "    arg_list.sort()\n",
    "    return [','.join(arg_list)]"
   ]
  },
  {
   "cell_type": "code",
   "execution_count": 39,
   "id": "3c45df28-7012-4615-b921-f3af4aa7be48",
   "metadata": {},
   "outputs": [],
   "source": [
    "str1 = 'love life'"
   ]
  },
  {
   "cell_type": "code",
   "execution_count": 40,
   "id": "4becff0c-05f7-4ef5-8fba-d94ccf01d0ff",
   "metadata": {},
   "outputs": [],
   "source": [
    "str2 ='alphabetical order'"
   ]
  },
  {
   "cell_type": "code",
   "execution_count": 67,
   "id": "d2aa99e0-a376-4b5b-ae97-b3cd0af3b7f9",
   "metadata": {},
   "outputs": [
    {
     "data": {
      "text/plain": [
       "['e,f,i,l,o,v']"
      ]
     },
     "execution_count": 67,
     "metadata": {},
     "output_type": "execute_result"
    }
   ],
   "source": [
    "sort_words(str1)"
   ]
  },
  {
   "cell_type": "code",
   "execution_count": 68,
   "id": "ccf47e7c-2670-4fd7-bf42-9c3a0f4464d3",
   "metadata": {},
   "outputs": [
    {
     "data": {
      "text/plain": [
       "['a,b,c,d,e,h,i,l,o,p,r,t']"
      ]
     },
     "execution_count": 68,
     "metadata": {},
     "output_type": "execute_result"
    }
   ],
   "source": [
    "sort_words(str2)"
   ]
  },
  {
   "cell_type": "code",
   "execution_count": null,
   "id": "b0dcc46e-aea8-419d-9bf4-a00b80693e91",
   "metadata": {},
   "outputs": [],
   "source": []
  },
  {
   "cell_type": "code",
   "execution_count": 63,
   "id": "0c11ccce-85eb-49de-8484-90faf2061456",
   "metadata": {},
   "outputs": [],
   "source": [
    "def sort_words1(sentence):\n",
    "    list1 = []\n",
    "    sentence = sentence.replace(' ', '')\n",
    "    for i in sentence:\n",
    "        if i not in list1:\n",
    "            list1.append(i)\n",
    "    list1.sort()\n",
    "    sorted_words = [','.join(list1)]\n",
    "    return sorted_words"
   ]
  },
  {
   "cell_type": "code",
   "execution_count": 69,
   "id": "86e0ea35-f4b3-4b2c-967d-cd1c17d30815",
   "metadata": {},
   "outputs": [
    {
     "data": {
      "text/plain": [
       "['a,b,c,d,e,h,i,l,o,p,r,t']"
      ]
     },
     "execution_count": 69,
     "metadata": {},
     "output_type": "execute_result"
    }
   ],
   "source": [
    "sort_words1(str2)"
   ]
  },
  {
   "cell_type": "code",
   "execution_count": null,
   "id": "9d31c00e-4323-4784-b7c7-ff9591467473",
   "metadata": {},
   "outputs": [],
   "source": []
  },
  {
   "cell_type": "markdown",
   "id": "885b2711-f073-420e-b9b2-4607262c8da8",
   "metadata": {},
   "source": [
    "Extra Challenge: Length of Words\n",
    "s = 'Hi my name is Richard'\n",
    "Write a function called string_length that takes a string of words (words and spaces) as argument. This function should\n",
    "return the length of all the words in the string. Return the results in a form of a dictionary. The string above should return:\n",
    "{'Hi': 2, 'my': 2, 'name': 4, 'is': 2, 'Richard': 7}"
   ]
  },
  {
   "cell_type": "code",
   "execution_count": null,
   "id": "916e5a9c-3dd7-4799-a152-e7ab6dd351fc",
   "metadata": {},
   "outputs": [],
   "source": []
  },
  {
   "cell_type": "code",
   "execution_count": null,
   "id": "9925fd66-f08d-474d-bc0b-a4f48cb90801",
   "metadata": {},
   "outputs": [],
   "source": []
  },
  {
   "cell_type": "code",
   "execution_count": null,
   "id": "8198602a-2fac-43c8-bebb-a00799025e87",
   "metadata": {},
   "outputs": [],
   "source": []
  },
  {
   "cell_type": "code",
   "execution_count": null,
   "id": "f831608b-9bb2-4376-be63-d517acdd2050",
   "metadata": {},
   "outputs": [],
   "source": []
  },
  {
   "cell_type": "code",
   "execution_count": null,
   "id": "5c3bb8d3-26c3-4ad0-b0e9-e379cb75a985",
   "metadata": {},
   "outputs": [],
   "source": []
  }
 ],
 "metadata": {
  "kernelspec": {
   "display_name": "curs_python_env",
   "language": "python",
   "name": "curs_python_env"
  },
  "language_info": {
   "codemirror_mode": {
    "name": "ipython",
    "version": 3
   },
   "file_extension": ".py",
   "mimetype": "text/x-python",
   "name": "python",
   "nbconvert_exporter": "python",
   "pygments_lexer": "ipython3",
   "version": "3.10.5"
  }
 },
 "nbformat": 4,
 "nbformat_minor": 5
}
