{
 "cells": [
  {
   "cell_type": "markdown",
   "id": "995e3b41-ebbd-48eb-a3b8-bd976f7edbe0",
   "metadata": {},
   "source": [
    "##  Day 31: Longest Word \n",
    "Write a function that has one parameter and takes a list of words as an argument. The function returns the longest word from the list. Name the function longest_word. The function should return the longest word and the number of letters in that word. For example, if you pass [‘Java, ‘JavaScript’, ‘Python’], your function should return [10, JavaScript] as the longest word."
   ]
  },
  {
   "cell_type": "code",
   "execution_count": 24,
   "id": "58ac3d60-6460-44d2-b657-958dc0bbd10b",
   "metadata": {},
   "outputs": [],
   "source": [
    "def longest_word(words_list):\n",
    "    new_list =[]\n",
    "    for i in range (0, len(words_list)-1): \n",
    "        if len(words_list[i]) > len(words_list[i+1]):\n",
    "            new_list.append(len(words_list[i]))\n",
    "            new_list.append(words_list[i])\n",
    "    return new_list"
   ]
  },
  {
   "cell_type": "code",
   "execution_count": 18,
   "id": "6539e915-d249-45c6-8c3e-403292ade569",
   "metadata": {},
   "outputs": [],
   "source": [
    "words_list = ['Java', 'JavaScript', 'Python']"
   ]
  },
  {
   "cell_type": "code",
   "execution_count": 25,
   "id": "9821b7dc-0af2-42f4-86dc-fddff03c1683",
   "metadata": {},
   "outputs": [
    {
     "data": {
      "text/plain": [
       "[10, 'JavaScript']"
      ]
     },
     "execution_count": 25,
     "metadata": {},
     "output_type": "execute_result"
    }
   ],
   "source": [
    "longest_word(words_list)"
   ]
  },
  {
   "cell_type": "code",
   "execution_count": null,
   "id": "78f0c447-a9ef-48d4-897f-4441c6950aeb",
   "metadata": {},
   "outputs": [],
   "source": []
  },
  {
   "cell_type": "markdown",
   "id": "258534aa-0bb7-44f0-87cb-e38862a3ebf2",
   "metadata": {},
   "source": [
    "## Extra Challenge: Create User\n",
    "Write a function called create_user. This function asks the\n",
    "user to enter their name, age, and password. The function\n",
    "saves this information in a dictionary. For example, if the use\n",
    "enters name as Peter, age - 18 and password - love. The\n",
    "function should save the information as: {'name': 'Peter',\n",
    "'age': 18, 'password': 'love'}\n",
    "Once the information is saved. The function should print to the\n",
    "user that - \"User saved. Please login\"\n",
    "The function should then ask the user to re-enter their name\n",
    "and password. If the name and password match with what is\n",
    "saved in the dictionary, the function should return \"Logged in\n",
    "successfully\". If the name and password do not match with\n",
    "what is saved in the dictionary, the function should print\n",
    "('Wrong password or user name. Please try again'. The\n",
    "function should keep running until the user enters correct\n",
    "logging details."
   ]
  },
  {
   "cell_type": "code",
   "execution_count": 70,
   "id": "c273f638-4fa8-418c-ad6a-748e3e75ee0b",
   "metadata": {},
   "outputs": [],
   "source": [
    "def create_user():\n",
    "    user_dict={}\n",
    "    name = input('Please enter your name:')\n",
    "    age = input('Please enter your age:')\n",
    "    password = input('Please enter your password:')\n",
    "    user_dict.update({'name': name, 'age': age, 'password':password})\n",
    "    print(f'User saved. Please login')\n",
    "    while True:\n",
    "        name2 = input('Please re-enter your name:')\n",
    "        password2 = input('Please re-enter your password:')\n",
    "        if user_dict['name'] == name2 and user_dict['password'] == password2:\n",
    "            print(f'Logged in successfully')\n",
    "            break\n",
    "        else:\n",
    "            print(f'Wrong password or user name. Please try again')"
   ]
  },
  {
   "cell_type": "code",
   "execution_count": 71,
   "id": "22b732f9-b8d2-457d-a243-b448ecde9cf5",
   "metadata": {},
   "outputs": [
    {
     "name": "stdin",
     "output_type": "stream",
     "text": [
      "Please enter your name: POPA VALENTINA MIHAELA\n",
      "Please enter your age: 32\n",
      "Please enter your password: mapa\n"
     ]
    },
    {
     "name": "stdout",
     "output_type": "stream",
     "text": [
      "User saved. Please login\n"
     ]
    },
    {
     "name": "stdin",
     "output_type": "stream",
     "text": [
      "Please re-enter your name: IRIS POPA\n",
      "Please re-enter your password: mapa\n"
     ]
    },
    {
     "name": "stdout",
     "output_type": "stream",
     "text": [
      "Wrong password or user name. Please try again\n"
     ]
    },
    {
     "name": "stdin",
     "output_type": "stream",
     "text": [
      "Please re-enter your name: POPA VALENTINA MIHAELA\n",
      "Please re-enter your password: mapa\n"
     ]
    },
    {
     "name": "stdout",
     "output_type": "stream",
     "text": [
      "Logged in successfully\n"
     ]
    }
   ],
   "source": [
    "create_user()"
   ]
  },
  {
   "cell_type": "code",
   "execution_count": null,
   "id": "b7e6048f-2a7e-4e06-b468-77e354d233b1",
   "metadata": {},
   "outputs": [],
   "source": []
  }
 ],
 "metadata": {
  "kernelspec": {
   "display_name": "curs_python_env",
   "language": "python",
   "name": "curs_python_env"
  },
  "language_info": {
   "codemirror_mode": {
    "name": "ipython",
    "version": 3
   },
   "file_extension": ".py",
   "mimetype": "text/x-python",
   "name": "python",
   "nbconvert_exporter": "python",
   "pygments_lexer": "ipython3",
   "version": "3.10.5"
  }
 },
 "nbformat": 4,
 "nbformat_minor": 5
}
