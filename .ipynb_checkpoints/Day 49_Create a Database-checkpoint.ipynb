{
 "cells": [
  {
   "cell_type": "markdown",
   "id": "a568cd2f-9023-4276-8c78-a7d7a82446ca",
   "metadata": {},
   "source": [
    "# Day 49: Create a Database\n",
    "For this challenge, you are going to create a database using\n",
    "Python’s SQLite. You will import SQLite into your script.\n",
    "Create a database called movies.db. In that database, you are\n",
    "going to create a table called movies. In that table, you are\n",
    "going to save the following movies:\n",
    "\n",
    "year     title      genre :  2009  Brothers   Drama / 2002  Spider     Man Sci-fi / 2009  WatchMen   Drama / 2010  Inception  Sci-fi / 2009  Avatar     Fantasy\n",
    "\n",
    "a) Once you create a table, run a SQL query to see all the\n",
    "movies in your table.\n",
    "\n",
    "b) Run another SQL query to select only the movie Brothers\n",
    "from the list.\n",
    "\n",
    "c) Run another SQL query to select all movies that were\n",
    "released in 2009 from your table.\n",
    "\n",
    "d) Run another query to select movies in the fantasy and\n",
    "drama genre.\n",
    "\n",
    "e) Run a query to delete all the contents of your table."
   ]
  },
  {
   "cell_type": "code",
   "execution_count": 1,
   "id": "d8800eb4-1922-4a7b-ab30-a0e6be43cb9d",
   "metadata": {},
   "outputs": [],
   "source": [
    "import sqlite3\n",
    "from sqlalchemy import create_engine\n",
    "import pandas as pd"
   ]
  },
  {
   "cell_type": "code",
   "execution_count": null,
   "id": "9fa53000-2c66-457b-a83d-4ee73ec9d3c4",
   "metadata": {},
   "outputs": [],
   "source": [
    "# Creating a  database"
   ]
  },
  {
   "cell_type": "code",
   "execution_count": 2,
   "id": "6d12d523-f8d3-42bb-8a0c-c8ab16e9444e",
   "metadata": {},
   "outputs": [],
   "source": [
    "connection = sqlite3.connect('movies.db')"
   ]
  },
  {
   "cell_type": "code",
   "execution_count": null,
   "id": "ecc6b78a-4cbf-4492-9637-003c2452000c",
   "metadata": {},
   "outputs": [],
   "source": [
    "# Creating a table in the database"
   ]
  },
  {
   "cell_type": "code",
   "execution_count": 3,
   "id": "b8102729-870d-421f-8fe5-cc7ebe35dcad",
   "metadata": {},
   "outputs": [],
   "source": [
    "cursor = connection.cursor()"
   ]
  },
  {
   "cell_type": "code",
   "execution_count": 4,
   "id": "368202b4-f6ed-4094-ab1f-ccb6bb995be1",
   "metadata": {},
   "outputs": [],
   "source": [
    "command1 = '''CREATE TABLE IF NOT EXISTS movies(year INTEGER, title TEXT, genre TEXT)'''"
   ]
  },
  {
   "cell_type": "code",
   "execution_count": 5,
   "id": "04f526ad-fc2e-4960-8e1b-f7fd379852f2",
   "metadata": {},
   "outputs": [
    {
     "data": {
      "text/plain": [
       "<sqlite3.Cursor at 0x25e4e85dbc0>"
      ]
     },
     "execution_count": 5,
     "metadata": {},
     "output_type": "execute_result"
    }
   ],
   "source": [
    "cursor.execute(command1)"
   ]
  },
  {
   "cell_type": "code",
   "execution_count": 6,
   "id": "67ca2129-5a8b-4d09-acaa-8b4660a3de20",
   "metadata": {},
   "outputs": [
    {
     "data": {
      "text/plain": [
       "<sqlite3.Cursor at 0x25e4e85dbc0>"
      ]
     },
     "execution_count": 6,
     "metadata": {},
     "output_type": "execute_result"
    }
   ],
   "source": [
    "cursor.execute(\"INSERT INTO movies VALUES (2009, 'Brothers', 'Drama')\")"
   ]
  },
  {
   "cell_type": "code",
   "execution_count": 7,
   "id": "ba5af189-7fd1-4d90-95bc-0cd4a9f2b6f9",
   "metadata": {},
   "outputs": [
    {
     "data": {
      "text/plain": [
       "<sqlite3.Cursor at 0x25e4e85dbc0>"
      ]
     },
     "execution_count": 7,
     "metadata": {},
     "output_type": "execute_result"
    }
   ],
   "source": [
    "cursor.execute(\"INSERT INTO movies VALUES (2002, 'Spider Man', 'Sci-fi')\")"
   ]
  },
  {
   "cell_type": "code",
   "execution_count": 8,
   "id": "142b0751-c512-403e-a07e-3deffc583317",
   "metadata": {},
   "outputs": [
    {
     "data": {
      "text/plain": [
       "<sqlite3.Cursor at 0x25e4e85dbc0>"
      ]
     },
     "execution_count": 8,
     "metadata": {},
     "output_type": "execute_result"
    }
   ],
   "source": [
    "cursor.execute(\"INSERT INTO movies VALUES (2009, 'WatchMen', 'Drama')\")"
   ]
  },
  {
   "cell_type": "code",
   "execution_count": 9,
   "id": "92c65bc7-1b80-4e24-b564-71895057e796",
   "metadata": {},
   "outputs": [
    {
     "data": {
      "text/plain": [
       "<sqlite3.Cursor at 0x25e4e85dbc0>"
      ]
     },
     "execution_count": 9,
     "metadata": {},
     "output_type": "execute_result"
    }
   ],
   "source": [
    "cursor.execute(\"INSERT INTO movies VALUES (2010, 'Inception', 'Sci-fi')\")"
   ]
  },
  {
   "cell_type": "code",
   "execution_count": 10,
   "id": "12bc696b-a65d-48c7-ac49-da95e480c533",
   "metadata": {},
   "outputs": [
    {
     "data": {
      "text/plain": [
       "<sqlite3.Cursor at 0x25e4e85dbc0>"
      ]
     },
     "execution_count": 10,
     "metadata": {},
     "output_type": "execute_result"
    }
   ],
   "source": [
    "cursor.execute(\"INSERT INTO movies VALUES (2009, 'Avatar', 'Fantasy')\")"
   ]
  },
  {
   "cell_type": "markdown",
   "id": "6205c068-c816-413c-bf46-37a0c33fd792",
   "metadata": {},
   "source": [
    "* Once you create a table, run a SQL query to see all the movies in your table."
   ]
  },
  {
   "cell_type": "code",
   "execution_count": 11,
   "id": "3dfc6461-3507-457d-9d72-67315a754dc8",
   "metadata": {},
   "outputs": [
    {
     "data": {
      "text/plain": [
       "<sqlite3.Cursor at 0x25e4e85dbc0>"
      ]
     },
     "execution_count": 11,
     "metadata": {},
     "output_type": "execute_result"
    }
   ],
   "source": [
    "cursor.execute('SELECT * FROM movies')"
   ]
  },
  {
   "cell_type": "code",
   "execution_count": 12,
   "id": "0c2fd3fa-766f-493a-aaf7-ff749e0ab1c4",
   "metadata": {},
   "outputs": [],
   "source": [
    "results = cursor.fetchall()"
   ]
  },
  {
   "cell_type": "code",
   "execution_count": 13,
   "id": "3f4ceb8a-245a-4683-8514-084f51c63112",
   "metadata": {},
   "outputs": [
    {
     "name": "stdout",
     "output_type": "stream",
     "text": [
      "[(2009, 'Brothers', 'Drama'), (2002, 'Spider Man', 'Sci-fi'), (2009, 'WatchMen', 'Drama'), (2010, 'Inception', 'Sci-fi'), (2009, 'Avatar', 'Fantasy')]\n"
     ]
    }
   ],
   "source": [
    "print(results)"
   ]
  },
  {
   "cell_type": "markdown",
   "id": "51c7b045-ae4f-45e0-a704-d068dbcdd4e5",
   "metadata": {},
   "source": [
    "* Run another SQL query to select only the movie Brothers from the list."
   ]
  },
  {
   "cell_type": "code",
   "execution_count": 14,
   "id": "81ef3c1d-1674-44ff-b862-b16332fd9d9c",
   "metadata": {},
   "outputs": [
    {
     "data": {
      "text/plain": [
       "<sqlite3.Cursor at 0x25e4e85dbc0>"
      ]
     },
     "execution_count": 14,
     "metadata": {},
     "output_type": "execute_result"
    }
   ],
   "source": [
    "cursor.execute('SELECT * FROM movies WHERE title = \"Brothers\"')"
   ]
  },
  {
   "cell_type": "code",
   "execution_count": 15,
   "id": "bea16827-0807-49b3-b88a-b83f09fa36d0",
   "metadata": {},
   "outputs": [
    {
     "data": {
      "text/plain": [
       "[(2009, 'Brothers', 'Drama')]"
      ]
     },
     "execution_count": 15,
     "metadata": {},
     "output_type": "execute_result"
    }
   ],
   "source": [
    "cursor.fetchall()"
   ]
  },
  {
   "cell_type": "markdown",
   "id": "2b148bc5-8892-4a8f-b13e-f263bf190789",
   "metadata": {},
   "source": [
    "* Run another SQL query to select all movies that were released in 2009 from your table."
   ]
  },
  {
   "cell_type": "code",
   "execution_count": 16,
   "id": "24efb214-6d16-46fd-8924-fff28ea227fe",
   "metadata": {},
   "outputs": [
    {
     "data": {
      "text/plain": [
       "<sqlite3.Cursor at 0x25e4e85dbc0>"
      ]
     },
     "execution_count": 16,
     "metadata": {},
     "output_type": "execute_result"
    }
   ],
   "source": [
    "cursor.execute('SELECT * FROM movies WHERE year = 2009')"
   ]
  },
  {
   "cell_type": "code",
   "execution_count": 17,
   "id": "9eee6f4e-fcf9-4f74-bd79-92f60110058f",
   "metadata": {},
   "outputs": [
    {
     "data": {
      "text/plain": [
       "[(2009, 'Brothers', 'Drama'),\n",
       " (2009, 'WatchMen', 'Drama'),\n",
       " (2009, 'Avatar', 'Fantasy')]"
      ]
     },
     "execution_count": 17,
     "metadata": {},
     "output_type": "execute_result"
    }
   ],
   "source": [
    "cursor.fetchall()"
   ]
  },
  {
   "cell_type": "markdown",
   "id": "ca836613-172b-428c-8072-9c1422222018",
   "metadata": {},
   "source": [
    "* Run another query to select movies in the fantasy and drama genre"
   ]
  },
  {
   "cell_type": "code",
   "execution_count": 18,
   "id": "41143797-e675-4052-ad53-b8c09a52dbb0",
   "metadata": {},
   "outputs": [
    {
     "data": {
      "text/plain": [
       "<sqlite3.Cursor at 0x25e4e85dbc0>"
      ]
     },
     "execution_count": 18,
     "metadata": {},
     "output_type": "execute_result"
    }
   ],
   "source": [
    "cursor.execute(\"SELECT * FROM movies WHERE genre IN ('Drama', 'Fantasy')\")"
   ]
  },
  {
   "cell_type": "code",
   "execution_count": 19,
   "id": "289bb545-b2d3-410c-88e1-bd999f2c02f0",
   "metadata": {},
   "outputs": [
    {
     "data": {
      "text/plain": [
       "[(2009, 'Brothers', 'Drama'),\n",
       " (2009, 'WatchMen', 'Drama'),\n",
       " (2009, 'Avatar', 'Fantasy')]"
      ]
     },
     "execution_count": 19,
     "metadata": {},
     "output_type": "execute_result"
    }
   ],
   "source": [
    "cursor.fetchall()"
   ]
  },
  {
   "cell_type": "code",
   "execution_count": null,
   "id": "8e52fd65-5c1a-41b0-8f03-b54cb150b800",
   "metadata": {},
   "outputs": [],
   "source": [
    "# Creating a dataframe"
   ]
  },
  {
   "cell_type": "code",
   "execution_count": 20,
   "id": "f5dc7dcf-499e-4c72-9ac4-f3a73d28414a",
   "metadata": {},
   "outputs": [
    {
     "data": {
      "text/plain": [
       "<sqlite3.Cursor at 0x25e4e85dbc0>"
      ]
     },
     "execution_count": 20,
     "metadata": {},
     "output_type": "execute_result"
    }
   ],
   "source": [
    "cursor.execute('SELECT * FROM movies')"
   ]
  },
  {
   "cell_type": "code",
   "execution_count": 21,
   "id": "5b1de880-a582-49c3-98dd-ff8677a84ea3",
   "metadata": {},
   "outputs": [
    {
     "data": {
      "text/html": [
       "<div>\n",
       "<style scoped>\n",
       "    .dataframe tbody tr th:only-of-type {\n",
       "        vertical-align: middle;\n",
       "    }\n",
       "\n",
       "    .dataframe tbody tr th {\n",
       "        vertical-align: top;\n",
       "    }\n",
       "\n",
       "    .dataframe thead th {\n",
       "        text-align: right;\n",
       "    }\n",
       "</style>\n",
       "<table border=\"1\" class=\"dataframe\">\n",
       "  <thead>\n",
       "    <tr style=\"text-align: right;\">\n",
       "      <th></th>\n",
       "      <th>year</th>\n",
       "      <th>title</th>\n",
       "      <th>genre</th>\n",
       "    </tr>\n",
       "  </thead>\n",
       "  <tbody>\n",
       "    <tr>\n",
       "      <th>0</th>\n",
       "      <td>2009</td>\n",
       "      <td>Brothers</td>\n",
       "      <td>Drama</td>\n",
       "    </tr>\n",
       "    <tr>\n",
       "      <th>1</th>\n",
       "      <td>2002</td>\n",
       "      <td>Spider Man</td>\n",
       "      <td>Sci-fi</td>\n",
       "    </tr>\n",
       "    <tr>\n",
       "      <th>2</th>\n",
       "      <td>2009</td>\n",
       "      <td>WatchMen</td>\n",
       "      <td>Drama</td>\n",
       "    </tr>\n",
       "    <tr>\n",
       "      <th>3</th>\n",
       "      <td>2010</td>\n",
       "      <td>Inception</td>\n",
       "      <td>Sci-fi</td>\n",
       "    </tr>\n",
       "    <tr>\n",
       "      <th>4</th>\n",
       "      <td>2009</td>\n",
       "      <td>Avatar</td>\n",
       "      <td>Fantasy</td>\n",
       "    </tr>\n",
       "  </tbody>\n",
       "</table>\n",
       "</div>"
      ],
      "text/plain": [
       "   year       title    genre\n",
       "0  2009    Brothers    Drama\n",
       "1  2002  Spider Man   Sci-fi\n",
       "2  2009    WatchMen    Drama\n",
       "3  2010   Inception   Sci-fi\n",
       "4  2009      Avatar  Fantasy"
      ]
     },
     "execution_count": 21,
     "metadata": {},
     "output_type": "execute_result"
    }
   ],
   "source": [
    "df_movies = pd.DataFrame(cursor.fetchall(), columns = ['year', 'title', 'genre'])\n",
    "df_movies"
   ]
  },
  {
   "cell_type": "markdown",
   "id": "1758d3e6-fda7-4db3-9de4-008b744950d6",
   "metadata": {},
   "source": [
    "* Run a query to delete all the contents of your table."
   ]
  },
  {
   "cell_type": "code",
   "execution_count": 22,
   "id": "5b1961c2-d731-45fb-be78-b4ac219ea296",
   "metadata": {},
   "outputs": [
    {
     "data": {
      "text/plain": [
       "<sqlite3.Cursor at 0x25e4e85dbc0>"
      ]
     },
     "execution_count": 22,
     "metadata": {},
     "output_type": "execute_result"
    }
   ],
   "source": [
    "cursor.execute('DELETE FROM movies;')"
   ]
  },
  {
   "cell_type": "code",
   "execution_count": 23,
   "id": "ba4341a1-7a39-4d74-91bc-8f3da35d0f10",
   "metadata": {},
   "outputs": [
    {
     "data": {
      "text/plain": [
       "[]"
      ]
     },
     "execution_count": 23,
     "metadata": {},
     "output_type": "execute_result"
    }
   ],
   "source": [
    "cursor.fetchall()"
   ]
  },
  {
   "cell_type": "code",
   "execution_count": null,
   "id": "0a269188-1c40-416e-9673-58f1d5e4e3a4",
   "metadata": {},
   "outputs": [],
   "source": [
    "#  saving the movies to the table"
   ]
  },
  {
   "cell_type": "code",
   "execution_count": 25,
   "id": "b9724a69-365f-4c0a-a6e0-42b23c2fdc5a",
   "metadata": {},
   "outputs": [
    {
     "data": {
      "text/plain": [
       "<sqlite3.Cursor at 0x25e4e85dbc0>"
      ]
     },
     "execution_count": 25,
     "metadata": {},
     "output_type": "execute_result"
    }
   ],
   "source": [
    "cursor.executemany(\"INSERT INTO movies VALUES (?, ?, ?)\", [(2009, 'Brothers', 'Drama'),\n",
    "               (2002, 'Spider Man', 'Sci-fi'),\n",
    "               (2009, 'WatchMen', 'Drama'),\n",
    "               (2010, 'Inception', 'Sci-fi'),\n",
    "               (2009, 'Avatar', 'Fantasy')])"
   ]
  },
  {
   "cell_type": "code",
   "execution_count": null,
   "id": "241339f3-27fe-409e-8229-f593e1ac9432",
   "metadata": {},
   "outputs": [],
   "source": [
    "# Creating a query to see all the movies in the table"
   ]
  },
  {
   "cell_type": "code",
   "execution_count": 26,
   "id": "7d48e792-a59b-48f1-95ae-d3b7089ea7c7",
   "metadata": {},
   "outputs": [
    {
     "name": "stdout",
     "output_type": "stream",
     "text": [
      "(2009, 'Brothers', 'Drama')\n",
      "(2002, 'Spider Man', 'Sci-fi')\n",
      "(2009, 'WatchMen', 'Drama')\n",
      "(2010, 'Inception', 'Sci-fi')\n",
      "(2009, 'Avatar', 'Fantasy')\n"
     ]
    }
   ],
   "source": [
    "row = cursor.fetchall()\n",
    "for row in cursor.execute('SELECT * FROM movies'):\n",
    "    print(row)"
   ]
  },
  {
   "cell_type": "code",
   "execution_count": 27,
   "id": "2a7c5e18-2d41-4de4-8ed4-99e3825d62aa",
   "metadata": {},
   "outputs": [],
   "source": [
    "connection.close()"
   ]
  },
  {
   "cell_type": "code",
   "execution_count": null,
   "id": "fa9753fc-96b0-41c5-8f1c-a161b8411b30",
   "metadata": {},
   "outputs": [],
   "source": []
  }
 ],
 "metadata": {
  "kernelspec": {
   "display_name": "curs_python_env",
   "language": "python",
   "name": "curs_python_env"
  },
  "language_info": {
   "codemirror_mode": {
    "name": "ipython",
    "version": 3
   },
   "file_extension": ".py",
   "mimetype": "text/x-python",
   "name": "python",
   "nbconvert_exporter": "python",
   "pygments_lexer": "ipython3",
   "version": "3.10.5"
  }
 },
 "nbformat": 4,
 "nbformat_minor": 5
}
