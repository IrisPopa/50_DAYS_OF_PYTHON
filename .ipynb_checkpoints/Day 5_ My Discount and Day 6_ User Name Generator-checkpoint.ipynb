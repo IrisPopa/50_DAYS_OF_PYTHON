{
 "cells": [
  {
   "cell_type": "markdown",
   "id": "8f73e23c-b8a9-45c6-b4f2-233243d1bc7f",
   "metadata": {},
   "source": [
    "Create a function called my_discount. The function takes no arguments but asks the user to input the price and the discount (percentage) of the product. Once the user inputs the\n",
    "price and discount, it calculates the price after the discount. The function should return the price after the discount. For example, if the user enters 150 as price and 15% as the discount, your function should return 127.5."
   ]
  },
  {
   "cell_type": "code",
   "execution_count": 1,
   "id": "6687c968-9766-4974-8da4-a5ed0710006a",
   "metadata": {},
   "outputs": [],
   "source": [
    "def my_discount():\n",
    "    price = int(input('The price is:'))\n",
    "    discount = int(input('The dicount is:'))\n",
    "    net_price = price - price*discount/100\n",
    "    return net_price\n",
    "    "
   ]
  },
  {
   "cell_type": "code",
   "execution_count": 2,
   "id": "60d4f939-d920-4b8e-bf5e-8c2233efa440",
   "metadata": {},
   "outputs": [
    {
     "name": "stdin",
     "output_type": "stream",
     "text": [
      "The price is: 150\n",
      "The dicount is: 15\n"
     ]
    },
    {
     "data": {
      "text/plain": [
       "127.5"
      ]
     },
     "execution_count": 2,
     "metadata": {},
     "output_type": "execute_result"
    }
   ],
   "source": [
    "my_discount()"
   ]
  },
  {
   "cell_type": "markdown",
   "id": "ee67ae5f-122f-4719-9fd8-d1c0ab3f1e84",
   "metadata": {},
   "source": [
    "You work for a school and your boss wants to know how many female and male students are enrolled in the school. The school\n",
    "has saved the students in a list. Your task is to write a code that will count how many males and females are in the list. Here is a\n",
    "list below:"
   ]
  },
  {
   "cell_type": "code",
   "execution_count": 5,
   "id": "1695d916-def0-4e1f-a84f-476e25d99384",
   "metadata": {},
   "outputs": [],
   "source": [
    "students = ['Male', 'Female', 'female', 'male', 'male', 'male', 'female', 'male', 'Female', 'Male', 'Female', 'Male', 'female']"
   ]
  },
  {
   "cell_type": "code",
   "execution_count": 69,
   "id": "d8ec6ef9-d8b6-41b6-84d9-e2994bf85394",
   "metadata": {},
   "outputs": [],
   "source": [
    "def count_gender(list_students: list) ->list:\n",
    "    count_males=0\n",
    "    count_femeals=0\n",
    "    list_gender =[]\n",
    "    for y in list_students:\n",
    "        if y.lower() == 'male':\n",
    "            count_males +=1\n",
    "        else:\n",
    "            count_femeals +=1\n",
    "    list_gender.append(('Males', count_males))\n",
    "    list_gender.append(('Female', count_femeals))\n",
    "    return list_gender"
   ]
  },
  {
   "cell_type": "code",
   "execution_count": 68,
   "id": "19eec15e-db55-41e4-99d0-ca3600fae90f",
   "metadata": {},
   "outputs": [
    {
     "data": {
      "text/plain": [
       "[('Males', 7), ('Female', 6)]"
      ]
     },
     "execution_count": 68,
     "metadata": {},
     "output_type": "execute_result"
    }
   ],
   "source": [
    "count_gender(students)"
   ]
  },
  {
   "cell_type": "code",
   "execution_count": null,
   "id": "93798d9f-43ea-429b-903d-92a4050d095b",
   "metadata": {},
   "outputs": [],
   "source": []
  }
 ],
 "metadata": {
  "kernelspec": {
   "display_name": "curs_python_env",
   "language": "python",
   "name": "curs_python_env"
  },
  "language_info": {
   "codemirror_mode": {
    "name": "ipython",
    "version": 3
   },
   "file_extension": ".py",
   "mimetype": "text/x-python",
   "name": "python",
   "nbconvert_exporter": "python",
   "pygments_lexer": "ipython3",
   "version": "3.10.5"
  }
 },
 "nbformat": 4,
 "nbformat_minor": 5
}
