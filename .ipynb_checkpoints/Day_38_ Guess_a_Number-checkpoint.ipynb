{
 "cells": [
  {
   "cell_type": "markdown",
   "id": "8e4f45c6-63bc-42fb-afdb-45ee9798d7f4",
   "metadata": {},
   "source": [
    "## Day 38: Guess a Number\n",
    "Write a function called guess_a_number. The function\n",
    "should ask a user to guess a randomly generated number. If the\n",
    "user guesses a higher number, the code should tell them that the\n",
    "guess is too high, if the user guesses low, the code should tell\n",
    "them that their guess is too low. The user should get a maximum\n",
    "of three guesses. When the user guesses right, the code should\n",
    "declare them a winner. After three wrong guesses, the code\n",
    "should declare them a loser."
   ]
  },
  {
   "cell_type": "code",
   "execution_count": 1,
   "id": "cef6c5eb-4f79-42e0-b9af-0518d359cd33",
   "metadata": {},
   "outputs": [],
   "source": [
    "from numpy import random"
   ]
  },
  {
   "cell_type": "code",
   "execution_count": 178,
   "id": "6ec8d2d7-8027-4d43-8e4e-9462065de1ff",
   "metadata": {},
   "outputs": [],
   "source": [
    "def guess_a_number1():\n",
    "    list_num = []\n",
    "    number = random.randint(1, 10)\n",
    "    while True:\n",
    "        input_num = int(input('Please enter a number between 1 and 10:'))\n",
    "        list_num.append(input_num)\n",
    "        if len(list_num) < 3:\n",
    "            if input_num > number:\n",
    "                print ('The number is too high')\n",
    "            elif input_num < number:\n",
    "                print ('The number is too low')\n",
    "            elif input_num == number:\n",
    "                print ('You are a winner')   \n",
    "        elif len(list_num) == 3 and input_num == number:\n",
    "            print ('You are a winner')\n",
    "            list_num.clear()\n",
    "            break\n",
    "        else:\n",
    "            print(f'You are a loser, the number is: \"{number}\"')\n",
    "            break"
   ]
  },
  {
   "cell_type": "code",
   "execution_count": 179,
   "id": "416e0463-0384-4b25-8ce1-13834c687444",
   "metadata": {},
   "outputs": [
    {
     "name": "stdin",
     "output_type": "stream",
     "text": [
      "Please enter a number between 1 and 10: 1\n"
     ]
    },
    {
     "name": "stdout",
     "output_type": "stream",
     "text": [
      "The number is too low\n"
     ]
    },
    {
     "name": "stdin",
     "output_type": "stream",
     "text": [
      "Please enter a number between 1 and 10: 6\n"
     ]
    },
    {
     "name": "stdout",
     "output_type": "stream",
     "text": [
      "The number is too low\n"
     ]
    },
    {
     "name": "stdin",
     "output_type": "stream",
     "text": [
      "Please enter a number between 1 and 10: 8\n"
     ]
    },
    {
     "name": "stdout",
     "output_type": "stream",
     "text": [
      "You are a winner\n"
     ]
    }
   ],
   "source": [
    "guess_a_number1()"
   ]
  },
  {
   "cell_type": "code",
   "execution_count": null,
   "id": "69778788-bfd2-4f68-a4b8-c9df64a5d350",
   "metadata": {},
   "outputs": [],
   "source": []
  },
  {
   "cell_type": "code",
   "execution_count": 180,
   "id": "cba737de-4e2e-4cb0-bbb9-ab35907b0178",
   "metadata": {},
   "outputs": [],
   "source": [
    "def guess_number():\n",
    "    random_number = random.randint(0,10)\n",
    "    c = 0\n",
    "    while c < 4:\n",
    "        guess = int(input(\"Guess a number between 1 and 10: \"))\n",
    "        c += 1\n",
    "        if c == 3:\n",
    "            print(\"You have run out of guesses. You lose\")\n",
    "            break\n",
    "        elif guess > random_number:\n",
    "            print('Your guess is too high. Try again')\n",
    "        elif guess < random_number:\n",
    "            print('Your guess is too low. Try again')\n",
    "        else:\n",
    "            return 'Correct. You win'\n",
    "    return ''"
   ]
  },
  {
   "cell_type": "code",
   "execution_count": 181,
   "id": "bb331e5c-eecd-4b93-83fc-b572f92961e0",
   "metadata": {},
   "outputs": [
    {
     "name": "stdin",
     "output_type": "stream",
     "text": [
      "Guess a number between 1 and 10:  2\n"
     ]
    },
    {
     "name": "stdout",
     "output_type": "stream",
     "text": [
      "Your guess is too low. Try again\n"
     ]
    },
    {
     "name": "stdin",
     "output_type": "stream",
     "text": [
      "Guess a number between 1 and 10:  5\n"
     ]
    },
    {
     "name": "stdout",
     "output_type": "stream",
     "text": [
      "Your guess is too high. Try again\n"
     ]
    },
    {
     "name": "stdin",
     "output_type": "stream",
     "text": [
      "Guess a number between 1 and 10:  3\n"
     ]
    },
    {
     "name": "stdout",
     "output_type": "stream",
     "text": [
      "You have run out of guesses. You lose\n"
     ]
    },
    {
     "data": {
      "text/plain": [
       "''"
      ]
     },
     "execution_count": 181,
     "metadata": {},
     "output_type": "execute_result"
    }
   ],
   "source": [
    "guess_number()"
   ]
  },
  {
   "cell_type": "code",
   "execution_count": null,
   "id": "605a0433-cb1b-421b-845a-870f34adb36f",
   "metadata": {},
   "outputs": [],
   "source": []
  },
  {
   "cell_type": "markdown",
   "id": "6f9cd526-24ab-42f0-99fd-1edfa56a9051",
   "metadata": {},
   "source": [
    "## Extra Challenge: Find Missing Numbers\n",
    "list = [1, 2, 3, 5, 6, 7, 9, 11, 12, 23, 14, 15, 17,\n",
    "18, 19, 20, 21, 22, 24, 25, 26, 27, 28, 31]\n",
    "Write a function called missing_numbers that takes a list of\n",
    "sequence of numbers and finds the missing numbers in the\n",
    "sequence. The list above should return:\n",
    "[4, 8, 10, 13, 16, 29, 30]"
   ]
  },
  {
   "cell_type": "code",
   "execution_count": 182,
   "id": "6260d270-8dd7-4577-b2ad-7c357642fcf8",
   "metadata": {},
   "outputs": [],
   "source": [
    "x = [1, 3, 5, 9, 11, 12, 23, 14, 15, 17, 18, 19, 20, 2, 21, 24, 25, 26, 8, 27, 28, 31]"
   ]
  },
  {
   "cell_type": "code",
   "execution_count": 171,
   "id": "04496d1b-4a8a-46d4-889c-21868ca03fff",
   "metadata": {},
   "outputs": [],
   "source": [
    "def missing_numbers1(sequence_list):\n",
    "    sequence_list.sort()\n",
    "    missing_numbers_list =[]\n",
    "    for i in range(0, len(sequence_list)-1):\n",
    "        if sequence_list[i] != sequence_list[i+1]:\n",
    "            n = (sequence_list[i+1] - sequence_list[i])\n",
    "            for j in range(1, n):\n",
    "                 missing_numbers_list.append(sequence_list[i]+j)\n",
    "                 j +=1\n",
    "    return missing_numbers_list"
   ]
  },
  {
   "cell_type": "code",
   "execution_count": 172,
   "id": "d9c437b1-3ecd-469d-9f9f-fed9388e480c",
   "metadata": {},
   "outputs": [
    {
     "data": {
      "text/plain": [
       "[4, 6, 7, 10, 13, 16, 22, 29, 30]"
      ]
     },
     "execution_count": 172,
     "metadata": {},
     "output_type": "execute_result"
    }
   ],
   "source": [
    "missing_numbers1(x)"
   ]
  },
  {
   "cell_type": "code",
   "execution_count": null,
   "id": "3bf2869e-2feb-46d6-8de6-255b35ff807a",
   "metadata": {},
   "outputs": [],
   "source": []
  },
  {
   "cell_type": "code",
   "execution_count": 188,
   "id": "3a3d3253-b4d7-440b-bc88-f7064cdfd6f7",
   "metadata": {},
   "outputs": [],
   "source": [
    "def missing_numbers(arr: list) -> list:\n",
    "    arr.sort()\n",
    "    missing_numz = []\n",
    "    # find the missing numbers using range\n",
    "    for i in range(arr[0], arr[-1]):\n",
    "        if i not in arr:\n",
    "            missing_numz.append(i)\n",
    "    return missing_numz"
   ]
  },
  {
   "cell_type": "code",
   "execution_count": 189,
   "id": "a65d3f14-bbef-4433-b520-b190f12d1d89",
   "metadata": {},
   "outputs": [
    {
     "data": {
      "text/plain": [
       "[4, 6, 7, 10, 13, 16, 22, 29, 30]"
      ]
     },
     "execution_count": 189,
     "metadata": {},
     "output_type": "execute_result"
    }
   ],
   "source": [
    "missing_numbers(x)"
   ]
  },
  {
   "cell_type": "code",
   "execution_count": null,
   "id": "f28b3949-40e1-42df-bd79-54521f0338e8",
   "metadata": {},
   "outputs": [],
   "source": []
  }
 ],
 "metadata": {
  "kernelspec": {
   "display_name": "curs_python_env",
   "language": "python",
   "name": "curs_python_env"
  },
  "language_info": {
   "codemirror_mode": {
    "name": "ipython",
    "version": 3
   },
   "file_extension": ".py",
   "mimetype": "text/x-python",
   "name": "python",
   "nbconvert_exporter": "python",
   "pygments_lexer": "ipython3",
   "version": "3.10.5"
  }
 },
 "nbformat": 4,
 "nbformat_minor": 5
}
