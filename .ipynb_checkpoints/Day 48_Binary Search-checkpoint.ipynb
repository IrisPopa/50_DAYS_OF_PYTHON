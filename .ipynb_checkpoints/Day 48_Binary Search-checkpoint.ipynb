{
 "cells": [
  {
   "cell_type": "markdown",
   "id": "c1ee4755-001c-4de9-81b2-8067e53b0b6f",
   "metadata": {},
   "source": [
    "# Day 48: Binary Search\n",
    "Write a function called search_binary that searches for the\n",
    "number 22 in the following list and returns its index. The\n",
    "function should take two parameters, the list and the item that\n",
    "is being searched for. Use binary search (iterative Method).\n",
    "list1 = [12, 34, 56, 78, 98, 22, 45, 13]"
   ]
  },
  {
   "cell_type": "code",
   "execution_count": 5,
   "id": "15c2ce65-1240-4f36-a756-9310cf658956",
   "metadata": {},
   "outputs": [],
   "source": [
    "from datetime import datetime"
   ]
  },
  {
   "cell_type": "code",
   "execution_count": 76,
   "id": "5dbadd4c-4e79-40b6-8fa0-2072428e49dc",
   "metadata": {},
   "outputs": [],
   "source": [
    "def search_binary(paramlist, item):\n",
    "    t1 = datetime.now()\n",
    "    low = 0\n",
    "    high = len(paramlist) - 1\n",
    "    paramlist.sort()\n",
    "    while low <= high:\n",
    "        mid = (low + high) // 2\n",
    "        if item == paramlist[mid]:\n",
    "            return mid \n",
    "        elif item > paramlist[mid]:\n",
    "            low = mid + 1\n",
    "        elif item < paramlist[mid]:\n",
    "            high = mid - 1\n",
    "    return 'no element find'"
   ]
  },
  {
   "cell_type": "code",
   "execution_count": 86,
   "id": "98307716-1207-4257-a5c7-3ddfb7c2ffc4",
   "metadata": {},
   "outputs": [],
   "source": [
    "def find_index(list_param, item):\n",
    "    t1 = datetime.now()\n",
    "    for index, val in enumerate(list_param):\n",
    "        if val == item:\n",
    "            ind = index\n",
    "            t2 = datetime.now()\n",
    "            dt = t2-t1\n",
    "    print(f'The index is {ind}, processing time {dt}')"
   ]
  },
  {
   "cell_type": "code",
   "execution_count": 77,
   "id": "6e697462-4b34-4e36-a6cc-cbab6a7946da",
   "metadata": {},
   "outputs": [],
   "source": [
    "list1 = [12, 34, 56, 78, 98, 22, 45, 13]"
   ]
  },
  {
   "cell_type": "code",
   "execution_count": 87,
   "id": "95ab0d5c-7526-4e85-9eec-017dd91e6f3f",
   "metadata": {},
   "outputs": [
    {
     "name": "stdout",
     "output_type": "stream",
     "text": [
      "The index is 2, processing time 0:00:00\n"
     ]
    }
   ],
   "source": [
    "find_index(list1, 22)"
   ]
  },
  {
   "cell_type": "code",
   "execution_count": 79,
   "id": "ea320bd5-542a-47e9-8cd9-8149a3d0bda7",
   "metadata": {},
   "outputs": [
    {
     "data": {
      "text/plain": [
       "2"
      ]
     },
     "execution_count": 79,
     "metadata": {},
     "output_type": "execute_result"
    }
   ],
   "source": [
    "search_binary(list1, 22)"
   ]
  },
  {
   "cell_type": "code",
   "execution_count": 80,
   "id": "a684a3aa-a235-494c-9eea-357712b82d6b",
   "metadata": {},
   "outputs": [
    {
     "data": {
      "text/plain": [
       "[12, 13, 22, 34, 45, 56, 78, 98]"
      ]
     },
     "execution_count": 80,
     "metadata": {},
     "output_type": "execute_result"
    }
   ],
   "source": [
    "list1.sort()\n",
    "list1"
   ]
  },
  {
   "cell_type": "code",
   "execution_count": 81,
   "id": "6df1c010-8950-404e-a523-6e12a8fff69b",
   "metadata": {},
   "outputs": [
    {
     "data": {
      "text/plain": [
       "'no element find'"
      ]
     },
     "execution_count": 81,
     "metadata": {},
     "output_type": "execute_result"
    }
   ],
   "source": [
    "search_binary(list1, 55)"
   ]
  },
  {
   "cell_type": "code",
   "execution_count": null,
   "id": "27ac040f-e0cd-4121-a5ae-04e4f4ceea0d",
   "metadata": {},
   "outputs": [],
   "source": []
  },
  {
   "cell_type": "markdown",
   "id": "ebaf53de-2ec9-49f8-846f-bace6adb1cec",
   "metadata": {},
   "source": [
    "# Day 42: Spelling Checker\n",
    "Write a function called spelling_checker. This code asks the\n",
    "user to input a word and if a user inputs a wrong spelling it\n",
    "should suggest the correct spelling by asking the user if they\n",
    "meant to type that word. If the user says no, it should ask the\n",
    "user to enter the word again. If the user says yes, it should\n",
    "return the correct word. If the word entered by the user is\n",
    "correctly spelled the function should return the correct word.\n",
    "Use the module textblob."
   ]
  },
  {
   "cell_type": "code",
   "execution_count": null,
   "id": "e54988f3-7fa3-4c9b-a391-87b870adce1c",
   "metadata": {},
   "outputs": [],
   "source": []
  },
  {
   "cell_type": "code",
   "execution_count": null,
   "id": "525c1014-9bf8-40c3-8a73-3c6e6f5cc31e",
   "metadata": {},
   "outputs": [],
   "source": []
  },
  {
   "cell_type": "code",
   "execution_count": null,
   "id": "4c2586cf-cc0b-4ebb-97ee-128be103742c",
   "metadata": {},
   "outputs": [],
   "source": []
  },
  {
   "cell_type": "code",
   "execution_count": null,
   "id": "3252325f-367a-427a-9cdd-9a1e50d1c030",
   "metadata": {},
   "outputs": [],
   "source": []
  },
  {
   "cell_type": "markdown",
   "id": "b003bcf3-e19a-4bfa-b01e-d55a0a622d59",
   "metadata": {},
   "source": [
    "# Extra Challenge: \n",
    "Create an Alarm clock Create a function called alarm that sets an alarm clock for the user. The function should ask the user to enter time they want the alarm to go off. The user should enter the hour and minute. The function should then print out the time when the alarm will go off. When its alarm time, the code should let off a sound. Use the winsound module for sound."
   ]
  },
  {
   "cell_type": "code",
   "execution_count": null,
   "id": "e690e3d3-cbc6-4978-8990-5a5805e18911",
   "metadata": {},
   "outputs": [],
   "source": []
  }
 ],
 "metadata": {
  "kernelspec": {
   "display_name": "curs_python_env",
   "language": "python",
   "name": "curs_python_env"
  },
  "language_info": {
   "codemirror_mode": {
    "name": "ipython",
    "version": 3
   },
   "file_extension": ".py",
   "mimetype": "text/x-python",
   "name": "python",
   "nbconvert_exporter": "python",
   "pygments_lexer": "ipython3",
   "version": "3.10.5"
  }
 },
 "nbformat": 4,
 "nbformat_minor": 5
}
