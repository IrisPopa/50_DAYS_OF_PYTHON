{
 "cells": [
  {
   "cell_type": "markdown",
   "id": "ca74da9d-b1f0-46e4-a3a1-92ad7e2d0f15",
   "metadata": {},
   "source": [
    "## Day 33: List Intersection\n",
    "Write a function called inter_section that takes two lists and\n",
    "finds the intersection (the elements that are present in both\n",
    "lists). The function should return a tuple of intersections. Use\n",
    "list comprehension in your solution. Use the lists below. Your\n",
    "function should return (30, 65, 80).\n",
    "list1 = [20, 30, 60, 65, 75, 80, 85]\n",
    "list2 = [ 42, 30, 80, 65, 68, 88, 95]"
   ]
  },
  {
   "cell_type": "code",
   "execution_count": 6,
   "id": "ffb92eba-e447-471f-a231-e4c5ca9923e0",
   "metadata": {},
   "outputs": [],
   "source": [
    "def inter_section(list1, list2):\n",
    "    itersection_list = []\n",
    "    for x in list1:\n",
    "        if x in list2:\n",
    "             itersection_list.append(x)\n",
    "    return tuple(itersection_list)"
   ]
  },
  {
   "cell_type": "code",
   "execution_count": 1,
   "id": "2f86e172-ce17-4c32-be27-daf09e31be36",
   "metadata": {},
   "outputs": [],
   "source": [
    "list1 = [20, 30, 60, 65, 75, 80, 85] "
   ]
  },
  {
   "cell_type": "code",
   "execution_count": 2,
   "id": "60036e40-b886-4bd2-b2af-a5b3dea67f8e",
   "metadata": {},
   "outputs": [],
   "source": [
    "list2 = [ 42, 30, 80, 65, 68, 88, 95]"
   ]
  },
  {
   "cell_type": "code",
   "execution_count": 7,
   "id": "b57c3d1e-e785-4474-a4a7-336afde080f0",
   "metadata": {},
   "outputs": [
    {
     "data": {
      "text/plain": [
       "(30, 65, 80)"
      ]
     },
     "execution_count": 7,
     "metadata": {},
     "output_type": "execute_result"
    }
   ],
   "source": [
    "inter_section(list1, list2)"
   ]
  },
  {
   "cell_type": "code",
   "execution_count": null,
   "id": "94284682-e958-4d4d-a29e-f43654105d26",
   "metadata": {},
   "outputs": [],
   "source": []
  },
  {
   "cell_type": "code",
   "execution_count": 10,
   "id": "a9edb70b-9273-4807-99b5-8f1df9f78ee1",
   "metadata": {},
   "outputs": [],
   "source": [
    "def inter_section1(a, b):\n",
    "    inter_list = tuple([i for i in a if i in b])\n",
    "    return inter_list"
   ]
  },
  {
   "cell_type": "code",
   "execution_count": 11,
   "id": "bd8e4dd1-d58c-431a-a950-19d5c3263c49",
   "metadata": {},
   "outputs": [
    {
     "data": {
      "text/plain": [
       "(30, 65, 80)"
      ]
     },
     "execution_count": 11,
     "metadata": {},
     "output_type": "execute_result"
    }
   ],
   "source": [
    "inter_section1(list1, list2)"
   ]
  },
  {
   "cell_type": "code",
   "execution_count": null,
   "id": "6219335a-1f6e-4b6a-bf7c-fd125e30a140",
   "metadata": {},
   "outputs": [],
   "source": []
  },
  {
   "cell_type": "markdown",
   "id": "bd462c46-84a7-4513-9873-8ac3659d9bf2",
   "metadata": {},
   "source": [
    "## Extra Challenge: Set or list\n",
    "You want to implement a code that will search for a number in\n",
    "a range. You have a decision to make as to whether to store the\n",
    "number in a set or a list. Your decision will be based on time.\n",
    "You have to pick a data type that executes faster.\n",
    "You have a range and you can either store it in a set or a list\n",
    "depending on which one executes faster when you are searching\n",
    "for a number in the range. See below:\n",
    "a = range(10000000)\n",
    "x = set(a)\n",
    "y = list(a)\n",
    "Let’s say you ah\n",
    "re looking for a number 9999999 in the range\n",
    "above. Searc for this number in the list and the set. Your\n",
    "challenge is to find which code executes faster. You will pick the\n",
    "one that executes quicker, lists, or sets. Run the two searches\n",
    "and time them."
   ]
  },
  {
   "cell_type": "code",
   "execution_count": 4,
   "id": "2dd5590e-ce4b-4569-9b80-f3ce80077632",
   "metadata": {},
   "outputs": [],
   "source": [
    "import timeit"
   ]
  },
  {
   "cell_type": "code",
   "execution_count": 21,
   "id": "46928835-64aa-4acc-9628-d70ea14d87a9",
   "metadata": {},
   "outputs": [
    {
     "data": {
      "text/plain": [
       "4.948267600004328"
      ]
     },
     "execution_count": 21,
     "metadata": {},
     "output_type": "execute_result"
    }
   ],
   "source": [
    "timeit.timeit(stmt='[i for i in list(range(100000))]', number=999)"
   ]
  },
  {
   "cell_type": "code",
   "execution_count": 22,
   "id": "bfb24895-763f-463b-ac12-15a6043e27a2",
   "metadata": {},
   "outputs": [
    {
     "data": {
      "text/plain": [
       "8.262626799987629"
      ]
     },
     "execution_count": 22,
     "metadata": {},
     "output_type": "execute_result"
    }
   ],
   "source": [
    "timeit.timeit(stmt='[i for i in set(range(100000))]', number=999)"
   ]
  },
  {
   "cell_type": "code",
   "execution_count": null,
   "id": "aecf4aa3-56d0-47e7-862f-a9fac060d57b",
   "metadata": {},
   "outputs": [],
   "source": []
  },
  {
   "cell_type": "code",
   "execution_count": 29,
   "id": "5af6f496-ea91-4e47-8765-604b5bf3591c",
   "metadata": {},
   "outputs": [],
   "source": [
    "def f(x):\n",
    "    return x**2\n",
    "def g(x):\n",
    "    return x**4\n",
    "def h(x):\n",
    "    return x**8"
   ]
  },
  {
   "cell_type": "code",
   "execution_count": 35,
   "id": "547b63f4-9718-498f-bdfd-dbc6789d9fa3",
   "metadata": {},
   "outputs": [
    {
     "data": {
      "text/plain": [
       "1.6945619000180159"
      ]
     },
     "execution_count": 35,
     "metadata": {},
     "output_type": "execute_result"
    }
   ],
   "source": [
    "timeit.timeit('[func(42) for func in (f,g,h)]', globals=globals())"
   ]
  },
  {
   "cell_type": "code",
   "execution_count": 32,
   "id": "a5142dbc-ed54-4974-abe7-9da8761850bd",
   "metadata": {},
   "outputs": [
    {
     "data": {
      "text/plain": [
       "3.5999983083456755e-06"
      ]
     },
     "execution_count": 32,
     "metadata": {},
     "output_type": "execute_result"
    }
   ],
   "source": [
    "timeit.timeit('[lambda x: x**2]',  number=42)"
   ]
  },
  {
   "cell_type": "code",
   "execution_count": 33,
   "id": "fa3eda2e-be7a-47cc-bf62-d3a35e8cde07",
   "metadata": {},
   "outputs": [
    {
     "data": {
      "text/plain": [
       "4.6000059228390455e-06"
      ]
     },
     "execution_count": 33,
     "metadata": {},
     "output_type": "execute_result"
    }
   ],
   "source": [
    "timeit.timeit('[lambda x: x**4]',  number=42)"
   ]
  },
  {
   "cell_type": "code",
   "execution_count": 34,
   "id": "b37014bd-21ab-453c-b08c-2d1293bd3b93",
   "metadata": {},
   "outputs": [
    {
     "data": {
      "text/plain": [
       "3.5999983083456755e-06"
      ]
     },
     "execution_count": 34,
     "metadata": {},
     "output_type": "execute_result"
    }
   ],
   "source": [
    "timeit.timeit('[lambda x: x**8]',  number=42)"
   ]
  },
  {
   "cell_type": "code",
   "execution_count": null,
   "id": "43ba46ff-e56e-48e8-90a0-e258b4f3fc32",
   "metadata": {},
   "outputs": [],
   "source": []
  }
 ],
 "metadata": {
  "kernelspec": {
   "display_name": "curs_python_env",
   "language": "python",
   "name": "curs_python_env"
  },
  "language_info": {
   "codemirror_mode": {
    "name": "ipython",
    "version": 3
   },
   "file_extension": ".py",
   "mimetype": "text/x-python",
   "name": "python",
   "nbconvert_exporter": "python",
   "pygments_lexer": "ipython3",
   "version": "3.10.5"
  }
 },
 "nbformat": 4,
 "nbformat_minor": 5
}
