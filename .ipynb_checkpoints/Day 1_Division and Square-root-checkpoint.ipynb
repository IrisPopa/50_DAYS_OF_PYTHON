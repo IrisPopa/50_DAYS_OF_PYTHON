{
 "cells": [
  {
   "cell_type": "markdown",
   "id": "79f07e0d",
   "metadata": {},
   "source": [
    "Day 1: Division and Square-root\n",
    "Write a function called divide_or_square that takes one\n",
    "argument (a number), and returns the square root of the number\n",
    "if it is divisible by 5, returns its remainder if it is not divisible by\n",
    "5. For example, if you pass 10 as an argument, then your function\n",
    "should return 3.16 as the square root"
   ]
  },
  {
   "cell_type": "code",
   "execution_count": 1,
   "id": "aeb9f79f",
   "metadata": {},
   "outputs": [],
   "source": [
    "import math"
   ]
  },
  {
   "cell_type": "code",
   "execution_count": 5,
   "id": "4e63cb5b",
   "metadata": {},
   "outputs": [],
   "source": [
    "def divide_or_square (number):\n",
    "    if number % 5 == 0:\n",
    "        return math.sqrt(number)\n",
    "    elif number % 5 != 0:\n",
    "        return number % 5"
   ]
  },
  {
   "cell_type": "code",
   "execution_count": 3,
   "id": "a3e44195",
   "metadata": {},
   "outputs": [
    {
     "data": {
      "text/plain": [
       "3.1622776601683795"
      ]
     },
     "execution_count": 3,
     "metadata": {},
     "output_type": "execute_result"
    }
   ],
   "source": [
    "divide_or_square(10)"
   ]
  },
  {
   "cell_type": "code",
   "execution_count": 6,
   "id": "d6ce47f3",
   "metadata": {},
   "outputs": [
    {
     "data": {
      "text/plain": [
       "3"
      ]
     },
     "execution_count": 6,
     "metadata": {},
     "output_type": "execute_result"
    }
   ],
   "source": [
    "divide_or_square(13)"
   ]
  },
  {
   "cell_type": "markdown",
   "id": "2a37a787",
   "metadata": {},
   "source": [
    "Write a function called longest_value that takes a dictionary\n",
    "as an argument and returns the first longest value of the\n",
    "dictionary. For example, the following dictionary should return\n",
    "– apple as the longest value.\n",
    "fruits = {'fruit': 'apple', 'color': 'green'}"
   ]
  },
  {
   "cell_type": "code",
   "execution_count": 78,
   "id": "882b10c1",
   "metadata": {},
   "outputs": [],
   "source": [
    "def longest_value1(dictionary):\n",
    "    longest = max(dictionary.values(), key=len)\n",
    "    return longest"
   ]
  },
  {
   "cell_type": "code",
   "execution_count": 112,
   "id": "cae838be",
   "metadata": {},
   "outputs": [],
   "source": [
    "fruits = {'fruit_one': 'apple', 'fruit_two': 'cherry', 'fruit_three': 'orange','fruit_four': 'banana'}"
   ]
  },
  {
   "cell_type": "code",
   "execution_count": 113,
   "id": "13f9e2d6",
   "metadata": {},
   "outputs": [
    {
     "data": {
      "text/plain": [
       "'cherry'"
      ]
     },
     "execution_count": 113,
     "metadata": {},
     "output_type": "execute_result"
    }
   ],
   "source": [
    "longest_value1(fruits)"
   ]
  },
  {
   "cell_type": "code",
   "execution_count": 115,
   "id": "aa39de88",
   "metadata": {},
   "outputs": [
    {
     "data": {
      "text/plain": [
       "'fruit_three'"
      ]
     },
     "execution_count": 115,
     "metadata": {},
     "output_type": "execute_result"
    }
   ],
   "source": [
    "y = max(fruits.keys(), key =len)\n",
    "y"
   ]
  },
  {
   "cell_type": "code",
   "execution_count": 147,
   "id": "89598bfd",
   "metadata": {},
   "outputs": [],
   "source": [
    "thisdict = { \"brand\": \"Ford\",   \"model\": \"Mustang\",   \"year\": 1964}"
   ]
  },
  {
   "cell_type": "code",
   "execution_count": 132,
   "id": "5a323d29",
   "metadata": {},
   "outputs": [
    {
     "data": {
      "text/plain": [
       "'brand'"
      ]
     },
     "execution_count": 132,
     "metadata": {},
     "output_type": "execute_result"
    }
   ],
   "source": [
    "x = max(thisdict.keys(), key =len)\n",
    "x"
   ]
  },
  {
   "cell_type": "code",
   "execution_count": 148,
   "id": "a2aab4c8",
   "metadata": {},
   "outputs": [
    {
     "ename": "TypeError",
     "evalue": "object of type 'int' has no len()",
     "output_type": "error",
     "traceback": [
      "\u001b[1;31m---------------------------------------------------------------------------\u001b[0m",
      "\u001b[1;31mTypeError\u001b[0m                                 Traceback (most recent call last)",
      "Input \u001b[1;32mIn [148]\u001b[0m, in \u001b[0;36m<cell line: 1>\u001b[1;34m()\u001b[0m\n\u001b[1;32m----> 1\u001b[0m z \u001b[38;5;241m=\u001b[39m \u001b[38;5;28;43mmin\u001b[39;49m\u001b[43m(\u001b[49m\u001b[43mthisdict\u001b[49m\u001b[38;5;241;43m.\u001b[39;49m\u001b[43mvalues\u001b[49m\u001b[43m(\u001b[49m\u001b[43m)\u001b[49m\u001b[43m,\u001b[49m\u001b[43m \u001b[49m\u001b[43mkey\u001b[49m\u001b[43m \u001b[49m\u001b[38;5;241;43m=\u001b[39;49m\u001b[38;5;28;43mlen\u001b[39;49m\u001b[43m)\u001b[49m\n\u001b[0;32m      2\u001b[0m z\n",
      "\u001b[1;31mTypeError\u001b[0m: object of type 'int' has no len()"
     ]
    }
   ],
   "source": [
    "z = min(thisdict.values(), key =len)\n",
    "z"
   ]
  },
  {
   "cell_type": "code",
   "execution_count": null,
   "id": "582120a0",
   "metadata": {},
   "outputs": [],
   "source": []
  },
  {
   "cell_type": "code",
   "execution_count": null,
   "id": "6dabebdd",
   "metadata": {},
   "outputs": [],
   "source": []
  },
  {
   "cell_type": "code",
   "execution_count": null,
   "id": "5f51c4fc",
   "metadata": {},
   "outputs": [],
   "source": []
  }
 ],
 "metadata": {
  "kernelspec": {
   "display_name": "curs_python_env",
   "language": "python",
   "name": "curs_python_env"
  },
  "language_info": {
   "codemirror_mode": {
    "name": "ipython",
    "version": 3
   },
   "file_extension": ".py",
   "mimetype": "text/x-python",
   "name": "python",
   "nbconvert_exporter": "python",
   "pygments_lexer": "ipython3",
   "version": "3.10.5"
  }
 },
 "nbformat": 4,
 "nbformat_minor": 5
}
