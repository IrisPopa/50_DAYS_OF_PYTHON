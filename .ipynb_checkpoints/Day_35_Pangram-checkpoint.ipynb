{
 "cells": [
  {
   "cell_type": "markdown",
   "id": "00e0dc85-d05a-450f-a511-23b45d08491b",
   "metadata": {},
   "source": [
    "## Day 35: Pangram\n",
    "Write a function called check_pangram that takes a string\n",
    "and checks if it is a pangram. A pangram is a sentence that\n",
    "contains all the letters of the alphabet. If it is a pangram,\n",
    "the function should return True, otherwise, return False. The\n",
    "following sentence is a pangram so it should return True:\n",
    "'the quick brown fox jumps over a lazy dog'"
   ]
  },
  {
   "cell_type": "code",
   "execution_count": 1,
   "id": "5f4109e5-2b19-4500-91e5-e3a31a901ea7",
   "metadata": {},
   "outputs": [],
   "source": [
    "def check_pangram(str_param):\n",
    "    alphabet_letters = ['a','b','c','d', 'e','f','g','h','i','j','k','l','m','n','o','p','q','r','s','t','u','v','w','x','y','z']\n",
    "    if len(alphabet_letters) == len(set(''.join(str_param.split()))):\n",
    "        return True\n",
    "    else:\n",
    "        return False"
   ]
  },
  {
   "cell_type": "code",
   "execution_count": 2,
   "id": "6be6446e-a399-472a-bfb6-4e787e6bc72c",
   "metadata": {},
   "outputs": [],
   "source": [
    "a = 'the quick brown fox jumps over a lazy dog'"
   ]
  },
  {
   "cell_type": "code",
   "execution_count": 3,
   "id": "ccdd8a11-494c-4820-b0d6-bd2437b3d455",
   "metadata": {},
   "outputs": [
    {
     "data": {
      "text/plain": [
       "True"
      ]
     },
     "execution_count": 3,
     "metadata": {},
     "output_type": "execute_result"
    }
   ],
   "source": [
    "check_pangram(a)"
   ]
  },
  {
   "cell_type": "code",
   "execution_count": 4,
   "id": "2b595d63-5b57-45b7-8645-de71d2dbe8ec",
   "metadata": {},
   "outputs": [],
   "source": [
    "b = 'The following sentence is a pangram'"
   ]
  },
  {
   "cell_type": "code",
   "execution_count": 5,
   "id": "2fec091d-ab8e-41fe-b5af-9dcc36103f73",
   "metadata": {},
   "outputs": [
    {
     "data": {
      "text/plain": [
       "False"
      ]
     },
     "execution_count": 5,
     "metadata": {},
     "output_type": "execute_result"
    }
   ],
   "source": [
    "check_pangram(b)"
   ]
  },
  {
   "cell_type": "code",
   "execution_count": null,
   "id": "afe526c9-51ab-4c1b-9dea-32e761f0fc90",
   "metadata": {},
   "outputs": [],
   "source": []
  },
  {
   "cell_type": "code",
   "execution_count": 6,
   "id": "4264874c-2fcd-4198-8c64-22f5f7b1d3ab",
   "metadata": {},
   "outputs": [],
   "source": [
    "import string\n",
    "def check_pangram1(sentence):\n",
    "    list1 = []\n",
    "    alphabet = string.ascii_lowercase\n",
    "    # removing white spaces in the string\n",
    "    sentence = sentence.replace(' ', '')\n",
    "    for i in sentence:\n",
    "        if i not in list1:\n",
    "            list1.append(i)\n",
    "            list1.sort()\n",
    "            sentence = ''.join(list1)\n",
    "    if alphabet == sentence:\n",
    "        return True\n",
    "    else:\n",
    "        return False"
   ]
  },
  {
   "cell_type": "code",
   "execution_count": 7,
   "id": "badcfc33-ddcb-4e7c-84d8-532574a55ec5",
   "metadata": {},
   "outputs": [
    {
     "data": {
      "text/plain": [
       "True"
      ]
     },
     "execution_count": 7,
     "metadata": {},
     "output_type": "execute_result"
    }
   ],
   "source": [
    "check_pangram1(a)"
   ]
  },
  {
   "cell_type": "code",
   "execution_count": 8,
   "id": "c25f2753-439e-4428-bc18-3db86d241315",
   "metadata": {},
   "outputs": [
    {
     "data": {
      "text/plain": [
       "False"
      ]
     },
     "execution_count": 8,
     "metadata": {},
     "output_type": "execute_result"
    }
   ],
   "source": [
    "check_pangram1(b)"
   ]
  },
  {
   "cell_type": "code",
   "execution_count": 9,
   "id": "2bf43d2a-5213-44a7-a90a-3ce30ac10571",
   "metadata": {},
   "outputs": [
    {
     "data": {
      "text/plain": [
       "'abcdefghijklmnopqrstuvwxyz'"
      ]
     },
     "execution_count": 9,
     "metadata": {},
     "output_type": "execute_result"
    }
   ],
   "source": [
    "alphabet = string.ascii_lowercase\n",
    "alphabet"
   ]
  },
  {
   "cell_type": "code",
   "execution_count": null,
   "id": "31600349-8358-4fd7-8fa2-3cd10c6598e4",
   "metadata": {},
   "outputs": [],
   "source": []
  },
  {
   "cell_type": "markdown",
   "id": "68cddfc1-1b02-4386-bd15-d722a77cefce",
   "metadata": {},
   "source": [
    "## Extra Challenge: Find my Position\n",
    "Write a function called find_index that takes two arguments;\n",
    "a list of integers, and an integer. The function should return the\n",
    "indexes of the integer in the list. If the integer is not in the list,\n",
    "the function should convert all the numbers in the list into the\n",
    "given integer.\n",
    "For example, if the list is: [1, 2, 4, 6, 7, 7] and the integer is 7,\n",
    "your code should return [4, 5] as the indexes of 7 in the list. If\n",
    "the list is [1, 2, 4, 6, 7, 7] and the integer is 8, your code should\n",
    "return [8, 8, 8, 8, 8, 8] because 8 is not in the list."
   ]
  },
  {
   "cell_type": "code",
   "execution_count": 10,
   "id": "0d65d0cd-8bf3-4f68-bbc8-82b817218996",
   "metadata": {},
   "outputs": [],
   "source": [
    "def find_index(intlist, x):\n",
    "    index_list =[]\n",
    "    i = 0\n",
    "    while i <len(intlist):\n",
    "        if intlist.count(x) < 1:\n",
    "            index_list = list(str(x) * len(intlist))\n",
    "        elif intlist[i] == x:\n",
    "              index_list.append(i)\n",
    "              if len(index_list) == intlist.count(x):\n",
    "                    break\n",
    "        i +=1 \n",
    "    return index_list\n",
    "    "
   ]
  },
  {
   "cell_type": "code",
   "execution_count": 11,
   "id": "6d420ff7-137e-4aa1-9c42-56f4720e334f",
   "metadata": {},
   "outputs": [],
   "source": [
    "list_a = [1, 2, 4, 6, 7, 7, 4, 5, 9, 4]"
   ]
  },
  {
   "cell_type": "code",
   "execution_count": 12,
   "id": "a6329a23-a71d-4094-b976-ace2028d098d",
   "metadata": {},
   "outputs": [
    {
     "data": {
      "text/plain": [
       "[2, 6, 9]"
      ]
     },
     "execution_count": 12,
     "metadata": {},
     "output_type": "execute_result"
    }
   ],
   "source": [
    "find_index(list_a, 4)"
   ]
  },
  {
   "cell_type": "code",
   "execution_count": 13,
   "id": "cae41210-8c03-4479-ba23-0cc90b822c23",
   "metadata": {},
   "outputs": [
    {
     "data": {
      "text/plain": [
       "['3', '3', '3', '3', '3', '3', '3', '3', '3', '3']"
      ]
     },
     "execution_count": 13,
     "metadata": {},
     "output_type": "execute_result"
    }
   ],
   "source": [
    "find_index(list_a, 3)"
   ]
  },
  {
   "cell_type": "code",
   "execution_count": 14,
   "id": "74b98cd1-63b3-4a1c-8f13-5e0ab370fe56",
   "metadata": {},
   "outputs": [],
   "source": [
    "list_b = [1, 2, 4, 6, 7, 7]"
   ]
  },
  {
   "cell_type": "code",
   "execution_count": 15,
   "id": "e1b28ea5-efb0-45a0-9c55-65245454a5d9",
   "metadata": {},
   "outputs": [
    {
     "data": {
      "text/plain": [
       "[4, 5]"
      ]
     },
     "execution_count": 15,
     "metadata": {},
     "output_type": "execute_result"
    }
   ],
   "source": [
    "find_index(list_b, 7)"
   ]
  },
  {
   "cell_type": "code",
   "execution_count": 16,
   "id": "e614ee21-dba7-43d3-91ba-f21faed90407",
   "metadata": {},
   "outputs": [
    {
     "data": {
      "text/plain": [
       "['5', '5', '5', '5', '5', '5']"
      ]
     },
     "execution_count": 16,
     "metadata": {},
     "output_type": "execute_result"
    }
   ],
   "source": [
    "find_index(list_b, 5)"
   ]
  },
  {
   "cell_type": "code",
   "execution_count": null,
   "id": "91bf1d63-a55a-4ae3-87da-9f6d0b8a3394",
   "metadata": {},
   "outputs": [],
   "source": []
  },
  {
   "cell_type": "code",
   "execution_count": 25,
   "id": "7e1c75b9-8f80-4c60-aa3d-ec388314f29b",
   "metadata": {},
   "outputs": [],
   "source": [
    "def find_index1(arr: list, n: int) -> list:\n",
    "    list1 = []\n",
    "    # Using enumerate to find index of integer\n",
    "    for i, j in enumerate(arr):\n",
    "        if j == n:\n",
    "            list1.append(i)\n",
    "        # If integer not in list\n",
    "        elif n not in arr:\n",
    "            list1 = list(str(n) * len(arr))\n",
    "    return list1"
   ]
  },
  {
   "cell_type": "code",
   "execution_count": 26,
   "id": "1d912c6e-5a23-4850-857b-4b7bb3dc62d6",
   "metadata": {},
   "outputs": [
    {
     "data": {
      "text/plain": [
       "[4, 5]"
      ]
     },
     "execution_count": 26,
     "metadata": {},
     "output_type": "execute_result"
    }
   ],
   "source": [
    "find_index1(list_a, 7)"
   ]
  },
  {
   "cell_type": "code",
   "execution_count": 27,
   "id": "523f08a2-009c-4249-8ab7-34229d0c7714",
   "metadata": {},
   "outputs": [
    {
     "data": {
      "text/plain": [
       "['3', '3', '3', '3', '3', '3', '3', '3', '3', '3']"
      ]
     },
     "execution_count": 27,
     "metadata": {},
     "output_type": "execute_result"
    }
   ],
   "source": [
    "find_index1(list_a, 3)"
   ]
  },
  {
   "cell_type": "code",
   "execution_count": null,
   "id": "45e84c8a-176f-45c2-b1e0-1e35380a12a0",
   "metadata": {},
   "outputs": [],
   "source": []
  }
 ],
 "metadata": {
  "kernelspec": {
   "display_name": "curs_python_env",
   "language": "python",
   "name": "curs_python_env"
  },
  "language_info": {
   "codemirror_mode": {
    "name": "ipython",
    "version": 3
   },
   "file_extension": ".py",
   "mimetype": "text/x-python",
   "name": "python",
   "nbconvert_exporter": "python",
   "pygments_lexer": "ipython3",
   "version": "3.10.5"
  }
 },
 "nbformat": 4,
 "nbformat_minor": 5
}
