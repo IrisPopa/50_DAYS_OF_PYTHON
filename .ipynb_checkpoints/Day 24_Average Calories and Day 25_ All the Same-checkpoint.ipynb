{
 "cells": [
  {
   "cell_type": "markdown",
   "id": "5394075c-a8cc-4863-a83e-a3483198ca38",
   "metadata": {},
   "source": [
    "Day 24: Average Calories\n",
    "Create a function called average_calories that calculates the average calories intake of a user. The function should ask the user\n",
    "to input their calories intake for any number of days and once they hit ‘done’ it should calculate and return the average intake."
   ]
  },
  {
   "cell_type": "code",
   "execution_count": 5,
   "id": "66f3bed8-9e0d-402b-8837-0c389902e48a",
   "metadata": {},
   "outputs": [],
   "source": [
    "def average_calories():\n",
    "    calories_list =[]\n",
    "    while True:\n",
    "        calories = input(\"Please input your calories intake for any number of days, when you finish input 'done':\")\n",
    "        if calories == 'done':\n",
    "            break\n",
    "        elif calories != 'done':\n",
    "            calories_list.append(int(calories))\n",
    "    return sum(calories_list)/len(calories_list)"
   ]
  },
  {
   "cell_type": "code",
   "execution_count": 6,
   "id": "c09f8d5e-105f-4fb2-8206-84135be1d633",
   "metadata": {},
   "outputs": [
    {
     "name": "stdin",
     "output_type": "stream",
     "text": [
      "Please input your calories intake for any number of days, when you finish input 'done': 456\n",
      "Please input your calories intake for any number of days, when you finish input 'done': 789\n",
      "Please input your calories intake for any number of days, when you finish input 'done': 567\n",
      "Please input your calories intake for any number of days, when you finish input 'done': 873\n",
      "Please input your calories intake for any number of days, when you finish input 'done': done\n"
     ]
    },
    {
     "data": {
      "text/plain": [
       "671.25"
      ]
     },
     "execution_count": 6,
     "metadata": {},
     "output_type": "execute_result"
    }
   ],
   "source": [
    "average_calories()"
   ]
  },
  {
   "cell_type": "code",
   "execution_count": null,
   "id": "088e77ab-8d6d-4e07-9f4e-5c2824052e45",
   "metadata": {},
   "outputs": [],
   "source": []
  },
  {
   "cell_type": "markdown",
   "id": "d068d137-d025-4cad-a451-23d986f01205",
   "metadata": {},
   "source": [
    "Extra Challenge: Create a Nested List\n",
    "Write a function called nested_lists that takes any number of lists and creates a 2-dimensional nested list of lists. For example,\n",
    "if you pass the following lists as arguments: [1, 2, 3, 5], [1, 2, 3,4], [1, 3, 4, 5].\n",
    "Your code should return: [[1, 2, 3, 5], [1, 2, 3, 4], [1, 3, 4, 5]]"
   ]
  },
  {
   "cell_type": "code",
   "execution_count": 2,
   "id": "83de8326-d0c1-4416-b746-60eb5a22b94b",
   "metadata": {},
   "outputs": [],
   "source": [
    "def nested_lists(*args):\n",
    "    my_nested_list =[]\n",
    "    for arg in args:\n",
    "         my_nested_list.append(arg)\n",
    "    return my_nested_list "
   ]
  },
  {
   "cell_type": "code",
   "execution_count": 3,
   "id": "436e2062-7eef-4523-916d-b8c6ce4c9a59",
   "metadata": {},
   "outputs": [],
   "source": [
    "a = [1, 2, 3, 5]\n",
    "b = [1, 2, 3,4]\n",
    "c = [1, 3, 4, 5]"
   ]
  },
  {
   "cell_type": "code",
   "execution_count": 4,
   "id": "83f4e24a-c7a9-496d-aecb-d3c5cc83eba3",
   "metadata": {},
   "outputs": [
    {
     "data": {
      "text/plain": [
       "[[1, 2, 3, 5], [1, 2, 3, 4], [1, 3, 4, 5]]"
      ]
     },
     "execution_count": 4,
     "metadata": {},
     "output_type": "execute_result"
    }
   ],
   "source": [
    " nested_lists(a, b, c)"
   ]
  },
  {
   "cell_type": "code",
   "execution_count": null,
   "id": "02427fd8-a8e9-4c1b-b72c-8edd5d7f80c5",
   "metadata": {},
   "outputs": [],
   "source": []
  },
  {
   "cell_type": "markdown",
   "id": "16bf7d4e-a79b-4709-b232-aed726fd890e",
   "metadata": {},
   "source": [
    "Day 25: All the Same\n",
    "Create a function called all_the_same that takes one argument, a string, a list, or a tuple and checks if all the\n",
    "elements are the same. If the elements are the same, the function should return True. If not, it should return False. For example,\n",
    "[‘Mary’, ‘Mary’, ‘Mary’] should return True."
   ]
  },
  {
   "cell_type": "code",
   "execution_count": 12,
   "id": "ff8134e0-98ea-4e5c-abff-eeb85f32e924",
   "metadata": {},
   "outputs": [],
   "source": [
    "def all_the_same(arg):\n",
    "    elements_set = set()\n",
    "    for elem in arg:\n",
    "         elements_set.add(elem)\n",
    "    if len( elements_set) == 1:\n",
    "        return True\n",
    "    else:\n",
    "        return False"
   ]
  },
  {
   "cell_type": "code",
   "execution_count": 62,
   "id": "4e45da55-a397-4e1c-938f-01e0c4931ea4",
   "metadata": {},
   "outputs": [],
   "source": [
    "a = ['Mary', 'Mary', 'Mary'] "
   ]
  },
  {
   "cell_type": "code",
   "execution_count": 14,
   "id": "3e4dac9b-10e4-4d14-aaa2-5876a607e03e",
   "metadata": {},
   "outputs": [
    {
     "data": {
      "text/plain": [
       "True"
      ]
     },
     "execution_count": 14,
     "metadata": {},
     "output_type": "execute_result"
    }
   ],
   "source": [
    "all_the_same(a)"
   ]
  },
  {
   "cell_type": "code",
   "execution_count": 49,
   "id": "09d6b668-12dc-4849-afa0-16f7a78e40bb",
   "metadata": {},
   "outputs": [],
   "source": [
    "b = 'cccddd'"
   ]
  },
  {
   "cell_type": "code",
   "execution_count": 19,
   "id": "c760e835-6338-4fcd-bcb9-ea4a7e096168",
   "metadata": {},
   "outputs": [
    {
     "data": {
      "text/plain": [
       "False"
      ]
     },
     "execution_count": 19,
     "metadata": {},
     "output_type": "execute_result"
    }
   ],
   "source": [
    "all_the_same(b)"
   ]
  },
  {
   "cell_type": "code",
   "execution_count": 20,
   "id": "acdc10e9-2b98-4594-a394-940461b77f52",
   "metadata": {},
   "outputs": [],
   "source": [
    "c = (\"apple\", \"banana\", \"cherry\")"
   ]
  },
  {
   "cell_type": "code",
   "execution_count": 21,
   "id": "a6dea94b-17ca-4282-bb3d-c84db1a629e6",
   "metadata": {},
   "outputs": [
    {
     "data": {
      "text/plain": [
       "False"
      ]
     },
     "execution_count": 21,
     "metadata": {},
     "output_type": "execute_result"
    }
   ],
   "source": [
    "all_the_same(c)"
   ]
  },
  {
   "cell_type": "code",
   "execution_count": null,
   "id": "773fa7ae-75dc-4a2f-941e-85ec917e877e",
   "metadata": {},
   "outputs": [],
   "source": []
  },
  {
   "cell_type": "code",
   "execution_count": 44,
   "id": "2690976a-34e9-4383-90e6-3a2b76d5b89c",
   "metadata": {},
   "outputs": [],
   "source": [
    "def all_the_same1(a):\n",
    "    a = all(i == a[0] for i in a)\n",
    "    return a"
   ]
  },
  {
   "cell_type": "code",
   "execution_count": 51,
   "id": "9998ccc4-a958-4f6e-aa64-e4264f2d7065",
   "metadata": {},
   "outputs": [
    {
     "data": {
      "text/plain": [
       "True"
      ]
     },
     "execution_count": 51,
     "metadata": {},
     "output_type": "execute_result"
    }
   ],
   "source": [
    "all_the_same1(a)"
   ]
  },
  {
   "cell_type": "code",
   "execution_count": null,
   "id": "29f3ad71-5a1b-4ffe-a255-2d7b034f8665",
   "metadata": {},
   "outputs": [],
   "source": []
  },
  {
   "cell_type": "markdown",
   "id": "c677220d-056f-440d-8e43-3e28ba9e3e7f",
   "metadata": {},
   "source": [
    "**Extra Challenge: Reverse a String\n",
    "str1 = \"the love is real\"\n",
    "Write a function called read_backwards that takes a string as an argument and reverses it. For example, the string above\n",
    "should return: \"real is love the\""
   ]
  },
  {
   "cell_type": "code",
   "execution_count": 38,
   "id": "98063e7c-82eb-4d9d-9c7b-cb4406cff05c",
   "metadata": {},
   "outputs": [],
   "source": [
    "def read_backwards (string):\n",
    "    string_list = list(string.split())\n",
    "    string_list.reverse()\n",
    "    return ' '.join(string_list)"
   ]
  },
  {
   "cell_type": "code",
   "execution_count": 39,
   "id": "e4716fa5-c3b5-43d7-b312-e4e87b5f59fd",
   "metadata": {},
   "outputs": [],
   "source": [
    "str1 = \"the love is real\""
   ]
  },
  {
   "cell_type": "code",
   "execution_count": 40,
   "id": "525bb868-d51b-48ad-8a7e-4c19d134f4ec",
   "metadata": {},
   "outputs": [
    {
     "data": {
      "text/plain": [
       "'real is love the'"
      ]
     },
     "execution_count": 40,
     "metadata": {},
     "output_type": "execute_result"
    }
   ],
   "source": [
    "read_backwards (str1)"
   ]
  },
  {
   "cell_type": "code",
   "execution_count": 42,
   "id": "9c121bbd-9a9c-4736-8501-7754801c9b5f",
   "metadata": {},
   "outputs": [],
   "source": [
    "str2 = 'the string above should'"
   ]
  },
  {
   "cell_type": "code",
   "execution_count": 43,
   "id": "db583bea-d293-4be9-8ddb-a4eb805a3929",
   "metadata": {},
   "outputs": [
    {
     "data": {
      "text/plain": [
       "'should above string the'"
      ]
     },
     "execution_count": 43,
     "metadata": {},
     "output_type": "execute_result"
    }
   ],
   "source": [
    "read_backwards (str2)"
   ]
  },
  {
   "cell_type": "code",
   "execution_count": null,
   "id": "72941c0a-1d39-4e1d-911f-15beadc4a9d4",
   "metadata": {},
   "outputs": [],
   "source": []
  },
  {
   "cell_type": "code",
   "execution_count": 69,
   "id": "80e55e16-e07d-4a8b-8da0-a58aeba117bd",
   "metadata": {},
   "outputs": [],
   "source": [
    "def read_backwards2(n: str) -> str:\n",
    "    # Create an empty list\n",
    "    x = []\n",
    "    for i in n.split()[::-1]: # Using split to split string on whitespaces\n",
    "        x.append(i)\n",
    "        # using the join method to join string\n",
    "    return ' '.join(x)"
   ]
  },
  {
   "cell_type": "code",
   "execution_count": 70,
   "id": "68ef37f8-8bf1-4c89-ab41-dc807c2cef68",
   "metadata": {},
   "outputs": [
    {
     "data": {
      "text/plain": [
       "'real is love the'"
      ]
     },
     "execution_count": 70,
     "metadata": {},
     "output_type": "execute_result"
    }
   ],
   "source": [
    "read_backwards2(str1)"
   ]
  },
  {
   "cell_type": "code",
   "execution_count": 71,
   "id": "34eb41f8-0bdd-42e6-9bc4-32987651b481",
   "metadata": {},
   "outputs": [
    {
     "data": {
      "text/plain": [
       "'should above string the'"
      ]
     },
     "execution_count": 71,
     "metadata": {},
     "output_type": "execute_result"
    }
   ],
   "source": [
    "read_backwards2(str2)"
   ]
  },
  {
   "cell_type": "code",
   "execution_count": null,
   "id": "d225e6db-d77f-49a6-a18f-a3a827a6fa5f",
   "metadata": {},
   "outputs": [],
   "source": []
  },
  {
   "cell_type": "code",
   "execution_count": null,
   "id": "e2943858-027e-4b56-8d29-ab4d0724423c",
   "metadata": {},
   "outputs": [],
   "source": []
  }
 ],
 "metadata": {
  "kernelspec": {
   "display_name": "curs_python_env",
   "language": "python",
   "name": "curs_python_env"
  },
  "language_info": {
   "codemirror_mode": {
    "name": "ipython",
    "version": 3
   },
   "file_extension": ".py",
   "mimetype": "text/x-python",
   "name": "python",
   "nbconvert_exporter": "python",
   "pygments_lexer": "ipython3",
   "version": "3.10.5"
  }
 },
 "nbformat": 4,
 "nbformat_minor": 5
}
