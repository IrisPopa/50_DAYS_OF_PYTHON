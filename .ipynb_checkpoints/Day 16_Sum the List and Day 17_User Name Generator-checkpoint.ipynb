{
 "cells": [
  {
   "cell_type": "markdown",
   "id": "5cc4c8d6-04be-4c2f-8cb7-996fa41404e4",
   "metadata": {},
   "source": [
    "Day 16: Sum the List\n",
    "Write a function called sum_list with one parameter that takes\n",
    "a nested list of integers as an argument and returns the sum of\n",
    "the integers. For example, if you pass [[2, 4, 5, 6], [2, 3, 5, 6]]\n",
    "as an argument your function should return a sum of 33Day 12: Count the Dots\n",
    "Write a function called count_dots. This function takes a\n",
    "string separated by dots as a parameter and counts how many\n",
    "dots are in the string. For example, ‘h.e.l.p.’ should return 4\n",
    "dots, and ‘he.lp.’ should return 2 dots."
   ]
  },
  {
   "cell_type": "code",
   "execution_count": null,
   "id": "b5f3eaaf-0290-4ae2-b7a9-b62fa8e72444",
   "metadata": {},
   "outputs": [],
   "source": []
  },
  {
   "cell_type": "code",
   "execution_count": null,
   "id": "62b81dd9-b4a3-487b-a963-23d1511a46d0",
   "metadata": {},
   "outputs": [],
   "source": []
  },
  {
   "cell_type": "code",
   "execution_count": null,
   "id": "3c45df28-7012-4615-b921-f3af4aa7be48",
   "metadata": {},
   "outputs": [],
   "source": []
  },
  {
   "cell_type": "code",
   "execution_count": null,
   "id": "4becff0c-05f7-4ef5-8fba-d94ccf01d0ff",
   "metadata": {},
   "outputs": [],
   "source": []
  },
  {
   "cell_type": "code",
   "execution_count": null,
   "id": "d2aa99e0-a376-4b5b-ae97-b3cd0af3b7f9",
   "metadata": {},
   "outputs": [],
   "source": []
  },
  {
   "cell_type": "code",
   "execution_count": null,
   "id": "ccf47e7c-2670-4fd7-bf42-9c3a0f4464d3",
   "metadata": {},
   "outputs": [],
   "source": []
  },
  {
   "cell_type": "code",
   "execution_count": null,
   "id": "a9aa34c6-3290-45e0-8c72-fa0e1ffc2e20",
   "metadata": {},
   "outputs": [],
   "source": []
  },
  {
   "cell_type": "code",
   "execution_count": null,
   "id": "384e16a9-3aa9-4a44-b1f6-8661401d42b4",
   "metadata": {},
   "outputs": [],
   "source": []
  },
  {
   "cell_type": "code",
   "execution_count": null,
   "id": "b0dcc46e-aea8-419d-9bf4-a00b80693e91",
   "metadata": {},
   "outputs": [],
   "source": []
  },
  {
   "cell_type": "code",
   "execution_count": null,
   "id": "766a4283-ea91-461d-b572-11d98a382c9a",
   "metadata": {},
   "outputs": [],
   "source": []
  },
  {
   "cell_type": "code",
   "execution_count": null,
   "id": "916e5a9c-3dd7-4799-a152-e7ab6dd351fc",
   "metadata": {},
   "outputs": [],
   "source": []
  },
  {
   "cell_type": "code",
   "execution_count": null,
   "id": "9925fd66-f08d-474d-bc0b-a4f48cb90801",
   "metadata": {},
   "outputs": [],
   "source": []
  },
  {
   "cell_type": "code",
   "execution_count": null,
   "id": "8198602a-2fac-43c8-bebb-a00799025e87",
   "metadata": {},
   "outputs": [],
   "source": []
  },
  {
   "cell_type": "code",
   "execution_count": null,
   "id": "f831608b-9bb2-4376-be63-d517acdd2050",
   "metadata": {},
   "outputs": [],
   "source": []
  },
  {
   "cell_type": "code",
   "execution_count": null,
   "id": "5c3bb8d3-26c3-4ad0-b0e9-e379cb75a985",
   "metadata": {},
   "outputs": [],
   "source": []
  }
 ],
 "metadata": {
  "kernelspec": {
   "display_name": "curs_python_env",
   "language": "python",
   "name": "curs_python_env"
  },
  "language_info": {
   "codemirror_mode": {
    "name": "ipython",
    "version": 3
   },
   "file_extension": ".py",
   "mimetype": "text/x-python",
   "name": "python",
   "nbconvert_exporter": "python",
   "pygments_lexer": "ipython3",
   "version": "3.10.5"
  }
 },
 "nbformat": 4,
 "nbformat_minor": 5
}
