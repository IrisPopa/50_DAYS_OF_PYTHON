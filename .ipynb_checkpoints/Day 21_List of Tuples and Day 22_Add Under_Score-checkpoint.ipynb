{
 "cells": [
  {
   "cell_type": "markdown",
   "id": "bba9368a-e92e-4487-ac34-0abbe4edf10c",
   "metadata": {},
   "source": [
    "Day 21: List of Tuples\n",
    "Write a function called make_tuples that takes two lists, equal lists, and combines them into a list of tuples. For\n",
    "example, if list a is [1,2,3,4] and list b is [5,6,7,8], your function should return [(1,5), (2,6), (3,7), (4,8)]."
   ]
  },
  {
   "cell_type": "code",
   "execution_count": 7,
   "id": "62b81dd9-b4a3-487b-a963-23d1511a46d0",
   "metadata": {},
   "outputs": [],
   "source": [
    "def make_tuples(list1, list2):\n",
    "    list_of_tuples = []\n",
    "    list_of_numbers = []\n",
    "    for i in range(len(list1)):\n",
    "        list_of_numbers =[list1[i], list2[i]]\n",
    "        list_of_tuples.append(tuple(list_of_numbers))\n",
    "    return list_of_tuples "
   ]
  },
  {
   "cell_type": "code",
   "execution_count": 43,
   "id": "3c45df28-7012-4615-b921-f3af4aa7be48",
   "metadata": {},
   "outputs": [
    {
     "data": {
      "text/plain": [
       "[(1, 5), (2, 6), (3, 7), (4, 8), (13, 21)]"
      ]
     },
     "execution_count": 43,
     "metadata": {},
     "output_type": "execute_result"
    }
   ],
   "source": [
    "make_tuples([1,2,3,4,13], [5,6,7,8,21])"
   ]
  },
  {
   "cell_type": "code",
   "execution_count": 75,
   "id": "4becff0c-05f7-4ef5-8fba-d94ccf01d0ff",
   "metadata": {},
   "outputs": [],
   "source": [
    "def make_tuples1(a,b):\n",
    "    c = zip(a,b)\n",
    "    return list(tuple(c))"
   ]
  },
  {
   "cell_type": "code",
   "execution_count": 74,
   "id": "292f686b-19ea-4ca9-96dd-acccf5d17807",
   "metadata": {},
   "outputs": [
    {
     "data": {
      "text/plain": [
       "[(1, 5), (2, 6), (3, 7), (4, 8), (13, 21)]"
      ]
     },
     "execution_count": 74,
     "metadata": {},
     "output_type": "execute_result"
    }
   ],
   "source": [
    "make_tuples1([1,2,3,4,13], [5,6,7,8,21])"
   ]
  },
  {
   "cell_type": "code",
   "execution_count": null,
   "id": "cb6450e7-618d-4205-912c-10e7553436dc",
   "metadata": {},
   "outputs": [],
   "source": []
  },
  {
   "cell_type": "code",
   "execution_count": null,
   "id": "edc71f23-e531-4446-b072-5c5f6f9481f2",
   "metadata": {
    "scrolled": true,
    "tags": []
   },
   "outputs": [],
   "source": []
  },
  {
   "cell_type": "markdown",
   "id": "c8e0d2b3-6d7d-45f0-83d7-acd1553a0941",
   "metadata": {},
   "source": [
    "Extra Challenge: Even Number or Average\n",
    "Write a function called even_or_average that ask a user to input five numbers. Once the user is done, the code should\n",
    "return the largest even number in the inputted numbers. If there is no even number in the list, the code should return the\n",
    "average of all the five numbers."
   ]
  },
  {
   "cell_type": "code",
   "execution_count": 80,
   "id": "ccf47e7c-2670-4fd7-bf42-9c3a0f4464d3",
   "metadata": {},
   "outputs": [],
   "source": [
    "def even_or_average():\n",
    "    numbers_list = []\n",
    "    even_list = []\n",
    "    average = 0\n",
    "    while True:\n",
    "        number = int(input('Enter a number:'))\n",
    "        numbers_list.append(number)\n",
    "        if len(numbers_list) == 5:\n",
    "            break\n",
    "    for x in numbers_list:\n",
    "        if x % 2 == 0:\n",
    "            even_list.append(x)\n",
    "        else:\n",
    "            average =sum(numbers_list)/ len(numbers_list)\n",
    "    if len(even_list) != 0:\n",
    "        return max(even_list)\n",
    "    else:\n",
    "        return average"
   ]
  },
  {
   "cell_type": "code",
   "execution_count": 82,
   "id": "a9aa34c6-3290-45e0-8c72-fa0e1ffc2e20",
   "metadata": {},
   "outputs": [
    {
     "name": "stdin",
     "output_type": "stream",
     "text": [
      "Enter a number: 11\n",
      "Enter a number: 45\n",
      "Enter a number: 67\n",
      "Enter a number: 9\n",
      "Enter a number: 5\n"
     ]
    },
    {
     "data": {
      "text/plain": [
       "27.4"
      ]
     },
     "execution_count": 82,
     "metadata": {},
     "output_type": "execute_result"
    }
   ],
   "source": [
    "even_or_average()"
   ]
  },
  {
   "cell_type": "code",
   "execution_count": 1,
   "id": "766a4283-ea91-461d-b572-11d98a382c9a",
   "metadata": {},
   "outputs": [],
   "source": [
    "def even_or_average1():\n",
    "    avg_num = []\n",
    "    even_number = []\n",
    "    # Using while loop to ensure code keeps running\n",
    "    while True:\n",
    "        number = input(\"Please enter numbers or done: \")\n",
    "        avg_num.append(int(number))\n",
    "        if int(number) % 2 == 0:\n",
    "            even_number.append(number)\n",
    "            # Once the user inputs five numbers the code breaks\n",
    "        if len(avg_num) == 5:\n",
    "                break\n",
    "    if len(even_number) > 0: # checking if list empty\n",
    "            return f'The largest even number: {max(even_number)}'\n",
    "    else:\n",
    "            return f'The average is : {sum(avg_num) / len(avg_num):.2f}'"
   ]
  },
  {
   "cell_type": "code",
   "execution_count": 2,
   "id": "b67f641f-89b7-43d5-8c59-1aa7fbbbbd4b",
   "metadata": {},
   "outputs": [
    {
     "name": "stdin",
     "output_type": "stream",
     "text": [
      "Please enter numbers or done:  23\n",
      "Please enter numbers or done:  45\n",
      "Please enter numbers or done:  6\n",
      "Please enter numbers or done:  9\n",
      "Please enter numbers or done:  10\n"
     ]
    },
    {
     "data": {
      "text/plain": [
       "'The largest even number: 6'"
      ]
     },
     "execution_count": 2,
     "metadata": {},
     "output_type": "execute_result"
    }
   ],
   "source": [
    "even_or_average1()"
   ]
  },
  {
   "cell_type": "code",
   "execution_count": null,
   "id": "b6b00af5-96d0-4acd-8d71-97a1fa3a80ca",
   "metadata": {},
   "outputs": [],
   "source": []
  },
  {
   "cell_type": "markdown",
   "id": "687baf43-cb49-48e0-a74f-067a2fb5c58e",
   "metadata": {},
   "source": [
    "Day 22: Add Under_Score\n",
    "Create three functions. The first called add_hash takes a string and adds a hash # between the words. The second function called add_underscore removes the hash (#) and replaces it with an underscore \"_\" The third function called remove_underscore,\n",
    "removes the underscore and replaces it with nothing. if you pass ‘Python’ as an argument for the three functions, and you call them at the same time like:\n",
    "print(remove_underscore(add_underscore(add_hash('Python'))))\n",
    "it should return ‘Python’."
   ]
  },
  {
   "cell_type": "code",
   "execution_count": 49,
   "id": "9925fd66-f08d-474d-bc0b-a4f48cb90801",
   "metadata": {},
   "outputs": [],
   "source": [
    "def add_hash(string):\n",
    "    return string.replace(' ', '#')"
   ]
  },
  {
   "cell_type": "code",
   "execution_count": 3,
   "id": "6b9fbcfb-b271-4da3-943b-92a56bf6960c",
   "metadata": {},
   "outputs": [],
   "source": [
    "def add_hash1(string):\n",
    "    return  '#'.join(string)"
   ]
  },
  {
   "cell_type": "code",
   "execution_count": 50,
   "id": "8198602a-2fac-43c8-bebb-a00799025e87",
   "metadata": {},
   "outputs": [
    {
     "data": {
      "text/plain": [
       "'Hello,#and#welcome#to#my#World!'"
      ]
     },
     "execution_count": 50,
     "metadata": {},
     "output_type": "execute_result"
    }
   ],
   "source": [
    "add_hash(\"Hello, and welcome to my World!\")"
   ]
  },
  {
   "cell_type": "code",
   "execution_count": 5,
   "id": "997b3f11-2c25-434f-9687-c95b2e494c9e",
   "metadata": {},
   "outputs": [
    {
     "data": {
      "text/plain": [
       "'P#y#t#h#o#n'"
      ]
     },
     "execution_count": 5,
     "metadata": {},
     "output_type": "execute_result"
    }
   ],
   "source": [
    "add_hash1('Python')"
   ]
  },
  {
   "cell_type": "code",
   "execution_count": 7,
   "id": "f831608b-9bb2-4376-be63-d517acdd2050",
   "metadata": {},
   "outputs": [],
   "source": [
    "def add_underscore(string):\n",
    "    return string.replace('#', '_')"
   ]
  },
  {
   "cell_type": "code",
   "execution_count": 53,
   "id": "5c3bb8d3-26c3-4ad0-b0e9-e379cb75a985",
   "metadata": {},
   "outputs": [
    {
     "data": {
      "text/plain": [
       "'Hello,_and_welcome_to_my_World!'"
      ]
     },
     "execution_count": 53,
     "metadata": {},
     "output_type": "execute_result"
    }
   ],
   "source": [
    "add_underscore('Hello,#and#welcome#to#my#World!')"
   ]
  },
  {
   "cell_type": "code",
   "execution_count": 8,
   "id": "b8c80180-db47-4942-811f-c5d08f56d89d",
   "metadata": {},
   "outputs": [],
   "source": [
    "def remove_underscore(string):\n",
    "    return string.replace('_', ' ')"
   ]
  },
  {
   "cell_type": "code",
   "execution_count": 10,
   "id": "34e1c5e3-8164-4687-a0aa-2ef9f0b4a387",
   "metadata": {},
   "outputs": [],
   "source": [
    "def remove_underscore1(string):\n",
    "    return string.replace('_', '')"
   ]
  },
  {
   "cell_type": "code",
   "execution_count": 56,
   "id": "5f4b814a-c059-4f69-813a-710db6b2bcf0",
   "metadata": {},
   "outputs": [
    {
     "data": {
      "text/plain": [
       "'Hello, and welcome to my World!'"
      ]
     },
     "execution_count": 56,
     "metadata": {},
     "output_type": "execute_result"
    }
   ],
   "source": [
    "remove_underscore('Hello,_and_welcome_to_my_World!')"
   ]
  },
  {
   "cell_type": "code",
   "execution_count": 58,
   "id": "54adcb47-836d-415c-a720-5c693edc3e61",
   "metadata": {},
   "outputs": [
    {
     "data": {
      "text/plain": [
       "'Hello, and welcome to my World!'"
      ]
     },
     "execution_count": 58,
     "metadata": {},
     "output_type": "execute_result"
    }
   ],
   "source": [
    "remove_underscore(add_underscore(add_hash(\"Hello, and welcome to my World!\")))"
   ]
  },
  {
   "cell_type": "code",
   "execution_count": 11,
   "id": "2312ed7c-6248-4b7a-8022-980865798cda",
   "metadata": {},
   "outputs": [
    {
     "data": {
      "text/plain": [
       "'Python'"
      ]
     },
     "execution_count": 11,
     "metadata": {},
     "output_type": "execute_result"
    }
   ],
   "source": [
    "remove_underscore1(add_underscore(add_hash1('Python')))"
   ]
  },
  {
   "cell_type": "code",
   "execution_count": null,
   "id": "5b279658-6e1e-451c-80ab-1b8b3a634834",
   "metadata": {},
   "outputs": [],
   "source": []
  }
 ],
 "metadata": {
  "kernelspec": {
   "display_name": "curs_python_env",
   "language": "python",
   "name": "curs_python_env"
  },
  "language_info": {
   "codemirror_mode": {
    "name": "ipython",
    "version": 3
   },
   "file_extension": ".py",
   "mimetype": "text/x-python",
   "name": "python",
   "nbconvert_exporter": "python",
   "pygments_lexer": "ipython3",
   "version": "3.10.5"
  }
 },
 "nbformat": 4,
 "nbformat_minor": 5
}
