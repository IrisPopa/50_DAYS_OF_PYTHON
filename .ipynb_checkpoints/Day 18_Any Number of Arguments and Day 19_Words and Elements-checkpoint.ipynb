{
 "cells": [
  {
   "cell_type": "markdown",
   "id": "ffd27c2b-a023-40ff-aa00-87848920f0ec",
   "metadata": {},
   "source": [
    "Day 18: Any Number of Arguments\n",
    "Write a function called any_number that can receive any number of arguments (integers and floats) and return the average of those integers. If you pass 12, 90, 12, 34 as arguments your function should return 37.0 as average. If you pass 12, 90 your function should return 51.0 as average"
   ]
  },
  {
   "cell_type": "code",
   "execution_count": 1,
   "id": "0763e140-6370-43b5-90b5-3af8bbefde17",
   "metadata": {},
   "outputs": [],
   "source": [
    "import math "
   ]
  },
  {
   "cell_type": "code",
   "execution_count": 15,
   "id": "26b83678-5f1a-492f-930b-559ac600da94",
   "metadata": {},
   "outputs": [],
   "source": [
    "def any_number(*args):\n",
    "    suma = 0\n",
    "    count = 0\n",
    "    for arg in args:\n",
    "        suma += arg\n",
    "        count += 1 \n",
    "    return  suma / count"
   ]
  },
  {
   "cell_type": "code",
   "execution_count": 16,
   "id": "926a1744-d61b-47aa-973b-83259dea3fa2",
   "metadata": {},
   "outputs": [
    {
     "data": {
      "text/plain": [
       "37.0"
      ]
     },
     "execution_count": 16,
     "metadata": {},
     "output_type": "execute_result"
    }
   ],
   "source": [
    "any_number(12, 90, 12, 34)"
   ]
  },
  {
   "cell_type": "code",
   "execution_count": 17,
   "id": "47e04f00-e4ac-4129-b312-57a0f5f756d3",
   "metadata": {},
   "outputs": [
    {
     "data": {
      "text/plain": [
       "51.0"
      ]
     },
     "execution_count": 17,
     "metadata": {},
     "output_type": "execute_result"
    }
   ],
   "source": [
    "any_number(12, 90)"
   ]
  },
  {
   "cell_type": "code",
   "execution_count": null,
   "id": "2cbc2b83-4cff-46f6-9797-50358af6edef",
   "metadata": {},
   "outputs": [],
   "source": []
  },
  {
   "cell_type": "code",
   "execution_count": null,
   "id": "c7e2c140-1e22-409a-b667-8c0af8492d09",
   "metadata": {},
   "outputs": [],
   "source": [
    "Extra Challenge: Add and Reverse\n",
    "Write a function called add_reverse. This function takes two lists as argument and adds each corresponding number, and\n",
    "reverses the outcome. For example, if you pass [10, 12, 34] and [12, 56, 78]. Your code should return [112, 22, 68]. If the\n",
    "two lists are not of equal lengths, the code should return a message that \"the lists are not of equal lengths\"."
   ]
  },
  {
   "cell_type": "code",
   "execution_count": 67,
   "id": "45c4cf4b-389f-40bd-ae8e-5d9f5c6e98c4",
   "metadata": {},
   "outputs": [],
   "source": [
    "def add_reverse(list1, list2):\n",
    "    sum_list = []\n",
    "    suma = 0\n",
    "    if len(list1) != len(list2):\n",
    "        return f\"the lists are not of equal lengths\"\n",
    "    if len(list1) == len(list2):\n",
    "        for i in range(len(list1)):\n",
    "            suma = list1[i] + list2[i]\n",
    "            i +=1\n",
    "            sum_list.append(suma)\n",
    "        sum_list.reverse()\n",
    "    return sum_list"
   ]
  },
  {
   "cell_type": "code",
   "execution_count": 68,
   "id": "6df8d7fd-26f2-4f22-affb-83e8bffe87dc",
   "metadata": {},
   "outputs": [
    {
     "data": {
      "text/plain": [
       "[112, 68, 22]"
      ]
     },
     "execution_count": 68,
     "metadata": {},
     "output_type": "execute_result"
    }
   ],
   "source": [
    "add_reverse([10, 12, 34], [12, 56, 78])"
   ]
  },
  {
   "cell_type": "code",
   "execution_count": 70,
   "id": "7fc5e967-8357-43d9-848a-6d7c94ed8617",
   "metadata": {},
   "outputs": [
    {
     "data": {
      "text/plain": [
       "'the lists are not of equal lengths'"
      ]
     },
     "execution_count": 70,
     "metadata": {},
     "output_type": "execute_result"
    }
   ],
   "source": [
    "add_reverse([10, 12, 34, 15], [12, 56, 78])"
   ]
  },
  {
   "cell_type": "code",
   "execution_count": 71,
   "id": "a8c5b084-8ba2-46bb-b417-fd55a830d13c",
   "metadata": {},
   "outputs": [
    {
     "data": {
      "text/plain": [
       "[8, 112, 68, 22]"
      ]
     },
     "execution_count": 71,
     "metadata": {},
     "output_type": "execute_result"
    }
   ],
   "source": [
    "add_reverse([10, 12, 34, 2], [12, 56, 78, 6])"
   ]
  },
  {
   "cell_type": "code",
   "execution_count": null,
   "id": "f500307b-f5e0-447c-babc-4e3d6f23895c",
   "metadata": {},
   "outputs": [],
   "source": []
  },
  {
   "cell_type": "markdown",
   "id": "a4ce6bf6-e7bb-4b99-914f-bfe056b913d5",
   "metadata": {},
   "source": [
    "Day 19: Words and Elements\n",
    "Write two functions. The first function is called count_words which takes a string of words and counts how many words are in\n",
    "the string. \n",
    "The second function called count_elements takes a string of words and counts how many elements are in the string. Do not\n",
    "count the whitespaces. The first function will return the number of words in a string and the second one will return the number\n",
    "of elements (less whitespace). If you pass ‘I love learning’, the count_words function should return 3 words and count_elements should return 13 elements."
   ]
  },
  {
   "cell_type": "code",
   "execution_count": null,
   "id": "a1828e82-8df7-46b7-b64e-c20a83f94f66",
   "metadata": {},
   "outputs": [],
   "source": [
    "def count_words():\n",
    "    "
   ]
  }
 ],
 "metadata": {
  "kernelspec": {
   "display_name": "curs_python_env",
   "language": "python",
   "name": "curs_python_env"
  },
  "language_info": {
   "codemirror_mode": {
    "name": "ipython",
    "version": 3
   },
   "file_extension": ".py",
   "mimetype": "text/x-python",
   "name": "python",
   "nbconvert_exporter": "python",
   "pygments_lexer": "ipython3",
   "version": "3.10.5"
  }
 },
 "nbformat": 4,
 "nbformat_minor": 5
}
