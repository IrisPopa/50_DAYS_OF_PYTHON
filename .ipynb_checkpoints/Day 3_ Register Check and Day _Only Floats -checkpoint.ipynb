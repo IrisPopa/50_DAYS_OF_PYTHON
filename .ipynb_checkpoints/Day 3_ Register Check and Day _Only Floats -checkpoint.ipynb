{
 "cells": [
  {
   "cell_type": "markdown",
   "id": "16406ffe-fc36-4fe1-b9c1-0348f38eea37",
   "metadata": {},
   "source": [
    "Write a function called register_check that checks how many students are in school. The function takes a dictionary as a\n",
    "parameter. If the student is in school, the dictionary says ‘yes’. If the student is not in school, the dictionary says ‘no’. Your\n",
    "function should return the number of students in school. Use the dictionary below. Your function should return 3."
   ]
  },
  {
   "cell_type": "code",
   "execution_count": 3,
   "id": "2dc97569-6d4c-4743-8444-7dee72725e8d",
   "metadata": {},
   "outputs": [],
   "source": [
    "register = {'Michael':'yes','John': 'no', 'Peter':'yes', 'Mary': 'yes'}"
   ]
  },
  {
   "cell_type": "code",
   "execution_count": 16,
   "id": "a442392e-3069-4fef-9f0c-580dd977cb42",
   "metadata": {},
   "outputs": [],
   "source": [
    "def register_check(dict):\n",
    "    result = 0\n",
    "    for k in dict.keys():\n",
    "        if dict[k] == 'yes':\n",
    "            result += 1\n",
    "    return result"
   ]
  },
  {
   "cell_type": "code",
   "execution_count": 17,
   "id": "5532b5b2-ee3b-4177-ad0b-277cad231ab7",
   "metadata": {},
   "outputs": [
    {
     "data": {
      "text/plain": [
       "3"
      ]
     },
     "execution_count": 17,
     "metadata": {},
     "output_type": "execute_result"
    }
   ],
   "source": [
    "register_check(register)"
   ]
  },
  {
   "cell_type": "markdown",
   "id": "c4d3010a-b7c4-4579-8173-2c76b3c2ae4f",
   "metadata": {},
   "source": [
    "names = [\"kerry\", \"dickson\", \"John\", \"Mary\",\"carol\", \"Rose\", \"adam\"]\n",
    "You are given a list of names above. This list is made up of names of lowercase and uppercase letters. Your task is to write a code\n",
    "that will return a tuple of all the names in the list that have only lowercase letters. Your tuple should have names sorted\n",
    "alphabetically in descending order. Using the list above, your code should return:\n",
    "('kerry', 'dickson', 'carol', 'adam')"
   ]
  },
  {
   "cell_type": "code",
   "execution_count": 62,
   "id": "2c98ca0e-d42f-4b42-9efc-8db4124c86ef",
   "metadata": {},
   "outputs": [],
   "source": [
    "names = [\"kerry\", \"dickson\", \"John\", \"Mary\",\"carol\", \"Rose\", \"adam\"]"
   ]
  },
  {
   "cell_type": "code",
   "execution_count": 63,
   "id": "6811a575-825f-4649-8f75-f71b9d66d8dd",
   "metadata": {},
   "outputs": [],
   "source": [
    "def names_lowercase(list_names):\n",
    "    list_lowercase = []\n",
    "    for x in range(0, len(list_names)):\n",
    "        if list_names[x].istitle() == False:\n",
    "            list_lowercase.append(list_names[x])\n",
    "            tuple_lowercase = tuple(list_lowercase)\n",
    "    return tuple_lowercase"
   ]
  },
  {
   "cell_type": "code",
   "execution_count": 66,
   "id": "781d162c-d9a5-4db0-9f21-5496c3285daa",
   "metadata": {},
   "outputs": [
    {
     "data": {
      "text/plain": [
       "tuple"
      ]
     },
     "execution_count": 66,
     "metadata": {},
     "output_type": "execute_result"
    }
   ],
   "source": [
    "type(names_lowercase(names))"
   ]
  },
  {
   "cell_type": "code",
   "execution_count": 67,
   "id": "795973e1-5f7d-4180-83db-91705825b86d",
   "metadata": {},
   "outputs": [
    {
     "data": {
      "text/plain": [
       "('kerry', 'dickson', 'carol', 'adam')"
      ]
     },
     "execution_count": 67,
     "metadata": {},
     "output_type": "execute_result"
    }
   ],
   "source": [
    "names_lowercase(names)"
   ]
  },
  {
   "cell_type": "code",
   "execution_count": null,
   "id": "b635a76b-5653-4759-a736-7ee0b936e51a",
   "metadata": {},
   "outputs": [],
   "source": []
  },
  {
   "cell_type": "code",
   "execution_count": null,
   "id": "ba889af2-fd17-4c69-99a2-7840bf2f600a",
   "metadata": {},
   "outputs": [],
   "source": []
  },
  {
   "cell_type": "code",
   "execution_count": null,
   "id": "a181198e-cf07-4c9d-81a3-f18d30f127a5",
   "metadata": {},
   "outputs": [],
   "source": []
  },
  {
   "cell_type": "code",
   "execution_count": null,
   "id": "563c3ef8-ccde-475e-9069-bd06ff554443",
   "metadata": {},
   "outputs": [],
   "source": []
  },
  {
   "cell_type": "code",
   "execution_count": null,
   "id": "0ac0dca5-5fa0-4902-a4d1-211af4c49800",
   "metadata": {},
   "outputs": [],
   "source": []
  }
 ],
 "metadata": {
  "kernelspec": {
   "display_name": "curs_python_env",
   "language": "python",
   "name": "curs_python_env"
  },
  "language_info": {
   "codemirror_mode": {
    "name": "ipython",
    "version": 3
   },
   "file_extension": ".py",
   "mimetype": "text/x-python",
   "name": "python",
   "nbconvert_exporter": "python",
   "pygments_lexer": "ipython3",
   "version": "3.10.5"
  }
 },
 "nbformat": 4,
 "nbformat_minor": 5
}
