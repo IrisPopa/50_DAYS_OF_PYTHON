{
 "cells": [
  {
   "cell_type": "markdown",
   "id": "faf41e40-34e2-4c7e-9a0e-3e9872bddedf",
   "metadata": {},
   "source": [
    "# Day 42: Spelling Checker\n",
    "Write a function called spelling_checker. This code asks the user to input a word and if a user inputs a wrong spelling it should suggest the correct spelling by asking the user if they meant to type that word. If the user says no, it should ask the user to enter the word again. If the user says yes, it should return the correct word. If the word entered by the user is correctly spelled the function should return the correct word. Use the module textblob."
   ]
  },
  {
   "cell_type": "code",
   "execution_count": 2,
   "id": "809318d2-c0b0-432c-a939-a8e13665aedf",
   "metadata": {},
   "outputs": [
    {
     "name": "stdout",
     "output_type": "stream",
     "text": [
      "Requirement already satisfied: textblob in c:\\users\\valen\\envs\\curs_python\\lib\\site-packages (0.17.1)\n",
      "Requirement already satisfied: nltk>=3.1 in c:\\users\\valen\\envs\\curs_python\\lib\\site-packages (from textblob) (3.8)\n",
      "Requirement already satisfied: joblib in c:\\users\\valen\\envs\\curs_python\\lib\\site-packages (from nltk>=3.1->textblob) (1.1.0)\n",
      "Requirement already satisfied: click in c:\\users\\valen\\envs\\curs_python\\lib\\site-packages (from nltk>=3.1->textblob) (8.1.3)\n",
      "Requirement already satisfied: regex>=2021.8.3 in c:\\users\\valen\\envs\\curs_python\\lib\\site-packages (from nltk>=3.1->textblob) (2022.10.31)\n",
      "Requirement already satisfied: tqdm in c:\\users\\valen\\envs\\curs_python\\lib\\site-packages (from nltk>=3.1->textblob) (4.64.0)\n",
      "Requirement already satisfied: colorama in c:\\users\\valen\\envs\\curs_python\\lib\\site-packages (from click->nltk>=3.1->textblob) (0.4.5)\n",
      "\n",
      "[notice] A new release of pip available: 22.1.2 -> 22.3.1\n",
      "[notice] To update, run: C:\\Users\\valen\\Envs\\curs_python\\Scripts\\python.exe -m pip install --upgrade pip\n"
     ]
    }
   ],
   "source": [
    "import sys\n",
    "!{sys.executable} -m pip install textblob"
   ]
  },
  {
   "cell_type": "code",
   "execution_count": 22,
   "id": "5c900469-7112-4eea-b889-bcc2d37dec50",
   "metadata": {},
   "outputs": [],
   "source": [
    "from textblob import Word"
   ]
  },
  {
   "cell_type": "code",
   "execution_count": 148,
   "id": "08b344e5-7bfd-4aed-b112-0d4003c6a05f",
   "metadata": {},
   "outputs": [],
   "source": [
    "def spelling_checker():\n",
    "    while True:\n",
    "        word = Word(input('Please input a word:'))\n",
    "        correct_word = word.correct()\n",
    "        if word == correct_word:\n",
    "            print(f'The word is \"{correct_word}\"')\n",
    "            break\n",
    "        elif word != correct_word:\n",
    "            print(f'Do you want to type: {correct_word}?')\n",
    "            aswer = input(\"Please answer with 'yes' or 'no':\")\n",
    "            if aswer.lower() == 'yes':\n",
    "                print(f'The word is \"{correct_word}\"')\n",
    "                break"
   ]
  },
  {
   "cell_type": "code",
   "execution_count": 149,
   "id": "09a5a47f-edf6-4c0f-9340-e80bd7669c23",
   "metadata": {},
   "outputs": [
    {
     "name": "stdin",
     "output_type": "stream",
     "text": [
      "Please input a word: speling\n"
     ]
    },
    {
     "name": "stdout",
     "output_type": "stream",
     "text": [
      "Do you want to type: spelling?\n"
     ]
    },
    {
     "name": "stdin",
     "output_type": "stream",
     "text": [
      "Please answer with 'yes' or 'no': \n",
      "Please input a word: yes\n"
     ]
    },
    {
     "name": "stdout",
     "output_type": "stream",
     "text": [
      "The word is \"yes\"\n"
     ]
    }
   ],
   "source": [
    "spelling_checker()"
   ]
  },
  {
   "cell_type": "code",
   "execution_count": 150,
   "id": "8b1cc8e5-5aa0-4a53-92c4-992f44188fce",
   "metadata": {},
   "outputs": [
    {
     "name": "stdin",
     "output_type": "stream",
     "text": [
      "Please input a word: speling\n"
     ]
    },
    {
     "name": "stdout",
     "output_type": "stream",
     "text": [
      "Do you want to type: spelling?\n"
     ]
    },
    {
     "name": "stdin",
     "output_type": "stream",
     "text": [
      "Please answer with 'yes' or 'no': no\n",
      "Please input a word: spolin\n"
     ]
    },
    {
     "name": "stdout",
     "output_type": "stream",
     "text": [
      "Do you want to type: spoken?\n"
     ]
    },
    {
     "name": "stdin",
     "output_type": "stream",
     "text": [
      "Please answer with 'yes' or 'no': yes\n"
     ]
    },
    {
     "name": "stdout",
     "output_type": "stream",
     "text": [
      "The word is \"spoken\"\n"
     ]
    }
   ],
   "source": [
    "spelling_checker()"
   ]
  },
  {
   "cell_type": "code",
   "execution_count": 151,
   "id": "fff65edd-e83b-4075-9dec-aafa457f8ad9",
   "metadata": {},
   "outputs": [
    {
     "name": "stdin",
     "output_type": "stream",
     "text": [
      "Please input a word: spelling\n"
     ]
    },
    {
     "name": "stdout",
     "output_type": "stream",
     "text": [
      "The word is \"spelling\"\n"
     ]
    }
   ],
   "source": [
    "spelling_checker()"
   ]
  },
  {
   "cell_type": "code",
   "execution_count": null,
   "id": "33713e6d-e29f-4062-95f9-d05c12154f41",
   "metadata": {},
   "outputs": [],
   "source": []
  },
  {
   "cell_type": "code",
   "execution_count": 143,
   "id": "bbf6bb7b-374d-45a2-8bcf-44af9bfb5343",
   "metadata": {},
   "outputs": [],
   "source": [
    "from textblob import TextBlob\n",
    "def spelling_checker1():\n",
    "    while True:\n",
    "        word = input('Enter a word:')\n",
    "        # checking if the input word is correct\n",
    "        if word != TextBlob(word).correct():\n",
    "            # suggesting the correct word to the user\n",
    "            question = input(f'Did you mean '\n",
    "                         f'{TextBlob(word).correct()}?. '\n",
    "                         f'type yes/no :')\n",
    "            if question == 'yes':\n",
    "                break\n",
    "            else:\n",
    "                print('Please try again')\n",
    "         # if the word entered is correct\n",
    "         # the code breaks and returns word\n",
    "        elif word == TextBlob(word).correct():\n",
    "                  break\n",
    "    return f'Your word is, {TextBlob(word).correct()}'"
   ]
  },
  {
   "cell_type": "code",
   "execution_count": 144,
   "id": "ea523376-ec19-43e8-a4d8-145bcd0bffd0",
   "metadata": {},
   "outputs": [
    {
     "name": "stdin",
     "output_type": "stream",
     "text": [
      "Enter a word: speling\n",
      "Did you mean spelling?. type yes/no : no\n"
     ]
    },
    {
     "name": "stdout",
     "output_type": "stream",
     "text": [
      "Please try again\n"
     ]
    },
    {
     "name": "stdin",
     "output_type": "stream",
     "text": [
      "Enter a word: spelling\n"
     ]
    },
    {
     "data": {
      "text/plain": [
       "'Your word is, spelling'"
      ]
     },
     "execution_count": 144,
     "metadata": {},
     "output_type": "execute_result"
    }
   ],
   "source": [
    "spelling_checker1()"
   ]
  },
  {
   "cell_type": "code",
   "execution_count": null,
   "id": "43d6a761-abab-4d9d-99e9-2a21ce718cb1",
   "metadata": {},
   "outputs": [],
   "source": []
  },
  {
   "cell_type": "markdown",
   "id": "53885585-80a1-4a96-b4fd-91fa0bc83849",
   "metadata": {},
   "source": [
    "# Extra Challenge:Create an Alarm clock \n",
    "Create a function called alarm that sets an alarm clock for the user. The function should ask the user to enter time they want the alarm to go off. The user should enter the hour and minute. The function should then print out the time when the alarm will go off. When its alarm time, the code should let off a sound. Use the winsound module for sound."
   ]
  },
  {
   "cell_type": "code",
   "execution_count": 119,
   "id": "dce0d6bf-d40e-49f9-bdc6-a7a586d7a8dc",
   "metadata": {},
   "outputs": [
    {
     "name": "stdout",
     "output_type": "stream",
     "text": [
      "Requirement already satisfied: datetime in c:\\users\\valen\\envs\\curs_python\\lib\\site-packages (4.9)\n",
      "Requirement already satisfied: pytz in c:\\users\\valen\\envs\\curs_python\\lib\\site-packages (from datetime) (2022.1)\n",
      "Requirement already satisfied: zope.interface in c:\\users\\valen\\envs\\curs_python\\lib\\site-packages (from datetime) (5.5.2)\n",
      "Requirement already satisfied: setuptools in c:\\users\\valen\\envs\\curs_python\\lib\\site-packages (from zope.interface->datetime) (62.6.0)\n",
      "\n",
      "[notice] A new release of pip available: 22.1.2 -> 22.3.1\n",
      "[notice] To update, run: C:\\Users\\valen\\Envs\\curs_python\\Scripts\\python.exe -m pip install --upgrade pip\n"
     ]
    }
   ],
   "source": [
    "import sys\n",
    "!{sys.executable} -m pip install datetime\n",
    "from datetime import datetime, time"
   ]
  },
  {
   "cell_type": "code",
   "execution_count": 124,
   "id": "a0619624-f16a-44e9-ba79-33e6f3b0a30e",
   "metadata": {},
   "outputs": [],
   "source": [
    "import winsound"
   ]
  },
  {
   "cell_type": "code",
   "execution_count": 184,
   "id": "2395094d-c204-49eb-950d-7fe7f6844b94",
   "metadata": {},
   "outputs": [],
   "source": [
    "def alarm_clock():\n",
    "    alarm_input = input('Please enter the time for the alarm clock, use the format HH:MM ')\n",
    "    alarm_list = alarm_input.split(':')\n",
    "    alarm_time = hour = alarm_list[0] + ':' + alarm_list[1]\n",
    "    print(f'You set the alarm clock to {alarm_time}')\n",
    "    while True:  \n",
    "        time_now = datetime.now().strftime('%H:%M')\n",
    "        if alarm_time == time_now:\n",
    "             return winsound.Beep(700, 1000)\n",
    "             break"
   ]
  },
  {
   "cell_type": "code",
   "execution_count": 185,
   "id": "9aabfdf8-4582-432e-97d7-964d402baa9e",
   "metadata": {},
   "outputs": [
    {
     "name": "stdin",
     "output_type": "stream",
     "text": [
      "Please enter the time for the alarm clock, use the format HH:MM  20:06\n"
     ]
    },
    {
     "name": "stdout",
     "output_type": "stream",
     "text": [
      "You set the alarm clock to 20:06\n"
     ]
    }
   ],
   "source": [
    "alarm_clock()"
   ]
  },
  {
   "cell_type": "code",
   "execution_count": null,
   "id": "5897ce85-32e1-44df-b4d4-b4b08b4c4d80",
   "metadata": {},
   "outputs": [],
   "source": []
  },
  {
   "cell_type": "code",
   "execution_count": 159,
   "id": "2a4f5a06-a6eb-4a95-896f-d3643159d22b",
   "metadata": {},
   "outputs": [],
   "source": [
    "def set_alarm2():\n",
    "    # Enter hour\n",
    "    hour = input(\"Please enter hour\")\n",
    "    # Enter minute\n",
    "    minute = input(\"Please enter minute\")\n",
    "    # concatenate hour and minute\n",
    "    alarm_time = hour + ':' + minute\n",
    "    # let the user know the alarm time set\n",
    "    print(\"You have set alarm for \", alarm_time)\n",
    "    while True:\n",
    "        now = datetime.now().strftime(\"%H:%M\")\n",
    "        if alarm_time == now:\n",
    "            print(\"Wake up\")\n",
    "            print(\"Wake up\")\n",
    "            print(\"Wake up\")\n",
    "            winsound.PlaySound(\"SystemExit\", winsound.SND_ALIAS)\n",
    "            break"
   ]
  },
  {
   "cell_type": "code",
   "execution_count": 160,
   "id": "6dbf1981-aac3-45a6-b9ad-0c32ee7b3ee7",
   "metadata": {},
   "outputs": [
    {
     "name": "stdin",
     "output_type": "stream",
     "text": [
      "Please enter hour 19\n",
      "Please enter minute 52\n"
     ]
    },
    {
     "name": "stdout",
     "output_type": "stream",
     "text": [
      "You have set alarm for  19:52\n",
      "Wake up\n",
      "Wake up\n",
      "Wake up\n"
     ]
    }
   ],
   "source": [
    "set_alarm2()"
   ]
  },
  {
   "cell_type": "code",
   "execution_count": 168,
   "id": "9172002d-d3af-473f-87ab-95c60f0d9013",
   "metadata": {},
   "outputs": [
    {
     "data": {
      "text/plain": [
       "'20:00'"
      ]
     },
     "execution_count": 168,
     "metadata": {},
     "output_type": "execute_result"
    }
   ],
   "source": [
    "datetime.now().strftime('%H:%M')"
   ]
  },
  {
   "cell_type": "code",
   "execution_count": null,
   "id": "1640481d-7ed9-4119-b1a2-39c83a5b6630",
   "metadata": {},
   "outputs": [],
   "source": []
  }
 ],
 "metadata": {
  "kernelspec": {
   "display_name": "curs_python_env",
   "language": "python",
   "name": "curs_python_env"
  },
  "language_info": {
   "codemirror_mode": {
    "name": "ipython",
    "version": 3
   },
   "file_extension": ".py",
   "mimetype": "text/x-python",
   "name": "python",
   "nbconvert_exporter": "python",
   "pygments_lexer": "ipython3",
   "version": "3.10.5"
  }
 },
 "nbformat": 4,
 "nbformat_minor": 5
}
