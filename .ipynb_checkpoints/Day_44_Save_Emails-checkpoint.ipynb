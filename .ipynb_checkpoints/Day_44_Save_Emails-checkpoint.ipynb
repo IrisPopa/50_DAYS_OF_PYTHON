{
 "cells": [
  {
   "cell_type": "markdown",
   "id": "c210d44f-5c17-4d08-936e-d0be203564d5",
   "metadata": {},
   "source": [
    "# Day 44: Save Emails\n",
    "Create a function called save_emails. This function takes no\n",
    "arguments but asks the user to input email, and it saves the\n",
    "emails in a CSV file. The user can input as many emails as they\n",
    "want. Once they hit ‘done’ the function saves the emails and\n",
    "closes the file. Create another function called open_emails.\n",
    "This function opens and reads the content of the CSV file. Each\n",
    "email must be in its line. Here is an example of how the emails\n",
    "must be saved:\n",
    "jj@gmail.com\n",
    "kate@yahoo.com\n",
    "and not like this:\n",
    "jj@gmail.comkate@yahoo.com"
   ]
  },
  {
   "cell_type": "code",
   "execution_count": 10,
   "id": "4aea33e4-1c73-4dbb-a3fc-eb269cc649a6",
   "metadata": {},
   "outputs": [],
   "source": [
    "def save_emails():\n",
    "    with open('emails.csv', 'a') as file:\n",
    "            file.write('Emails' + '\\n')\n",
    "            while True:\n",
    "                input_email = input(\"Please enter an email, if you finished please enter 'done':\")\n",
    "                if input_email == 'done':\n",
    "                    break\n",
    "                else:\n",
    "                    file.write(input_email + '\\n')\n",
    "    with open('emails.csv', 'r') as file:\n",
    "        for line in file:\n",
    "            print(line)"
   ]
  },
  {
   "cell_type": "code",
   "execution_count": 11,
   "id": "c07803b2-a9c8-4da8-a5c2-18dbe18a77e4",
   "metadata": {},
   "outputs": [
    {
     "name": "stdin",
     "output_type": "stream",
     "text": [
      "Please enter an email, if you finished please enter 'done': kate@yahoo.com\n",
      "Please enter an email, if you finished please enter 'done': vali_miha_valy@yahoo.com\n",
      "Please enter an email, if you finished please enter 'done': valentinamihaelap@gmail.com\n",
      "Please enter an email, if you finished please enter 'done': done\n"
     ]
    },
    {
     "name": "stdout",
     "output_type": "stream",
     "text": [
      "Emails\n",
      "\n",
      "kate@yahoo.com\n",
      "\n",
      "vali_miha_valy@yahoo.com\n",
      "\n",
      "valentinamihaelap@gmail.com\n",
      "\n"
     ]
    }
   ],
   "source": [
    "save_emails()"
   ]
  },
  {
   "cell_type": "code",
   "execution_count": null,
   "id": "79ded058-dd35-4344-9872-b4543775f21e",
   "metadata": {},
   "outputs": [],
   "source": []
  }
 ],
 "metadata": {
  "kernelspec": {
   "display_name": "curs_python_env",
   "language": "python",
   "name": "curs_python_env"
  },
  "language_info": {
   "codemirror_mode": {
    "name": "ipython",
    "version": 3
   },
   "file_extension": ".py",
   "mimetype": "text/x-python",
   "name": "python",
   "nbconvert_exporter": "python",
   "pygments_lexer": "ipython3",
   "version": "3.10.5"
  }
 },
 "nbformat": 4,
 "nbformat_minor": 5
}
