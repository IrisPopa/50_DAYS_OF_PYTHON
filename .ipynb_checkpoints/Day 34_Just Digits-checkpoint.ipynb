{
 "cells": [
  {
   "cell_type": "markdown",
   "id": "99ca4aed-a8d5-4f24-9686-6ead1a6fd325",
   "metadata": {},
   "source": [
    "## Day 34: Just Digits \n",
    "In this challenge, copy the text below and save it as a CSV file.\n",
    "Save it in the same folder as your Python file. Save it as\n",
    "python.csv.\n",
    "Write a function called just_digits that reads the text from the\n",
    "CSV file and returns only digit elements from the file. Your\n",
    "function should return 1991, 2, 200, 3, 2008 as a list of\n",
    "strings.\n",
    "“Python was released in 1991 for the first time. Python 2 was\n",
    "released in 2000 and introduced new features, such as list\n",
    "comprehensions and a cycle-detecting garbage collection system\n",
    "(in addition to reference counting). Python 3 was released in 2008\n",
    "and was a major revision of the language that is not\n",
    "completely backward-compatible.”\n",
    "Source: Wikipedia"
   ]
  },
  {
   "cell_type": "code",
   "execution_count": 18,
   "id": "8b046d48-e0d2-48d3-9218-e9dd53febb37",
   "metadata": {},
   "outputs": [],
   "source": [
    "with open ('just_digit_file.cvs', 'w') as file:\n",
    "    text = '''Python was released in 1991 for the first time. Python 2 was released in 2000 and introduced new features, such as list\n",
    "    comprehensions and a cycle-detecting garbage collection system (in addition to reference counting). Python 3 was released in 2008 \n",
    "    and was a major revision of the language that is not completely backward-compatible.'''\n",
    "    file.write(text)"
   ]
  },
  {
   "cell_type": "code",
   "execution_count": 57,
   "id": "c50cf401-5588-4ab8-aef2-409be7efad64",
   "metadata": {},
   "outputs": [
    {
     "name": "stdout",
     "output_type": "stream",
     "text": [
      "['1991', '2', '2000', '3', '2008']\n"
     ]
    }
   ],
   "source": [
    "with open ('just_digit_file.cvs', 'r') as file:\n",
    "    digit_list =[]\n",
    "    for line in file:\n",
    "        elements_text_list = line.split()\n",
    "        for n in elements_text_list:\n",
    "            if n.isdigit() == True:\n",
    "                digit_list.append(n)\n",
    "    print(digit_list)"
   ]
  },
  {
   "cell_type": "code",
   "execution_count": null,
   "id": "e4b55642-66d7-42e2-80df-c4f793b1f2c9",
   "metadata": {},
   "outputs": [],
   "source": []
  }
 ],
 "metadata": {
  "kernelspec": {
   "display_name": "curs_python_env",
   "language": "python",
   "name": "curs_python_env"
  },
  "language_info": {
   "codemirror_mode": {
    "name": "ipython",
    "version": 3
   },
   "file_extension": ".py",
   "mimetype": "text/x-python",
   "name": "python",
   "nbconvert_exporter": "python",
   "pygments_lexer": "ipython3",
   "version": "3.10.5"
  }
 },
 "nbformat": 4,
 "nbformat_minor": 5
}
