{
 "cells": [
  {
   "cell_type": "markdown",
   "id": "69a43d65-756a-4765-8784-7ec92c66a1f8",
   "metadata": {},
   "source": [
    "## Day 47: Save a JSON\n",
    "Write a function called save_json. This function takes a\n",
    "dictionary below as an argument and saves it on a file in JSON\n",
    "format.\n",
    "Write another function called read_json that opens the file\n",
    "that you just saved and reads its content.\n",
    "names = {'name': 'Carol','sex': 'female','age': 55}"
   ]
  },
  {
   "cell_type": "code",
   "execution_count": 1,
   "id": "a956cc3b-9760-43d0-9fd6-a6024445ddad",
   "metadata": {},
   "outputs": [],
   "source": [
    "import json"
   ]
  },
  {
   "cell_type": "code",
   "execution_count": 2,
   "id": "3b5744f3-c8d7-489c-bad4-467ab8f237dc",
   "metadata": {},
   "outputs": [],
   "source": [
    "def save_json(dict_param):\n",
    "    with open('file.json', 'w') as file:\n",
    "        file.write(json.dumps(dict_param))\n",
    "    return json.load(open('file.json', 'r'))    "
   ]
  },
  {
   "cell_type": "code",
   "execution_count": 3,
   "id": "6e757c96-9db1-409d-81f5-ee2d97ba71c0",
   "metadata": {},
   "outputs": [],
   "source": [
    "x = {\n",
    "  \"name\": \"John\",\n",
    "  \"age\": 30,\n",
    "  \"married\": True,\n",
    "  \"divorced\": False,\n",
    "  \"children\": (\"Ann\",\"Billy\"),\n",
    "  \"pets\": None,\n",
    "  \"cars\": [\n",
    "    {\"model\": \"BMW 230\", \"mpg\": 27.5},\n",
    "    {\"model\": \"Ford Edge\", \"mpg\": 24.1}\n",
    "  ]\n",
    "}"
   ]
  },
  {
   "cell_type": "code",
   "execution_count": 9,
   "id": "23e39ac1-b0be-4a1c-9b51-e7de5e5f6960",
   "metadata": {},
   "outputs": [
    {
     "data": {
      "text/plain": [
       "{'name': 'John',\n",
       " 'age': 30,\n",
       " 'married': True,\n",
       " 'divorced': False,\n",
       " 'children': ['Ann', 'Billy'],\n",
       " 'pets': None,\n",
       " 'cars': [{'model': 'BMW 230', 'mpg': 27.5},\n",
       "  {'model': 'Ford Edge', 'mpg': 24.1}]}"
      ]
     },
     "execution_count": 9,
     "metadata": {},
     "output_type": "execute_result"
    }
   ],
   "source": [
    "save_json(x)"
   ]
  },
  {
   "cell_type": "code",
   "execution_count": null,
   "id": "532779da-e756-490d-9c63-2a8472e8a2cd",
   "metadata": {},
   "outputs": [],
   "source": []
  },
  {
   "cell_type": "code",
   "execution_count": 5,
   "id": "4e940d58-10f3-4269-8e67-784332791124",
   "metadata": {},
   "outputs": [],
   "source": [
    "def save_json1(dict1):\n",
    "    with open('file1.json', 'w') as my_file:\n",
    "        #saving to file and adding indent\n",
    "        json.dump(dict1, my_file, indent=4)\n",
    "        save_json(names)"
   ]
  },
  {
   "cell_type": "code",
   "execution_count": 6,
   "id": "6f567516-ecdf-4212-be30-89aa0b5d820d",
   "metadata": {},
   "outputs": [],
   "source": [
    "# Second function\n",
    "def read_json1():\n",
    "    with open('file1.json', 'r') as my_file:\n",
    "        json_file = json.load(my_file)\n",
    "    return json_file"
   ]
  },
  {
   "cell_type": "code",
   "execution_count": 7,
   "id": "c9999f80-397e-4a02-864d-f39ec5315b37",
   "metadata": {},
   "outputs": [],
   "source": [
    "names = {'name': 'Carol','sex': 'female','age': 55}"
   ]
  },
  {
   "cell_type": "code",
   "execution_count": 8,
   "id": "a946f570-92f5-40da-85a5-28c30ddfa8e8",
   "metadata": {},
   "outputs": [
    {
     "data": {
      "text/plain": [
       "{'name': 'Carol', 'sex': 'female', 'age': 55}"
      ]
     },
     "execution_count": 8,
     "metadata": {},
     "output_type": "execute_result"
    }
   ],
   "source": [
    "save_json1(names)\n",
    "read_json1()"
   ]
  },
  {
   "cell_type": "code",
   "execution_count": null,
   "id": "69bd6f7e-dc64-4efb-8d4f-daba3ae73ea0",
   "metadata": {},
   "outputs": [],
   "source": []
  }
 ],
 "metadata": {
  "kernelspec": {
   "display_name": "curs_python_env",
   "language": "python",
   "name": "curs_python_env"
  },
  "language_info": {
   "codemirror_mode": {
    "name": "ipython",
    "version": 3
   },
   "file_extension": ".py",
   "mimetype": "text/x-python",
   "name": "python",
   "nbconvert_exporter": "python",
   "pygments_lexer": "ipython3",
   "version": "3.10.5"
  }
 },
 "nbformat": 4,
 "nbformat_minor": 5
}
