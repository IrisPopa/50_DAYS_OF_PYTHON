{
 "cells": [
  {
   "cell_type": "markdown",
   "id": "744276f2-3c90-4c60-9155-c12901ae801a",
   "metadata": {},
   "source": [
    "Write a function called string_range that takes a single number and returns a string of its range. The string characters\n",
    "should be separated by dots(.) For example, if you pass 6 as an argument, your function should return ‘0.1.2.3.4.5’."
   ]
  },
  {
   "cell_type": "code",
   "execution_count": 47,
   "id": "0074940b-6047-4f57-836d-2f8516ff6a58",
   "metadata": {},
   "outputs": [],
   "source": [
    "def string_range(number: int)->str:\n",
    "    list_range = []\n",
    "    for x in range (0,number):\n",
    "        list_range.append(str(x))\n",
    "    return '.'.join(list_range)\n",
    "    "
   ]
  },
  {
   "cell_type": "code",
   "execution_count": 49,
   "id": "13212e64-baf8-4926-9247-e4281b77a190",
   "metadata": {},
   "outputs": [
    {
     "data": {
      "text/plain": [
       "'0.1.2.3.4.5.6'"
      ]
     },
     "execution_count": 49,
     "metadata": {},
     "output_type": "execute_result"
    }
   ],
   "source": [
    "string_range(7)"
   ]
  },
  {
   "cell_type": "code",
   "execution_count": null,
   "id": "af125c29-6131-4640-87cc-39976cce4ac1",
   "metadata": {},
   "outputs": [],
   "source": []
  },
  {
   "cell_type": "markdown",
   "id": "155d4743-f844-4c5e-a73c-88af6fa04f93",
   "metadata": {},
   "source": [
    "You are given a list of names, and you are asked to write a code that returns all the names that start with ‘S’. Your code should return a dictionary of all the names that start with S and how many times they appear in the dictionary. Here is a list below:\n",
    "names = ['Joseph','Nathan', 'Sasha', 'Kelly', 'Muhammad', 'Jabulani', 'Sera', 'Patel', 'Sera']"
   ]
  },
  {
   "cell_type": "code",
   "execution_count": 53,
   "id": "1a452f60-d21d-4a32-8224-3127324be8f7",
   "metadata": {},
   "outputs": [],
   "source": [
    "def names_that_start_with_S1(list_name: list)-> dict:\n",
    "    list_name_with_S ={}\n",
    "    for x in list_name:\n",
    "        if x[0] == 'S':\n",
    "            list_name_with_S[x] =list_name_with_S.get(x,0) + 1\n",
    "    return list_name_with_S\n",
    "    "
   ]
  },
  {
   "cell_type": "code",
   "execution_count": 54,
   "id": "e6b166a3-42e3-43a7-8444-9e4a5934f63f",
   "metadata": {},
   "outputs": [],
   "source": [
    "names = ['Joseph','Nathan', 'Sasha', 'Kelly', 'Muhammad', 'Jabulani', 'Sera', 'Patel', 'Sera']"
   ]
  },
  {
   "cell_type": "code",
   "execution_count": 55,
   "id": "47be63be-ea6a-4272-bcf8-f1698a95c52c",
   "metadata": {},
   "outputs": [
    {
     "data": {
      "text/plain": [
       "{'Sasha': 1, 'Sera': 2}"
      ]
     },
     "execution_count": 55,
     "metadata": {},
     "output_type": "execute_result"
    }
   ],
   "source": [
    "names_that_start_with_S1(names)"
   ]
  },
  {
   "cell_type": "code",
   "execution_count": 74,
   "id": "967f8f06-6b01-4b35-b452-8f7b770416ad",
   "metadata": {},
   "outputs": [],
   "source": [
    "def names_that_start_with_S2(list_name: list, letter: str)-> dict:\n",
    "    list_name_with_S2 ={}\n",
    "    for x in list_name:\n",
    "        if x.startswith(letter):\n",
    "            list_name_with_S2.update({x:list_name.count(x)})\n",
    "    return list_name_with_S2             "
   ]
  },
  {
   "cell_type": "code",
   "execution_count": 75,
   "id": "c619f759-8d1a-45c6-9ded-8fab6c3ae9de",
   "metadata": {},
   "outputs": [
    {
     "data": {
      "text/plain": [
       "{'Kelly': 1}"
      ]
     },
     "execution_count": 75,
     "metadata": {},
     "output_type": "execute_result"
    }
   ],
   "source": [
    "names_that_start_with_S2(names, 'K')"
   ]
  },
  {
   "cell_type": "code",
   "execution_count": null,
   "id": "325e2d66-7459-4edd-b014-2ca98402741e",
   "metadata": {},
   "outputs": [],
   "source": []
  },
  {
   "cell_type": "code",
   "execution_count": null,
   "id": "717d9582-5c1a-46b0-8770-31ccf4a565f8",
   "metadata": {},
   "outputs": [],
   "source": []
  },
  {
   "cell_type": "code",
   "execution_count": null,
   "id": "4f88d517-6bfb-4e30-9b01-fe54b121aabf",
   "metadata": {},
   "outputs": [],
   "source": []
  },
  {
   "cell_type": "code",
   "execution_count": null,
   "id": "87248348-14ab-40e7-8746-6525644f3fe6",
   "metadata": {},
   "outputs": [],
   "source": []
  },
  {
   "cell_type": "code",
   "execution_count": null,
   "id": "9b00c2a6-ad03-4c19-b5af-21f8c4950e62",
   "metadata": {},
   "outputs": [],
   "source": []
  },
  {
   "cell_type": "code",
   "execution_count": null,
   "id": "3426ba55-5412-43ad-bb02-994c35d018ff",
   "metadata": {},
   "outputs": [],
   "source": []
  },
  {
   "cell_type": "code",
   "execution_count": null,
   "id": "80b2d943-c87f-42b5-b077-dc3ee76e69f9",
   "metadata": {},
   "outputs": [],
   "source": []
  },
  {
   "cell_type": "code",
   "execution_count": null,
   "id": "bc55da89-5923-481b-87cf-d344f03cbee3",
   "metadata": {},
   "outputs": [],
   "source": []
  },
  {
   "cell_type": "code",
   "execution_count": null,
   "id": "ef00cb57-aac8-4979-9eb9-acfc1eb6607a",
   "metadata": {},
   "outputs": [],
   "source": []
  },
  {
   "cell_type": "code",
   "execution_count": null,
   "id": "e28da8e8-925e-44ba-899f-403cfc1a54d1",
   "metadata": {},
   "outputs": [],
   "source": []
  },
  {
   "cell_type": "code",
   "execution_count": null,
   "id": "e0007fb7-9413-45fd-a1e8-4ea3e948c325",
   "metadata": {},
   "outputs": [],
   "source": []
  },
  {
   "cell_type": "code",
   "execution_count": null,
   "id": "9c752a2c-6502-4976-b4d0-389e026ff7ed",
   "metadata": {},
   "outputs": [],
   "source": []
  }
 ],
 "metadata": {
  "kernelspec": {
   "display_name": "curs_python_env",
   "language": "python",
   "name": "curs_python_env"
  },
  "language_info": {
   "codemirror_mode": {
    "name": "ipython",
    "version": 3
   },
   "file_extension": ".py",
   "mimetype": "text/x-python",
   "name": "python",
   "nbconvert_exporter": "python",
   "pygments_lexer": "ipython3",
   "version": "3.10.5"
  }
 },
 "nbformat": 4,
 "nbformat_minor": 5
}
