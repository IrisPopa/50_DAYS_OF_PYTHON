{
 "cells": [
  {
   "cell_type": "markdown",
   "id": "98877c46-7e30-44ac-b0af-741915cd617a",
   "metadata": {},
   "source": [
    "## Day 43: Student Marks\n",
    "Write a function called student_marks that records marks\n",
    "achieved by students in a test. The function should ask the user\n",
    "to input the name of the student and then ask the user to input\n",
    "the marks achieved by the student. The information should be\n",
    "stored in a dictionary. The name is the key and the marks is the\n",
    "value. When the user enters done, the function should return a\n",
    "dictionary of names and values entered"
   ]
  },
  {
   "cell_type": "code",
   "execution_count": 39,
   "id": "1d38241a-e179-4c0f-9cc8-97cd71f03b74",
   "metadata": {},
   "outputs": [],
   "source": [
    "def student_marks():\n",
    "    student_name =input('Please enter your name:')\n",
    "    school_subjects = ['mathematics', 'geography', 'history', 'chemistry ', 'literature']\n",
    "    name_mark_dict ={}\n",
    "    mark_dict ={}\n",
    "    while True:\n",
    "        for subj in school_subjects:\n",
    "            try:\n",
    "                mark = int(input(f'Enter the {subj} mark:'))\n",
    "                if  mark > 10:\n",
    "                    raise TypeError(\"Only integers between 1 and 10 are allowed\")\n",
    "            except:\n",
    "                    print(\"Please enter an integer between 1 and 10\")\n",
    "            if mark in range(1,11):\n",
    "                    mark_dict.update({subj: mark})\n",
    "    if len(mark_dict) == len(school_subjects):\n",
    "                   break\n",
    "    name_mark_dict.update({f\"{student_name} student's grades are:\": mark_dict})\n",
    "    return name_mark_dict"
   ]
  },
  {
   "cell_type": "code",
   "execution_count": null,
   "id": "11dc9c1f-4627-4040-bcd8-477828196632",
   "metadata": {},
   "outputs": [
    {
     "name": "stdin",
     "output_type": "stream",
     "text": [
      "Please enter your name: Popa\n",
      "Enter the mathematics mark: 3\n",
      "Enter the mathematics mark: 56\n"
     ]
    },
    {
     "name": "stdout",
     "output_type": "stream",
     "text": [
      "Please enter an integer between 1 and 10\n"
     ]
    },
    {
     "name": "stdin",
     "output_type": "stream",
     "text": [
      "Enter the mathematics mark: 5\n",
      "Enter the mathematics mark: 6\n",
      "Enter the mathematics mark: 6\n",
      "Enter the mathematics mark: rert\n"
     ]
    },
    {
     "name": "stdout",
     "output_type": "stream",
     "text": [
      "Please enter an integer between 1 and 10\n"
     ]
    },
    {
     "name": "stdin",
     "output_type": "stream",
     "text": [
      "Enter the mathematics mark: t\n"
     ]
    },
    {
     "name": "stdout",
     "output_type": "stream",
     "text": [
      "Please enter an integer between 1 and 10\n"
     ]
    },
    {
     "name": "stdin",
     "output_type": "stream",
     "text": [
      "Enter the mathematics mark: 7\n"
     ]
    },
    {
     "name": "stdout",
     "output_type": "stream",
     "text": [
      "Please enter an integer between 1 and 10\n",
      "Please enter an integer between 1 and 10\n"
     ]
    },
    {
     "name": "stdin",
     "output_type": "stream",
     "text": [
      "Enter the mathematics mark: ds\n"
     ]
    },
    {
     "name": "stdout",
     "output_type": "stream",
     "text": [
      "Please enter an integer between 1 and 10\n",
      "Please enter an integer between 1 and 10\n",
      "Please enter an integer between 1 and 10\n",
      "Please enter an integer between 1 and 10\n",
      "Please enter an integer between 1 and 10\n",
      "Please enter an integer between 1 and 10\n",
      "Please enter an integer between 1 and 10\n"
     ]
    }
   ],
   "source": [
    "student_marks()"
   ]
  },
  {
   "cell_type": "code",
   "execution_count": 8,
   "id": "48dedb99-5dfe-4b82-91eb-efbbde7d709b",
   "metadata": {},
   "outputs": [],
   "source": [
    "thisdict = {\n",
    "  \"brand\": \"Ford\",\n",
    "  \"model\": \"Mustang\",\n",
    "  \"year\": 1964\n",
    "}"
   ]
  },
  {
   "cell_type": "code",
   "execution_count": 9,
   "id": "201f8544-c1b8-42ae-b756-2db821833d85",
   "metadata": {},
   "outputs": [
    {
     "data": {
      "text/plain": [
       "3"
      ]
     },
     "execution_count": 9,
     "metadata": {},
     "output_type": "execute_result"
    }
   ],
   "source": [
    "len(thisdict)"
   ]
  },
  {
   "cell_type": "code",
   "execution_count": 28,
   "id": "f2cb5c10-15f3-483a-addb-7e5f2929e9ae",
   "metadata": {},
   "outputs": [
    {
     "name": "stdout",
     "output_type": "stream",
     "text": [
      "1\n",
      "2\n",
      "3\n",
      "4\n",
      "5\n",
      "6\n",
      "7\n",
      "8\n",
      "9\n"
     ]
    }
   ],
   "source": [
    "for a in range(1, 10):\n",
    "    print(a)"
   ]
  },
  {
   "cell_type": "code",
   "execution_count": null,
   "id": "3688d33c-fc9d-4fe8-95f9-8d1433df810a",
   "metadata": {},
   "outputs": [],
   "source": []
  }
 ],
 "metadata": {
  "kernelspec": {
   "display_name": "curs_python_env",
   "language": "python",
   "name": "curs_python_env"
  },
  "language_info": {
   "codemirror_mode": {
    "name": "ipython",
    "version": 3
   },
   "file_extension": ".py",
   "mimetype": "text/x-python",
   "name": "python",
   "nbconvert_exporter": "python",
   "pygments_lexer": "ipython3",
   "version": "3.10.5"
  }
 },
 "nbformat": 4,
 "nbformat_minor": 5
}
