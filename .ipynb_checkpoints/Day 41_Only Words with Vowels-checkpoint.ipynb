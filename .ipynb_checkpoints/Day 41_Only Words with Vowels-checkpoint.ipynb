{
 "cells": [
  {
   "cell_type": "markdown",
   "id": "c2151a9b-182c-44e7-b383-b9c64ed0a5d6",
   "metadata": {},
   "source": [
    "# Day 41: Only Words with Vowels¶\n",
    "Create a function called words_with_vowels, this function takes a string of words and returns a list of only words that have vowels in them. For example, ‘You have no rhythm’ should return [‘You’,’have’, ‘no’]."
   ]
  },
  {
   "cell_type": "code",
   "execution_count": 34,
   "id": "e4b6e56b-26dc-4877-a5e7-4226479d047c",
   "metadata": {},
   "outputs": [],
   "source": [
    "def words_with_vowels(string):\n",
    "    words_vowels_list =[]\n",
    "    vowel_list = ['a', 'e', 'i', 'o', 'u'] \n",
    "    for word in string.split(' '):\n",
    "        for vowel in vowel_list:\n",
    "            if vowel in word.lower() and word not in words_vowels_list:\n",
    "                words_vowels_list.append(word)\n",
    "    return words_vowels_list"
   ]
  },
  {
   "cell_type": "code",
   "execution_count": 35,
   "id": "1d36ea43-340f-4131-a32f-5e6b773c6fb2",
   "metadata": {},
   "outputs": [],
   "source": [
    "a = 'You have NO rhythm'"
   ]
  },
  {
   "cell_type": "code",
   "execution_count": 36,
   "id": "9f8b5357-fdca-42cc-b498-a220be50e117",
   "metadata": {},
   "outputs": [
    {
     "data": {
      "text/plain": [
       "['You', 'have', 'NO']"
      ]
     },
     "execution_count": 36,
     "metadata": {},
     "output_type": "execute_result"
    }
   ],
   "source": [
    "words_with_vowels(a)"
   ]
  },
  {
   "cell_type": "code",
   "execution_count": null,
   "id": "cc05836b-e907-4238-9671-42f41a02c235",
   "metadata": {},
   "outputs": [],
   "source": []
  },
  {
   "cell_type": "code",
   "execution_count": 37,
   "id": "837bf111-7750-4daa-9050-2fd3a26c9e9b",
   "metadata": {},
   "outputs": [],
   "source": [
    "def vowels_count1(a):\n",
    "    vowels = []\n",
    "    for word in a.split():\n",
    "        for i in word:\n",
    "            if i in 'aeiou':\n",
    "                if word not in vowels:\n",
    "                    vowels.append(word)\n",
    "    return vowels"
   ]
  },
  {
   "cell_type": "code",
   "execution_count": 38,
   "id": "f864629a-3b3f-4f75-9cb9-8c56e1361342",
   "metadata": {},
   "outputs": [
    {
     "data": {
      "text/plain": [
       "['You', 'have']"
      ]
     },
     "execution_count": 38,
     "metadata": {},
     "output_type": "execute_result"
    }
   ],
   "source": [
    "vowels_count1(a)"
   ]
  },
  {
   "cell_type": "markdown",
   "id": "d92b4e4e-047b-4d47-a850-76dd1465a6da",
   "metadata": {},
   "source": [
    "# Extra Challenge: Class of Cars\n",
    "b. Create three classes of three car brands – Ford, BMW, and\n",
    "Tesla. The attributes of the car's objects will be, model,\n",
    "color, year, transmission, and whether the car is\n",
    "electric or not (Boolean value.) Consider using inheritance\n",
    "in your answer.\n",
    "You will create one object for each car brand:\n",
    "bmw1 : model: x6, Color: silver, Year: 2018, Transmission: Auto, Electric: False\n",
    "tesla1: model: S, Color: beige, Year: 2017, Transmission: Auto, Electric: True\n",
    "ford1 : model: focus, Color: white, Year: 2020, Transmission: Auto, Electric: False\n",
    "You will create a class method, called print_cars that will be\n",
    "able to print out objects of the class. For example, if you call the\n",
    "method on the ford1 object of the Ford class, your function\n",
    "should be able to print out car info in this exact format:\n",
    "car_model = focus\n",
    "Color = White\n",
    "Year = 2020\n",
    "Transmission = Auto\n",
    "Electric = False"
   ]
  },
  {
   "cell_type": "code",
   "execution_count": 73,
   "id": "50e1c7ba-2b5b-4b51-b5d1-f194607ebe58",
   "metadata": {},
   "outputs": [],
   "source": [
    "class Cars:\n",
    "    def __init__(self, model, color, year, transmission, electric_or_not):\n",
    "        self.model = model\n",
    "        self.color = color\n",
    "        self.year = year\n",
    "        self.transmission = transmission\n",
    "        self.electric_or_not = electric_or_not\n",
    "        self.car_characteristics = f'model: {self.model}, Color: {self.color}, Year: {self.year}, Transmission:{self.transmission}, Electric: {self.electric_or_not}'\n",
    "    def print_cars(self):\n",
    "        return f'car_model = {self.model}, Color ={ self.color}, Year = {self.year}, Transmission = {self.transmission}, Electric = {self.electric_or_not}'"
   ]
  },
  {
   "cell_type": "code",
   "execution_count": 58,
   "id": "4ca78e36-5aa8-4d57-a951-f1b45c2b6ec2",
   "metadata": {},
   "outputs": [],
   "source": [
    "bmw1 = Cars('x6', 'silver', 2018, 'Auto', False)"
   ]
  },
  {
   "cell_type": "code",
   "execution_count": 66,
   "id": "3d0d3fcf-faa5-40c4-a4d2-6e7ea16a09d0",
   "metadata": {},
   "outputs": [
    {
     "data": {
      "text/plain": [
       "'model: x6, Color: silver, Year: 2018, Transmission:Auto, Electric: False'"
      ]
     },
     "execution_count": 66,
     "metadata": {},
     "output_type": "execute_result"
    }
   ],
   "source": [
    "bmw1.car_characteristics"
   ]
  },
  {
   "cell_type": "code",
   "execution_count": 30,
   "id": "7a08bb54-9e7c-46b1-905c-8dda4e44fb91",
   "metadata": {},
   "outputs": [],
   "source": [
    "tesla1 = Cars('S', 'beige', 2017, 'Auto', True)"
   ]
  },
  {
   "cell_type": "code",
   "execution_count": 31,
   "id": "4fa3fa5d-308e-4fe6-99dd-d96615686bce",
   "metadata": {},
   "outputs": [
    {
     "data": {
      "text/plain": [
       "'model: S, Color: beige, Year: 2017, Transmission:Auto, Electric: True'"
      ]
     },
     "execution_count": 31,
     "metadata": {},
     "output_type": "execute_result"
    }
   ],
   "source": [
    "tesla1.car_characteristics"
   ]
  },
  {
   "cell_type": "code",
   "execution_count": 32,
   "id": "46fc56af-14c2-41f0-a46f-2bea2e80b861",
   "metadata": {},
   "outputs": [],
   "source": [
    "ford1 = Cars('focus', 'white',  2020, 'Auto', False)"
   ]
  },
  {
   "cell_type": "code",
   "execution_count": 33,
   "id": "10422d36-c9e7-4cc2-b6f5-d829244554a9",
   "metadata": {},
   "outputs": [
    {
     "data": {
      "text/plain": [
       "'model: focus, Color: white, Year: 2020, Transmission:Auto, Electric: False'"
      ]
     },
     "execution_count": 33,
     "metadata": {},
     "output_type": "execute_result"
    }
   ],
   "source": [
    "ford1.car_characteristics"
   ]
  },
  {
   "cell_type": "code",
   "execution_count": 74,
   "id": "b273df20-af4c-4d6a-9972-3773179b0b91",
   "metadata": {},
   "outputs": [
    {
     "data": {
      "text/plain": [
       "'car_model = x6, \\nColor =silver, Year = 2018, Transmission = Auto, Electric = False'"
      ]
     },
     "execution_count": 74,
     "metadata": {},
     "output_type": "execute_result"
    }
   ],
   "source": [
    "bmw1.print_cars()"
   ]
  },
  {
   "cell_type": "code",
   "execution_count": 47,
   "id": "927d9cfd-ddee-447a-aa70-d18b35c66d98",
   "metadata": {},
   "outputs": [
    {
     "data": {
      "text/plain": [
       "'car_model = focus, Color =white, Year = 2020, Transmission = Auto, Electric = False'"
      ]
     },
     "execution_count": 47,
     "metadata": {},
     "output_type": "execute_result"
    }
   ],
   "source": [
    "ford1.print_cars()"
   ]
  },
  {
   "cell_type": "code",
   "execution_count": 48,
   "id": "d62dd1b7-885a-4e0d-90c4-728a46988887",
   "metadata": {},
   "outputs": [
    {
     "data": {
      "text/plain": [
       "'car_model = S, Color =beige, Year = 2017, Transmission = Auto, Electric = True'"
      ]
     },
     "execution_count": 48,
     "metadata": {},
     "output_type": "execute_result"
    }
   ],
   "source": [
    "tesla1.print_cars()"
   ]
  },
  {
   "cell_type": "code",
   "execution_count": null,
   "id": "3af45aef-78c5-4d43-91e2-9f48efd10bf1",
   "metadata": {},
   "outputs": [],
   "source": []
  },
  {
   "cell_type": "code",
   "execution_count": 49,
   "id": "9e966637-2d6c-475b-8832-a47b35185114",
   "metadata": {},
   "outputs": [],
   "source": [
    "class Cars:\n",
    "    def __init__(self, model, color, year,transmission, electric=False):\n",
    "        self.model = model\n",
    "        self.color = color\n",
    "        self.year = year\n",
    "        self.transmission = transmission\n",
    "        self.electric = electric\n",
    "# Creating the class method\n",
    "    def print_car(self):\n",
    "        return f'car_model = {self.model}\\nColor = ' \\\n",
    "               f'{self.color} \\nYear = {self.year}' \\\n",
    "               f' \\nTransmission = {self.transmission} ' \\\n",
    "               f'\\nElectric = {self.electric}'\n",
    "class BMW(Cars):\n",
    "    def __init__(self, model, color, year,transmission, electric=False):\n",
    "        Cars.__init__(self, model, color, year, transmission, electric=electric)\n",
    "\n",
    "class Tesla(Cars):\n",
    "    def __init__(self, model, color, year, transmission, electric=False):\n",
    "        Cars.__init__(self, model, color, year, transmission, electric=electric)\n",
    "\n",
    "class Ford(Cars):\n",
    "    def __init__(self, model, color, year, transmission, electric=False):\n",
    "        Cars.__init__(self, model, color, year, transmission, electric=electric)"
   ]
  },
  {
   "cell_type": "code",
   "execution_count": 50,
   "id": "e13143c8-6064-4983-aa53-70b622aa16e5",
   "metadata": {},
   "outputs": [],
   "source": [
    "ford2 = Ford(\"Focus\", \"White\", 2017, \"Auto\", False)"
   ]
  },
  {
   "cell_type": "code",
   "execution_count": 51,
   "id": "fc8d96c3-f345-4424-98b1-52b3cf6ea60b",
   "metadata": {},
   "outputs": [
    {
     "data": {
      "text/plain": [
       "'car_model = Focus\\nColor = White \\nYear = 2017 \\nTransmission = Auto \\nElectric = False'"
      ]
     },
     "execution_count": 51,
     "metadata": {},
     "output_type": "execute_result"
    }
   ],
   "source": [
    "ford2.print_car()"
   ]
  },
  {
   "cell_type": "code",
   "execution_count": 52,
   "id": "f413c6c5-023f-4fce-b3d9-67901b4a0bb4",
   "metadata": {},
   "outputs": [],
   "source": [
    "tesla2 = Tesla(\"S\", \"Grey\", 2016, \"Manual\", True)"
   ]
  },
  {
   "cell_type": "code",
   "execution_count": 53,
   "id": "5dfe78fc-d790-4300-ad50-32e2af3fc3d9",
   "metadata": {},
   "outputs": [
    {
     "data": {
      "text/plain": [
       "'car_model = S\\nColor = Grey \\nYear = 2016 \\nTransmission = Manual \\nElectric = True'"
      ]
     },
     "execution_count": 53,
     "metadata": {},
     "output_type": "execute_result"
    }
   ],
   "source": [
    "tesla2.print_car()"
   ]
  },
  {
   "cell_type": "code",
   "execution_count": 54,
   "id": "3558276d-8bc3-4b3e-ad27-76353f004739",
   "metadata": {},
   "outputs": [],
   "source": [
    "bmw2 = BMW('X6', 'silver', 2018, 'Auto', False)"
   ]
  },
  {
   "cell_type": "code",
   "execution_count": 55,
   "id": "61dbcb41-b1b7-4b12-bb36-c080c38fce21",
   "metadata": {},
   "outputs": [
    {
     "data": {
      "text/plain": [
       "'car_model = X6\\nColor = silver \\nYear = 2018 \\nTransmission = Auto \\nElectric = False'"
      ]
     },
     "execution_count": 55,
     "metadata": {},
     "output_type": "execute_result"
    }
   ],
   "source": [
    "bmw2.print_car()"
   ]
  },
  {
   "cell_type": "code",
   "execution_count": null,
   "id": "96d81aa7-7eb3-4028-9eec-192520588ffb",
   "metadata": {},
   "outputs": [],
   "source": []
  }
 ],
 "metadata": {
  "kernelspec": {
   "display_name": "curs_python_env",
   "language": "python",
   "name": "curs_python_env"
  },
  "language_info": {
   "codemirror_mode": {
    "name": "ipython",
    "version": 3
   },
   "file_extension": ".py",
   "mimetype": "text/x-python",
   "name": "python",
   "nbconvert_exporter": "python",
   "pygments_lexer": "ipython3",
   "version": "3.10.5"
  }
 },
 "nbformat": 4,
 "nbformat_minor": 5
}
