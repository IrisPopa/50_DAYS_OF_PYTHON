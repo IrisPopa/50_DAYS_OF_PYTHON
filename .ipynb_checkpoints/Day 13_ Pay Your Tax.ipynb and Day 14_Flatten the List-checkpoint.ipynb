{
 "cells": [
  {
   "cell_type": "markdown",
   "id": "5cc4c8d6-04be-4c2f-8cb7-996fa41404e4",
   "metadata": {},
   "source": [
    "Day 13: Pay Your Tax\n",
    "Write a function called your_vat. The function takes no parameter. The function asks the user to input the price of an\n",
    "item and VAT (vat should be a percentage). The function should return the price of the item plus VAT. If the price is 220 and,\n",
    "VAT is 15% your code should return a vat inclusive price of 253. Make sure that your code can handle ValueError. Ensure the\n",
    "code runs until valid numbers are entered. (hint: Your code should include a while loop)."
   ]
  },
  {
   "cell_type": "code",
   "execution_count": 176,
   "id": "b5f3eaaf-0290-4ae2-b7a9-b62fa8e72444",
   "metadata": {},
   "outputs": [],
   "source": [
    "def your_vat():\n",
    "    while True:\n",
    "        try:\n",
    "            price = int(input('Enter the price:'))\n",
    "            VAT = int(input('Enter VAT:'))\n",
    "        except ValueError:\n",
    "            print('VAT and price should be a integer')\n",
    "        else:    \n",
    "            return  price +  price*VAT*1/100"
   ]
  },
  {
   "cell_type": "code",
   "execution_count": 175,
   "id": "62b81dd9-b4a3-487b-a963-23d1511a46d0",
   "metadata": {},
   "outputs": [
    {
     "name": "stdin",
     "output_type": "stream",
     "text": [
      "Enter the price: e\n"
     ]
    },
    {
     "name": "stdout",
     "output_type": "stream",
     "text": [
      "VAT and price should be a integer\n"
     ]
    }
   ],
   "source": [
    "your_vat()"
   ]
  },
  {
   "cell_type": "code",
   "execution_count": 1,
   "id": "3c45df28-7012-4615-b921-f3af4aa7be48",
   "metadata": {},
   "outputs": [],
   "source": [
    "def your_vat():\n",
    "    while True:\n",
    "        price = int(input('Enter the price:'))\n",
    "        VAT = input('Enter VAT:')\n",
    "        if VAT[-1] != '%': \n",
    "            print('VAT should be a percentage')\n",
    "        elif VAT[-1] == '%':    \n",
    "            return  price + price*int(VAT[0:-1])*1/100"
   ]
  },
  {
   "cell_type": "code",
   "execution_count": 2,
   "id": "336f5eec-dd31-4ea8-9a4c-ea0990d9017f",
   "metadata": {},
   "outputs": [
    {
     "name": "stdin",
     "output_type": "stream",
     "text": [
      "Enter the price: 24\n",
      "Enter VAT: 5%\n"
     ]
    },
    {
     "data": {
      "text/plain": [
       "25.2"
      ]
     },
     "execution_count": 2,
     "metadata": {},
     "output_type": "execute_result"
    }
   ],
   "source": [
    "your_vat()"
   ]
  },
  {
   "cell_type": "code",
   "execution_count": null,
   "id": "8534f87a-bef9-4e73-8d19-4546472853ef",
   "metadata": {},
   "outputs": [],
   "source": []
  },
  {
   "cell_type": "markdown",
   "id": "ee3b9590-4370-4ef9-b627-2bec7e28bc06",
   "metadata": {},
   "source": [
    "Extra Challenge: Pyramid of Snakes\n",
    "Write a function called Python_snakes that takes a number as an argument and creates the following shape, using the\n",
    "number’s range: (hint: Use the loops and emoji library. If you pass 7 as argument, your code should print the following:"
   ]
  },
  {
   "cell_type": "code",
   "execution_count": 49,
   "id": "384e16a9-3aa9-4a44-b1f6-8661401d42b4",
   "metadata": {},
   "outputs": [],
   "source": [
    "#pip install emoji"
   ]
  },
  {
   "cell_type": "code",
   "execution_count": 53,
   "id": "b0dcc46e-aea8-419d-9bf4-a00b80693e91",
   "metadata": {},
   "outputs": [],
   "source": [
    "from emoji import emojize"
   ]
  },
  {
   "cell_type": "code",
   "execution_count": 54,
   "id": "766a4283-ea91-461d-b572-11d98a382c9a",
   "metadata": {},
   "outputs": [
    {
     "name": "stdout",
     "output_type": "stream",
     "text": [
      "😍\n"
     ]
    }
   ],
   "source": [
    "print(\"\\U0001F60D\")"
   ]
  },
  {
   "cell_type": "code",
   "execution_count": 146,
   "id": "670e432e-29ad-45cb-b618-6c600575e811",
   "metadata": {},
   "outputs": [
    {
     "name": "stdout",
     "output_type": "stream",
     "text": [
      "😉\n"
     ]
    }
   ],
   "source": [
    "print('\\N{winking face}')"
   ]
  },
  {
   "cell_type": "code",
   "execution_count": 117,
   "id": "916e5a9c-3dd7-4799-a152-e7ab6dd351fc",
   "metadata": {},
   "outputs": [],
   "source": [
    "def Python_snakes(n: int):\n",
    "# the loop to determine the number of rows of the pyramid\n",
    "    for i in range(0, n):\n",
    "        # The loop that determines number of columns\n",
    "        for j in range(n, i, -1):\n",
    "            # print space between the snake signs\n",
    "            print(end=\" \")\n",
    "        for k in range(0, i):\n",
    "            # printing the snake emoji\n",
    "            print(emojize(':snake:'), end=\" \")\n",
    "        print(\"\\n\")"
   ]
  },
  {
   "cell_type": "code",
   "execution_count": 118,
   "id": "9925fd66-f08d-474d-bc0b-a4f48cb90801",
   "metadata": {},
   "outputs": [
    {
     "name": "stdout",
     "output_type": "stream",
     "text": [
      "     \n",
      "\n",
      "    🐍 \n",
      "\n",
      "   🐍 🐍 \n",
      "\n",
      "  🐍 🐍 🐍 \n",
      "\n",
      " 🐍 🐍 🐍 🐍 \n",
      "\n"
     ]
    }
   ],
   "source": [
    "Python_snakes(5)"
   ]
  },
  {
   "cell_type": "code",
   "execution_count": null,
   "id": "8198602a-2fac-43c8-bebb-a00799025e87",
   "metadata": {},
   "outputs": [],
   "source": []
  },
  {
   "cell_type": "markdown",
   "id": "2ba49d47-ef9a-404b-bced-313b49ab0087",
   "metadata": {},
   "source": []
  },
  {
   "cell_type": "code",
   "execution_count": null,
   "id": "867ec874-7ec1-4de9-ab03-a5b14686f67a",
   "metadata": {},
   "outputs": [],
   "source": [
    "Day 14: Flatten the List\n",
    "Write a function called flat_list that takes one argument, a nested list. The function converts the nested list into a one-\n",
    "dimension list. For example [[2,4,5,6]] should return [2,4,5,6]."
   ]
  },
  {
   "cell_type": "code",
   "execution_count": null,
   "id": "a540cd45-9c52-4124-a31d-de638132cade",
   "metadata": {},
   "outputs": [],
   "source": [
    "def flat_list(nested_list):\n",
    "    flated_list = []\n",
    "    for i in range (0, len(nested_list)):\n",
    "        while i  < len(nested_list):\n",
    "            flated_list.append(nested_list[i])\n",
    "    return flated_list"
   ]
  },
  {
   "cell_type": "code",
   "execution_count": null,
   "id": "3a205453-8f11-4111-bd4c-e63b8a776dee",
   "metadata": {},
   "outputs": [],
   "source": [
    "nested_list =[[2,4,5,6], [4,6,8,9]]"
   ]
  },
  {
   "cell_type": "code",
   "execution_count": null,
   "id": "5ba1ad33-b57d-4151-831b-cee59355bbcf",
   "metadata": {},
   "outputs": [],
   "source": [
    "flat_list(nested_list)"
   ]
  },
  {
   "cell_type": "code",
   "execution_count": 56,
   "id": "c6386762-142b-4304-894e-f7f215ce18d0",
   "metadata": {},
   "outputs": [],
   "source": [
    "def convert_list2(lst1: list):\n",
    "    list1 = []\n",
    "    for items in lst1:\n",
    "        for i in items:\n",
    "            list1.append(i)\n",
    "    return list1"
   ]
  },
  {
   "cell_type": "code",
   "execution_count": 57,
   "id": "d76dbbf2-2b74-4e4b-a1ef-844f4d73555b",
   "metadata": {},
   "outputs": [
    {
     "data": {
      "text/plain": [
       "[2, 4, 5, 6, 4, 6, 8, 9]"
      ]
     },
     "execution_count": 57,
     "metadata": {},
     "output_type": "execute_result"
    }
   ],
   "source": [
    "convert_list2(nested_list)"
   ]
  },
  {
   "cell_type": "code",
   "execution_count": null,
   "id": "3da3c92e-eab8-45a0-a054-021d6f9f3441",
   "metadata": {},
   "outputs": [],
   "source": []
  },
  {
   "cell_type": "code",
   "execution_count": null,
   "id": "35555d87-cbe8-40f3-a954-3d8e0e282a65",
   "metadata": {},
   "outputs": [],
   "source": []
  },
  {
   "cell_type": "markdown",
   "id": "3656accd-2e94-4aa0-9fa5-7a8fdda6f9dc",
   "metadata": {},
   "source": [
    "Extra Challenge: Teacher’s Salary\n",
    "A school has asked you to write a program that will calculate teachers' salaries. The program should ask the user to enter the\n",
    "teacher’s name, the number of periods taught in a month,and the rate per period. The monthly salary is calculated by\n",
    "multiplying the number of periods by the monthly rate. The current monthly rate per period is $20. If a teacher has\n",
    "more than 100 periods in a month, everything above 100 is overtime. Overtime is $25 per period. For example, if a teacher\n",
    "has taught 105 periods, their monthly gross salary should be 2,125. Write a function called your_salary that calculates a\n",
    "teacher’s gross salary. The function should return the teacher’s name, periods taught, and gross salary. Here is\n",
    "how you should format your output: \n",
    "Teacher: John Kelly,\n",
    "Periods: 105\n",
    "Gross salary:2,125"
   ]
  },
  {
   "cell_type": "code",
   "execution_count": 52,
   "id": "277dca42-ad6a-4417-b830-dbb39692b0d2",
   "metadata": {},
   "outputs": [],
   "source": [
    "def your_salary():\n",
    "   teacher_name = input('Enter the teacher’s name:')\n",
    "   number_of_periods = int(input ('Enter the number of periods taught in a month:'))\n",
    "   rate_per_period = int(input ('Enter your monthly rate per period:'))\n",
    "   if int(number_of_periods) <= 100:\n",
    "        gross_salary = (number_of_periods) * rate_per_period \n",
    "   else:\n",
    "        gross_salary = number_of_periods * rate_per_period + (number_of_periods - 100)*(rate_per_period + 5)\n",
    "   return f'Teacher: {teacher_name},\\n Periods: {number_of_periods},\\n Gross salary:{gross_salary}'\n"
   ]
  },
  {
   "cell_type": "code",
   "execution_count": 53,
   "id": "de578f43-07ba-4cab-a609-278048ce7764",
   "metadata": {},
   "outputs": [
    {
     "name": "stdin",
     "output_type": "stream",
     "text": [
      "Enter the teacher’s name: John Kelly\n",
      "Enter the number of periods taught in a month: 110\n",
      "Enter your monthly rate per period: 20\n"
     ]
    },
    {
     "data": {
      "text/plain": [
       "'Teacher: John Kelly,\\n Periods: 110,\\n Gross salary:2450'"
      ]
     },
     "execution_count": 53,
     "metadata": {},
     "output_type": "execute_result"
    }
   ],
   "source": [
    "your_salary()"
   ]
  },
  {
   "cell_type": "code",
   "execution_count": null,
   "id": "92f94c3b-cc86-447f-b080-97054fb5c024",
   "metadata": {},
   "outputs": [],
   "source": []
  }
 ],
 "metadata": {
  "kernelspec": {
   "display_name": "curs_python_env",
   "language": "python",
   "name": "curs_python_env"
  },
  "language_info": {
   "codemirror_mode": {
    "name": "ipython",
    "version": 3
   },
   "file_extension": ".py",
   "mimetype": "text/x-python",
   "name": "python",
   "nbconvert_exporter": "python",
   "pygments_lexer": "ipython3",
   "version": "3.10.5"
  }
 },
 "nbformat": 4,
 "nbformat_minor": 5
}
