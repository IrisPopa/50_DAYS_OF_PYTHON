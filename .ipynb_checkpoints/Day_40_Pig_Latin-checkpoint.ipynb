{
 "cells": [
  {
   "cell_type": "markdown",
   "id": "98877c46-7e30-44ac-b0af-741915cd617a",
   "metadata": {},
   "source": [
    "## Day 40: Pig Latin\n",
    "Write a function called translate that takes the following\n",
    "words and translates them into pig Latin.\n",
    "a = 'I love python'\n",
    "Here are the rules:\n",
    "1. If a word starts with a vowel (a,e, i, o, u) add ‘yay’ at the\n",
    "end. For example, ‘eat’ will become ‘eatyay’\n",
    "2. If a word starts with anything other than a vowel, move\n",
    "the first letter to the end and add ‘ay’ to the end. For\n",
    "example, ‘day’ will become ‘ayday’.\n",
    "Your code should return:\n",
    "iyay ovelay ythonpay"
   ]
  },
  {
   "cell_type": "code",
   "execution_count": 17,
   "id": "1d38241a-e179-4c0f-9cc8-97cd71f03b74",
   "metadata": {},
   "outputs": [],
   "source": [
    "def translate(str_param):\n",
    "    pig_latin_list = []\n",
    "    for word in str_param.split():\n",
    "        if word[0].lower() in 'aeiou':\n",
    "            word = word + 'yay'\n",
    "            pig_latin_list.append(word)\n",
    "        else:\n",
    "            word = word[1:] + word[0] + 'ay'\n",
    "            pig_latin_list.append(word)\n",
    "    return ' '.join(pig_latin_list)"
   ]
  },
  {
   "cell_type": "code",
   "execution_count": 7,
   "id": "12eb39e7-f010-4038-bcb6-0106b251d58f",
   "metadata": {},
   "outputs": [],
   "source": [
    "a = 'I love python' "
   ]
  },
  {
   "cell_type": "code",
   "execution_count": 20,
   "id": "4d88f3dd-5ff3-454f-9bad-0934bbcbb2f9",
   "metadata": {},
   "outputs": [
    {
     "data": {
      "text/plain": [
       "'Iyay ovelay ythonpay'"
      ]
     },
     "execution_count": 20,
     "metadata": {},
     "output_type": "execute_result"
    }
   ],
   "source": [
    "translate(a)"
   ]
  },
  {
   "cell_type": "code",
   "execution_count": 15,
   "id": "c3ab7e8f-cfba-4ae8-9cdb-c0d6ca4049d0",
   "metadata": {},
   "outputs": [],
   "source": [
    "b = 'If a word starts with anything other than a vowel'"
   ]
  },
  {
   "cell_type": "code",
   "execution_count": 19,
   "id": "53bfaa81-58a9-444f-b0c0-b8a489dc6b6f",
   "metadata": {},
   "outputs": [
    {
     "data": {
      "text/plain": [
       "'Ifyay ayay ordway tartssay ithway anythingyay otheryay hantay ayay owelvay'"
      ]
     },
     "execution_count": 19,
     "metadata": {},
     "output_type": "execute_result"
    }
   ],
   "source": [
    "translate(b)"
   ]
  },
  {
   "cell_type": "code",
   "execution_count": null,
   "id": "5124afbd-9317-4004-b8fd-ff4cf43a0345",
   "metadata": {},
   "outputs": [],
   "source": []
  },
  {
   "cell_type": "code",
   "execution_count": null,
   "id": "886a4d08-ed57-4192-9b4b-3f88df192aa4",
   "metadata": {},
   "outputs": [],
   "source": []
  },
  {
   "cell_type": "code",
   "execution_count": 32,
   "id": "c8affde0-a254-4731-8c7c-260a27158a85",
   "metadata": {},
   "outputs": [],
   "source": [
    "def pig_latin1(a):\n",
    "    output = []\n",
    "    for word in a.split():\n",
    "        if word[0] in 'aeiou':\n",
    "            output.append(word + 'yay')\n",
    "        else:\n",
    "            output.append(word[1:] + word[0] + 'ay')\n",
    "    return ' '.join(output)"
   ]
  },
  {
   "cell_type": "code",
   "execution_count": 33,
   "id": "c385c0b1-b295-4671-acec-e61147f2356a",
   "metadata": {},
   "outputs": [
    {
     "data": {
      "text/plain": [
       "'Iay ovelay ythonpay'"
      ]
     },
     "execution_count": 33,
     "metadata": {},
     "output_type": "execute_result"
    }
   ],
   "source": [
    "pig_latin1(a)"
   ]
  },
  {
   "cell_type": "code",
   "execution_count": 34,
   "id": "558f8d5d-ea10-4971-9d7c-3def2e86a48c",
   "metadata": {},
   "outputs": [
    {
     "data": {
      "text/plain": [
       "'fIay ayay ordway tartssay ithway anythingyay otheryay hantay ayay owelvay'"
      ]
     },
     "execution_count": 34,
     "metadata": {},
     "output_type": "execute_result"
    }
   ],
   "source": [
    "pig_latin1(b)"
   ]
  },
  {
   "cell_type": "code",
   "execution_count": null,
   "id": "e83d4330-24da-47a9-bf86-1ad6256209d4",
   "metadata": {},
   "outputs": [],
   "source": []
  }
 ],
 "metadata": {
  "kernelspec": {
   "display_name": "curs_python_env",
   "language": "python",
   "name": "curs_python_env"
  },
  "language_info": {
   "codemirror_mode": {
    "name": "ipython",
    "version": 3
   },
   "file_extension": ".py",
   "mimetype": "text/x-python",
   "name": "python",
   "nbconvert_exporter": "python",
   "pygments_lexer": "ipython3",
   "version": "3.10.5"
  }
 },
 "nbformat": 4,
 "nbformat_minor": 5
}
