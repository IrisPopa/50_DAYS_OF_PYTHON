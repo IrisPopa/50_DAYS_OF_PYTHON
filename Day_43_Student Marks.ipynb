{
 "cells": [
  {
   "cell_type": "markdown",
   "id": "98877c46-7e30-44ac-b0af-741915cd617a",
   "metadata": {},
   "source": [
    "## Day 43: Student Marks\n",
    "Write a function called student_marks that records marks\n",
    "achieved by students in a test. The function should ask the user\n",
    "to input the name of the student and then ask the user to input\n",
    "the marks achieved by the student. The information should be\n",
    "stored in a dictionary. The name is the key and the marks is the\n",
    "value. When the user enters done, the function should return a\n",
    "dictionary of names and values entered"
   ]
  },
  {
   "cell_type": "code",
   "execution_count": 21,
   "id": "1d38241a-e179-4c0f-9cc8-97cd71f03b74",
   "metadata": {},
   "outputs": [],
   "source": [
    "def student_marks():\n",
    "    student_name =input('Please enter your name:')\n",
    "    school_subjects = ['mathematics', 'geography', 'history', 'chemistry ', 'literature']\n",
    "    name_mark_dict ={}\n",
    "    mark_dict ={}\n",
    "    for subj in school_subjects:\n",
    "        try:\n",
    "            mark = int(input(f'Enter the {subj} mark:'))\n",
    "            if  mark < 10:\n",
    "                    mark_dict.update({subj: mark})\n",
    "            elif mark > 10:\n",
    "                    print(\"Please enter an integer between 1 and 10\")\n",
    "                    mark = int(input(f'Enter the {subj} mark:'))\n",
    "                    mark_dict.update({subj: mark})\n",
    "        except:\n",
    "            print(\"Please enter an integer\")\n",
    "            mark = int(input(f'Enter the {subj} mark:'))\n",
    "            mark_dict.update({subj: mark})\n",
    "            if len(mark_dict) == len(school_subjects):\n",
    "                break\n",
    "    name_mark_dict.update({f\"{student_name} student's grades are:\": mark_dict})\n",
    "    return name_mark_dict"
   ]
  },
  {
   "cell_type": "code",
   "execution_count": 22,
   "id": "11dc9c1f-4627-4040-bcd8-477828196632",
   "metadata": {},
   "outputs": [
    {
     "name": "stdin",
     "output_type": "stream",
     "text": [
      "Please enter your name: POPA VALENTINA MIHAELA\n",
      "Enter the mathematics mark: 4\n",
      "Enter the geography mark: 56\n"
     ]
    },
    {
     "name": "stdout",
     "output_type": "stream",
     "text": [
      "Please enter an integer between 1 and 10\n"
     ]
    },
    {
     "name": "stdin",
     "output_type": "stream",
     "text": [
      "Enter the geography mark: 6\n",
      "Enter the history mark: g\n"
     ]
    },
    {
     "name": "stdout",
     "output_type": "stream",
     "text": [
      "Please enter an integer\n"
     ]
    },
    {
     "name": "stdin",
     "output_type": "stream",
     "text": [
      "Enter the history mark: 6\n",
      "Enter the chemistry  mark: 67\n"
     ]
    },
    {
     "name": "stdout",
     "output_type": "stream",
     "text": [
      "Please enter an integer between 1 and 10\n"
     ]
    },
    {
     "name": "stdin",
     "output_type": "stream",
     "text": [
      "Enter the chemistry  mark: 7\n",
      "Enter the literature mark: 8\n"
     ]
    },
    {
     "data": {
      "text/plain": [
       "{\"POPA VALENTINA MIHAELA student's grades are:\": {'mathematics': 4,\n",
       "  'geography': 6,\n",
       "  'history': 6,\n",
       "  'chemistry ': 7,\n",
       "  'literature': 8}}"
      ]
     },
     "execution_count": 22,
     "metadata": {},
     "output_type": "execute_result"
    }
   ],
   "source": [
    "student_marks()"
   ]
  },
  {
   "cell_type": "code",
   "execution_count": null,
   "id": "3688d33c-fc9d-4fe8-95f9-8d1433df810a",
   "metadata": {},
   "outputs": [],
   "source": []
  },
  {
   "cell_type": "code",
   "execution_count": 4,
   "id": "f5eca83a-1aea-4d59-9c73-6158a2c4caa1",
   "metadata": {},
   "outputs": [],
   "source": [
    "def get_marks():\n",
    "    d = {}\n",
    "    while True:\n",
    "        name = input('Enter the student name or done: ')\n",
    "        if name == 'done':\n",
    "            break\n",
    "        marks = int(input('Enter the marks: '))\n",
    "        d[name] = d.get(marks, 0) + marks\n",
    "    return d"
   ]
  },
  {
   "cell_type": "code",
   "execution_count": 6,
   "id": "cd2242e9-0827-4d13-b436-f078c6854d65",
   "metadata": {},
   "outputs": [
    {
     "name": "stdin",
     "output_type": "stream",
     "text": [
      "Enter the student name or done:  Popa Ion\n",
      "Enter the marks:  5\n",
      "Enter the student name or done:  Gheorghe Dan\n",
      "Enter the marks:  8\n",
      "Enter the student name or done:  Ilie Ana\n",
      "Enter the marks:  9\n",
      "Enter the student name or done:  done\n"
     ]
    },
    {
     "data": {
      "text/plain": [
       "{'Popa Ion': 5, 'Gheorghe Dan': 8, 'Ilie Ana': 9}"
      ]
     },
     "execution_count": 6,
     "metadata": {},
     "output_type": "execute_result"
    }
   ],
   "source": [
    "get_marks()"
   ]
  },
  {
   "cell_type": "code",
   "execution_count": null,
   "id": "3642f67e-2a32-4b44-b6a6-226c0c8017f2",
   "metadata": {},
   "outputs": [],
   "source": []
  }
 ],
 "metadata": {
  "kernelspec": {
   "display_name": "curs_python_env",
   "language": "python",
   "name": "curs_python_env"
  },
  "language_info": {
   "codemirror_mode": {
    "name": "ipython",
    "version": 3
   },
   "file_extension": ".py",
   "mimetype": "text/x-python",
   "name": "python",
   "nbconvert_exporter": "python",
   "pygments_lexer": "ipython3",
   "version": "3.10.5"
  }
 },
 "nbformat": 4,
 "nbformat_minor": 5
}
