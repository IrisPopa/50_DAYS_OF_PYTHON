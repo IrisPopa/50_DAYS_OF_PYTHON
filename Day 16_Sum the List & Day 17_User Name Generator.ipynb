{
 "cells": [
  {
   "cell_type": "markdown",
   "id": "5cc4c8d6-04be-4c2f-8cb7-996fa41404e4",
   "metadata": {},
   "source": [
    "## Day 16: Sum the List\n",
    "Write a function called sum_list with one parameter that takes a nested list of integers as an argument and returns the sum of\n",
    "the integers. For example, if you pass [[2, 4, 5, 6], [2, 3, 5, 6]]\n",
    "as an argument your function should return a sum of 33."
   ]
  },
  {
   "cell_type": "code",
   "execution_count": 19,
   "id": "b5f3eaaf-0290-4ae2-b7a9-b62fa8e72444",
   "metadata": {},
   "outputs": [],
   "source": [
    "def sum_list(nested_list):\n",
    "    sum_list = []\n",
    "    for number_list in nested_list:\n",
    "        sum_list.append(sum(number_list))\n",
    "    return sum(sum_list)"
   ]
  },
  {
   "cell_type": "code",
   "execution_count": 20,
   "id": "3c45df28-7012-4615-b921-f3af4aa7be48",
   "metadata": {},
   "outputs": [],
   "source": [
    "b = [[2, 4, 5, 6], [2, 3, 5, 6]]"
   ]
  },
  {
   "cell_type": "code",
   "execution_count": 21,
   "id": "4becff0c-05f7-4ef5-8fba-d94ccf01d0ff",
   "metadata": {},
   "outputs": [
    {
     "data": {
      "text/plain": [
       "33"
      ]
     },
     "execution_count": 21,
     "metadata": {},
     "output_type": "execute_result"
    }
   ],
   "source": [
    "sum_list(b)"
   ]
  },
  {
   "cell_type": "code",
   "execution_count": null,
   "id": "d2aa99e0-a376-4b5b-ae97-b3cd0af3b7f9",
   "metadata": {},
   "outputs": [],
   "source": []
  },
  {
   "cell_type": "code",
   "execution_count": 47,
   "id": "89ea9fc5-2898-44d6-a682-b0ce014c2f45",
   "metadata": {},
   "outputs": [],
   "source": [
    "def sum_list1(lst1: list):\n",
    "    count = 0\n",
    "    for items in lst1:\n",
    "        for i in items:\n",
    "            count += i\n",
    "    return f'The sum is {count}'"
   ]
  },
  {
   "cell_type": "code",
   "execution_count": 48,
   "id": "1d8baf23-02bb-4517-b4a4-1eb3f773899a",
   "metadata": {},
   "outputs": [
    {
     "data": {
      "text/plain": [
       "'The sum is 33'"
      ]
     },
     "execution_count": 48,
     "metadata": {},
     "output_type": "execute_result"
    }
   ],
   "source": [
    "sum_list1(b)"
   ]
  },
  {
   "cell_type": "code",
   "execution_count": null,
   "id": "862ca64a-90a1-4665-96aa-c9ca5d747b2f",
   "metadata": {},
   "outputs": [],
   "source": []
  },
  {
   "cell_type": "markdown",
   "id": "e2f37e0a-b1cf-4d46-a979-afac5f686250",
   "metadata": {},
   "source": [
    "Extra Challenge: Unpack A Nest\n",
    "Nested_list = [[12, 34, 56, 67], [34, 68, 78]]\n",
    "Write a code that generates a list of the following numbers from the nested list above – 34, 67, 78. Your output should be another\n",
    "list: [34, 67, 78]. The list output should not have duplicates."
   ]
  },
  {
   "cell_type": "code",
   "execution_count": 41,
   "id": "a9aa34c6-3290-45e0-8c72-fa0e1ffc2e20",
   "metadata": {},
   "outputs": [],
   "source": [
    "def unpack_nested_list(nested_list):\n",
    "    new_list =[]\n",
    "    new_list.append(nested_list[0][1])\n",
    "    new_list.append(nested_list[0][-1])\n",
    "    new_list.append(nested_list[1][-1])\n",
    "    return new_list"
   ]
  },
  {
   "cell_type": "code",
   "execution_count": 39,
   "id": "384e16a9-3aa9-4a44-b1f6-8661401d42b4",
   "metadata": {},
   "outputs": [],
   "source": [
    "nested_list = [[12, 34, 56, 67], [34, 68, 78]]"
   ]
  },
  {
   "cell_type": "code",
   "execution_count": 42,
   "id": "b0dcc46e-aea8-419d-9bf4-a00b80693e91",
   "metadata": {},
   "outputs": [
    {
     "data": {
      "text/plain": [
       "[34, 67, 78]"
      ]
     },
     "execution_count": 42,
     "metadata": {},
     "output_type": "execute_result"
    }
   ],
   "source": [
    "unpack_nested_list(nested_list)"
   ]
  },
  {
   "cell_type": "code",
   "execution_count": null,
   "id": "766a4283-ea91-461d-b572-11d98a382c9a",
   "metadata": {},
   "outputs": [],
   "source": []
  },
  {
   "cell_type": "code",
   "execution_count": 49,
   "id": "916e5a9c-3dd7-4799-a152-e7ab6dd351fc",
   "metadata": {},
   "outputs": [
    {
     "name": "stdout",
     "output_type": "stream",
     "text": [
      "[34, 67, 78]\n"
     ]
    }
   ],
   "source": [
    "nested_list = [[12, 34, 56, 67], [34, 68, 78]]\n",
    "new_list = []\n",
    "# A nested for loop to access the inner list\n",
    "for arr in nested_list:\n",
    "    for num in arr:\n",
    "        # Create a list of numbers wanted\n",
    "        if num in [34, 67, 78]:\n",
    "           # Checking if number already exists before appending\n",
    "           if num not in new_list:\n",
    "                new_list.append(num)\n",
    "print(new_list)"
   ]
  },
  {
   "cell_type": "code",
   "execution_count": null,
   "id": "9925fd66-f08d-474d-bc0b-a4f48cb90801",
   "metadata": {},
   "outputs": [],
   "source": []
  },
  {
   "cell_type": "markdown",
   "id": "768076b3-eed0-41c7-a8e4-5e0808560278",
   "metadata": {},
   "source": [
    "## Day 17: User Name Generator\n",
    "Write a function called user_name, that creates a username for the user. The function should ask a user to input their name.\n",
    "The function should then reverse the name and attach a randomly issued number between 0 – 9 at the end of the name.\n",
    "The function should return the username."
   ]
  },
  {
   "cell_type": "code",
   "execution_count": 40,
   "id": "b7f04409-8605-4622-9d0b-0d5d18a48a31",
   "metadata": {},
   "outputs": [],
   "source": [
    "from numpy import random"
   ]
  },
  {
   "cell_type": "code",
   "execution_count": 63,
   "id": "f831608b-9bb2-4376-be63-d517acdd2050",
   "metadata": {},
   "outputs": [],
   "source": [
    "def user_name():\n",
    "    list_name = list(input('Please enter your name:').lower())\n",
    "    list_name.remove(' ')\n",
    "    reversed_name =''.join(reversed(list_name))\n",
    "    return f'Your user name is {reversed_name}{random.randint(9, size =1)[0]}'\n",
    "    "
   ]
  },
  {
   "cell_type": "code",
   "execution_count": 64,
   "id": "5c3bb8d3-26c3-4ad0-b0e9-e379cb75a985",
   "metadata": {},
   "outputs": [
    {
     "name": "stdin",
     "output_type": "stream",
     "text": [
      "Please enter your name: Popa Valentina\n"
     ]
    },
    {
     "data": {
      "text/plain": [
       "'Your user name is anitnelavapop6'"
      ]
     },
     "execution_count": 64,
     "metadata": {},
     "output_type": "execute_result"
    }
   ],
   "source": [
    "user_name()"
   ]
  },
  {
   "cell_type": "code",
   "execution_count": 62,
   "id": "16c3e395-b139-45e2-b4a0-b9eb2c253859",
   "metadata": {},
   "outputs": [
    {
     "data": {
      "text/plain": [
       "'anitnelavapop'"
      ]
     },
     "execution_count": 62,
     "metadata": {},
     "output_type": "execute_result"
    }
   ],
   "source": [
    "x = 'Popa Valentina'\n",
    "y = list(x.lower())\n",
    "y.remove(' ')\n",
    "''.join(reversed(y))"
   ]
  },
  {
   "cell_type": "code",
   "execution_count": 31,
   "id": "c553c4d9-f3a1-4529-a4cc-0591082cdd7f",
   "metadata": {},
   "outputs": [
    {
     "data": {
      "text/plain": [
       "4"
      ]
     },
     "execution_count": 31,
     "metadata": {},
     "output_type": "execute_result"
    }
   ],
   "source": [
    "a = random.randint(9, size =1)[0]\n",
    "a"
   ]
  },
  {
   "cell_type": "code",
   "execution_count": 48,
   "id": "d62637df-0df8-4ca4-827c-d10e4e7ad42d",
   "metadata": {},
   "outputs": [],
   "source": [
    "def user_name1():\n",
    "    name = input('Enter name: ')\n",
    "    name = name[::-1].replace(' ', '')\n",
    "    num = random.randint(0,10)\n",
    "    username = name + str(num)\n",
    "    return username\n",
    "    print(user_name())"
   ]
  },
  {
   "cell_type": "code",
   "execution_count": 49,
   "id": "f4de1d56-7ed3-45ba-a494-4fe0cdab1812",
   "metadata": {},
   "outputs": [
    {
     "name": "stdin",
     "output_type": "stream",
     "text": [
      "Enter name:  Popescu Marian\n"
     ]
    },
    {
     "data": {
      "text/plain": [
       "'nairaMucsepoP7'"
      ]
     },
     "execution_count": 49,
     "metadata": {},
     "output_type": "execute_result"
    }
   ],
   "source": [
    " user_name1()"
   ]
  },
  {
   "cell_type": "code",
   "execution_count": null,
   "id": "84a4d507-35b9-478d-b7e3-c201f9502fba",
   "metadata": {},
   "outputs": [],
   "source": []
  },
  {
   "cell_type": "markdown",
   "id": "dfa08e7a-faad-4193-a818-068b631bd48e",
   "metadata": {},
   "source": [
    "Extra Challenge: Sort by Length\n",
    "names = [ \"Peter\", \"Jon\", \"Andrew\"]\n",
    "Write a function called sort_length that takes a list of strings as an argument, and sorts the strings in ascending order\n",
    "according to their length. For example, the list above should return:\n",
    "['Jon', 'Peter', 'Andrew']\n",
    "Do not use the built-in sort functions"
   ]
  },
  {
   "cell_type": "code",
   "execution_count": 97,
   "id": "3b7b4b78-351c-4554-b4c8-992a652ee941",
   "metadata": {},
   "outputs": [],
   "source": [
    "list_names = [ \"Peter\", \"Jon\", \"Andrew\", 'Pamela']"
   ]
  },
  {
   "cell_type": "code",
   "execution_count": 98,
   "id": "6c379516-24d2-419d-ad4f-b6eec54f40d9",
   "metadata": {},
   "outputs": [],
   "source": [
    "def sort_length1(list_names):\n",
    "    list_names.sort(key =len)\n",
    "    return list_names"
   ]
  },
  {
   "cell_type": "code",
   "execution_count": 99,
   "id": "c5910876-dc3b-49ab-93c9-c9f25eb8a54a",
   "metadata": {},
   "outputs": [
    {
     "data": {
      "text/plain": [
       "['Jon', 'Peter', 'Andrew', 'Pamela']"
      ]
     },
     "execution_count": 99,
     "metadata": {},
     "output_type": "execute_result"
    }
   ],
   "source": [
    "sort_length1(list_names)"
   ]
  },
  {
   "cell_type": "code",
   "execution_count": 1,
   "id": "d9b73a32-de2e-4641-badb-411819149682",
   "metadata": {},
   "outputs": [],
   "source": [
    "list_names1 = [ \"Peter\", \"Jon\", \"Andrew\", 'Pamela', 'Mary']"
   ]
  },
  {
   "cell_type": "code",
   "execution_count": 2,
   "id": "160a32bc-369c-4ccb-a894-9f0098d2fc7b",
   "metadata": {},
   "outputs": [],
   "source": [
    "def sort_length2(arr: list):\n",
    "    for j in range(len(arr)-1):\n",
    "        # Check if any of the words is longer than the other\n",
    "        if len(arr[j]) > len(arr[j + 1]):\n",
    "            # swap the longest for the shortest\n",
    "            arr[j], arr[j + 1] = arr[j + 1], arr[j]\n",
    "            j += 1\n",
    "    return arr"
   ]
  },
  {
   "cell_type": "code",
   "execution_count": 4,
   "id": "cad525fa-2521-4862-86ae-1bdc3f3d12fe",
   "metadata": {},
   "outputs": [
    {
     "data": {
      "text/plain": [
       "['Jon', 'Peter', 'Andrew', 'Mary', 'Pamela']"
      ]
     },
     "execution_count": 4,
     "metadata": {},
     "output_type": "execute_result"
    }
   ],
   "source": [
    "sort_length2(list_names1)"
   ]
  },
  {
   "cell_type": "code",
   "execution_count": null,
   "id": "96f4e753-2177-44e0-b45c-9766f1277994",
   "metadata": {},
   "outputs": [],
   "source": []
  }
 ],
 "metadata": {
  "kernelspec": {
   "display_name": "curs_python_env",
   "language": "python",
   "name": "curs_python_env"
  },
  "language_info": {
   "codemirror_mode": {
    "name": "ipython",
    "version": 3
   },
   "file_extension": ".py",
   "mimetype": "text/x-python",
   "name": "python",
   "nbconvert_exporter": "python",
   "pygments_lexer": "ipython3",
   "version": "3.10.5"
  }
 },
 "nbformat": 4,
 "nbformat_minor": 5
}
