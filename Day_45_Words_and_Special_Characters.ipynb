{
 "cells": [
  {
   "cell_type": "markdown",
   "id": "560786d7-4fd1-4114-b3ae-93106013e0a8",
   "metadata": {},
   "source": [
    "## Day 45: Words & Special Characters\n",
    "Write a function called analyse_string that returns the number of\n",
    "special characters (#$%&'()*+,-./:;<=>?@[\\]^_`{|}~), words,\n",
    "and, total characters (all letters and special characters minus\n",
    "whitespaces) in a string. Return everything in a dictionary format:\n",
    "{“special character”: “number”, “words”: “number”, “total\n",
    "characters”: “number”}\n",
    "Use the string below as an argument:\n",
    "“Python has a string format operator %. This functions\n",
    "analogously to printf format strings in C, e.g. \"spam=%s\n",
    "eggs=%d\" % (\"blah\", 2) evaluates to \"spam=blah eggs=2\"."
   ]
  },
  {
   "cell_type": "code",
   "execution_count": 51,
   "id": "c00a783e-7b74-49f4-be08-bbc469837354",
   "metadata": {},
   "outputs": [],
   "source": [
    "import string\n",
    "import re"
   ]
  },
  {
   "cell_type": "code",
   "execution_count": 141,
   "id": "6d44bdd1-0415-4bb1-9084-ab9603ef5844",
   "metadata": {},
   "outputs": [],
   "source": [
    "def analyse_string(str_param):\n",
    "    string_dict = {}\n",
    "    words_list = []\n",
    "    numeric_list = []\n",
    "    characters_list = []\n",
    "    for x in set(re.compile(r'\\W+').split(string_1)):\n",
    "        if x not in words_list and x.isalpha() == True and (len(x) > 1 or x in ['a', 'I']):\n",
    "            words_list.append(x) \n",
    "    for y in str_param:\n",
    "        if y in string.digits and y not in numeric_list:\n",
    "            numeric_list.append(y)\n",
    "    for z in str_param:\n",
    "        if z in string.punctuation and z not in characters_list:\n",
    "            characters_list.append(z)\n",
    "    string_dict['words'] = len(words_list)\n",
    "    string_dict['spcial characters'] = len(characters_list)\n",
    "    string_dict['numeric'] = len(numeric_list)\n",
    "    string_dict['all characters'] = len(set(''.join(words_list).lower())) + len(characters_list) + len(numeric_list)\n",
    "    print(f'The list of words: {words_list}')\n",
    "    print(f'The list of special characters: {characters_list}')\n",
    "    print(f'The list of numeric characters:{numeric_list}')\n",
    "    return string_dict"
   ]
  },
  {
   "cell_type": "code",
   "execution_count": 45,
   "id": "2d9f4fed-8fd8-43dc-a853-a41c7a572a6f",
   "metadata": {},
   "outputs": [],
   "source": [
    "string_1 = 'Python has a string format operator %. This functions analogously to printf format strings in C, e.g. \"spam=%s eggs=%d\" % (\"blah\", 2) evaluates to \"spam=blah eggs=2'"
   ]
  },
  {
   "cell_type": "code",
   "execution_count": 142,
   "id": "7d030c36-ae75-4369-9bc1-247b976e49f8",
   "metadata": {},
   "outputs": [
    {
     "name": "stdout",
     "output_type": "stream",
     "text": [
      "The list of words: ['blah', 'printf', 'This', 'a', 'string', 'Python', 'has', 'evaluates', 'strings', 'operator', 'analogously', 'in', 'format', 'functions', 'to', 'eggs', 'spam']\n",
      "The list of special characters: ['%', '.', ',', '\"', '=', '(', ')']\n",
      "The list of numeric characters:['2']\n"
     ]
    },
    {
     "data": {
      "text/plain": [
       "{'words': 17, 'spcial characters': 7, 'numeric': 1, 'all characters': 27}"
      ]
     },
     "execution_count": 142,
     "metadata": {},
     "output_type": "execute_result"
    }
   ],
   "source": [
    "analyse_string(string_1)"
   ]
  },
  {
   "cell_type": "code",
   "execution_count": 62,
   "id": "1a8588a2-6b53-4c6d-83c0-45196c9dd0e9",
   "metadata": {},
   "outputs": [
    {
     "data": {
      "text/plain": [
       "['Python',\n",
       " 'has',\n",
       " 'a',\n",
       " 'string',\n",
       " 'format',\n",
       " 'operator',\n",
       " 'This',\n",
       " 'functions',\n",
       " 'analogously',\n",
       " 'to',\n",
       " 'printf',\n",
       " 'format',\n",
       " 'strings',\n",
       " 'in',\n",
       " 'C',\n",
       " 'e',\n",
       " 'g',\n",
       " 'spam',\n",
       " 's',\n",
       " 'eggs',\n",
       " 'd',\n",
       " 'blah',\n",
       " '2',\n",
       " 'evaluates',\n",
       " 'to',\n",
       " 'spam',\n",
       " 'blah',\n",
       " 'eggs',\n",
       " '2']"
      ]
     },
     "execution_count": 62,
     "metadata": {},
     "output_type": "execute_result"
    }
   ],
   "source": [
    "p = re.compile(r'\\W+')\n",
    "p.split(string_1)"
   ]
  },
  {
   "cell_type": "code",
   "execution_count": 76,
   "id": "75eea9b7-b28d-48dc-a09e-51694a455933",
   "metadata": {},
   "outputs": [
    {
     "data": {
      "text/plain": [
       "['Python',\n",
       " ' ',\n",
       " 'has',\n",
       " ' ',\n",
       " 'a',\n",
       " ' ',\n",
       " 'string',\n",
       " ' ',\n",
       " 'format',\n",
       " ' ',\n",
       " 'operator',\n",
       " ' %. ',\n",
       " 'This',\n",
       " ' ',\n",
       " 'functions',\n",
       " ' ',\n",
       " 'analogously',\n",
       " ' ',\n",
       " 'to',\n",
       " ' ',\n",
       " 'printf',\n",
       " ' ',\n",
       " 'format',\n",
       " ' ',\n",
       " 'strings',\n",
       " ' ',\n",
       " 'in',\n",
       " ' ',\n",
       " 'C',\n",
       " ', ',\n",
       " 'e',\n",
       " '.',\n",
       " 'g',\n",
       " '. \"',\n",
       " 'spam',\n",
       " '=%',\n",
       " 's',\n",
       " ' ',\n",
       " 'eggs',\n",
       " '=%',\n",
       " 'd',\n",
       " '\" % (\"',\n",
       " 'blah',\n",
       " '\", ',\n",
       " '2',\n",
       " ') ',\n",
       " 'evaluates',\n",
       " ' ',\n",
       " 'to',\n",
       " ' \"',\n",
       " 'spam',\n",
       " '=',\n",
       " 'blah',\n",
       " ' ',\n",
       " 'eggs',\n",
       " '=',\n",
       " '2']"
      ]
     },
     "execution_count": 76,
     "metadata": {},
     "output_type": "execute_result"
    }
   ],
   "source": [
    "p1 = re.compile(r'(\\W+)')\n",
    "p1.split(string_1)"
   ]
  },
  {
   "cell_type": "code",
   "execution_count": null,
   "id": "8cf9b735-8a94-463d-9bc2-b6c53829b7d9",
   "metadata": {},
   "outputs": [],
   "source": []
  },
  {
   "cell_type": "code",
   "execution_count": 105,
   "id": "575bfd09-e31f-40c6-9c82-f7a08cd55a6d",
   "metadata": {},
   "outputs": [],
   "source": [
    "def char(a):\n",
    "    special_cha = []\n",
    "    numeric_cha = []\n",
    "    d = {'numeric': '', 'special_cha': '','total_char': ''}\n",
    "    for i in a.replace(' ', ''):\n",
    "        if i in string.punctuation:\n",
    "            if i not in special_cha:\n",
    "                special_cha.append(i)\n",
    "            d['special_cha'] = len(special_cha)\n",
    "        if i in string.digits:\n",
    "            if i not in numeric_cha:\n",
    "                numeric_cha.append(i)\n",
    "            d['numeric'] = len(numeric_cha)\n",
    "        else:\n",
    "            d['total_char'] = len(a.replace(' ', ''))\n",
    "    return d"
   ]
  },
  {
   "cell_type": "code",
   "execution_count": 106,
   "id": "f28c1c9c-33f2-4512-8587-7af1e5146934",
   "metadata": {},
   "outputs": [
    {
     "data": {
      "text/plain": [
       "{'numeric': 1, 'special_cha': 7, 'total_char': 139}"
      ]
     },
     "execution_count": 106,
     "metadata": {},
     "output_type": "execute_result"
    }
   ],
   "source": [
    "char(string_1)"
   ]
  },
  {
   "cell_type": "code",
   "execution_count": null,
   "id": "98805eb3-ac85-4591-b193-c02c2641c4e9",
   "metadata": {},
   "outputs": [],
   "source": []
  }
 ],
 "metadata": {
  "kernelspec": {
   "display_name": "curs_python_env",
   "language": "python",
   "name": "curs_python_env"
  },
  "language_info": {
   "codemirror_mode": {
    "name": "ipython",
    "version": 3
   },
   "file_extension": ".py",
   "mimetype": "text/x-python",
   "name": "python",
   "nbconvert_exporter": "python",
   "pygments_lexer": "ipython3",
   "version": "3.10.5"
  }
 },
 "nbformat": 4,
 "nbformat_minor": 5
}
