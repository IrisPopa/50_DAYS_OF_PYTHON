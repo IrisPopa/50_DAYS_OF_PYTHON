{
 "cells": [
  {
   "cell_type": "markdown",
   "id": "f26d49da-11b0-4ca4-a3b7-31776f96fbec",
   "metadata": {},
   "source": [
    "## Day 39: Password Generator\n",
    "Create a function called generate_password that generates any\n",
    "length of password for the user. The password should have a\n",
    "random mix of upper letters, lower letters, numbers, and\n",
    "punctuation symbols. The function should ask the user how\n",
    "strong they want the password to be. The user should pick from -\n",
    "weak, strong, and very strong. If the user picks weak, the\n",
    "function should generate a 5-character long password. If the user\n",
    "picks strong, generate an 8-character password and if they pick\n",
    "very strong, generate a 12-character password."
   ]
  },
  {
   "cell_type": "code",
   "execution_count": 1,
   "id": "58cdcc0c-0884-4569-80ae-25374dcb5228",
   "metadata": {},
   "outputs": [],
   "source": [
    "import string\n",
    "import random"
   ]
  },
  {
   "cell_type": "code",
   "execution_count": 106,
   "id": "71218a4d-8208-4a15-b7cc-79a9fcd8c37d",
   "metadata": {},
   "outputs": [],
   "source": [
    "def generate_password():\n",
    "    char_list =list(string.ascii_lowercase + string.ascii_uppercase + string.digits + string.punctuation)\n",
    "    password = ''\n",
    "    password_type = input('How strong do you want the password to be? Please enter one of this three values - weak, strong, very strong: ')\n",
    "    while True:\n",
    "        if password_type.lower() not in ['weak', 'strong', 'very strong']:\n",
    "            password_type = input('Please enter one of this three values - weak, strong, very strong: ')\n",
    "        elif password_type.lower() in ['weak', 'strong', 'very strong']:\n",
    "            break\n",
    "    if password_type.lower() == 'weak':\n",
    "            password = ''.join(random.choices(char_list, k=5))\n",
    "    elif password_type.lower() == 'strong':\n",
    "            password = ''.join(random.choices(char_list, k=8))\n",
    "    elif password_type.lower() == 'very strong':\n",
    "            password = ''.join(random.choices(char_list, k=12))\n",
    "    return f'You password is: {password}'"
   ]
  },
  {
   "cell_type": "code",
   "execution_count": 107,
   "id": "4b1e763d-fda3-4268-9b93-57b72b014aa0",
   "metadata": {},
   "outputs": [
    {
     "name": "stdin",
     "output_type": "stream",
     "text": [
      "How strong do you want the password to be? Please enter one of this three values - weak, strong, very strong:  STRONG\n"
     ]
    },
    {
     "data": {
      "text/plain": [
       "'You password is: -|LT$xnN'"
      ]
     },
     "execution_count": 107,
     "metadata": {},
     "output_type": "execute_result"
    }
   ],
   "source": [
    "generate_password()"
   ]
  },
  {
   "cell_type": "code",
   "execution_count": 108,
   "id": "96a700d8-daaf-41e1-9540-b9880220f202",
   "metadata": {},
   "outputs": [
    {
     "name": "stdin",
     "output_type": "stream",
     "text": [
      "How strong do you want the password to be? Please enter one of this three values - weak, strong, very strong:  weak\n"
     ]
    },
    {
     "data": {
      "text/plain": [
       "'You password is: ^9KkQ'"
      ]
     },
     "execution_count": 108,
     "metadata": {},
     "output_type": "execute_result"
    }
   ],
   "source": [
    "generate_password()"
   ]
  },
  {
   "cell_type": "code",
   "execution_count": 109,
   "id": "bda1726d-ef43-4137-944e-9814475a26ee",
   "metadata": {},
   "outputs": [
    {
     "name": "stdin",
     "output_type": "stream",
     "text": [
      "How strong do you want the password to be? Please enter one of this three values - weak, strong, very strong:  verystrong\n",
      "Please enter one of this three values - weak, strong, very strong:  VERY STRONK\n",
      "Please enter one of this three values - weak, strong, very strong:  very strong\n"
     ]
    },
    {
     "data": {
      "text/plain": [
       "'You password is: Yur-Q<,|>@T-'"
      ]
     },
     "execution_count": 109,
     "metadata": {},
     "output_type": "execute_result"
    }
   ],
   "source": [
    "generate_password()"
   ]
  },
  {
   "cell_type": "code",
   "execution_count": null,
   "id": "667a6e57-aa0e-43f3-894b-799c4f7b6a85",
   "metadata": {},
   "outputs": [],
   "source": []
  },
  {
   "cell_type": "code",
   "execution_count": null,
   "id": "76bb87b1-2574-4515-9d83-2cfe01735dac",
   "metadata": {},
   "outputs": [],
   "source": []
  },
  {
   "cell_type": "code",
   "execution_count": 100,
   "id": "635dffa1-bb16-4375-9b58-2fc6aed79e41",
   "metadata": {},
   "outputs": [],
   "source": [
    "def password_generator1():\n",
    "    # string module constants\n",
    "    a = string.ascii_letters + string.digits + string.punctuation\n",
    "    password1 =[]\n",
    "    length = input(\"Pick your password length a, b or c: \\na. weak \\nb. strong \\nc. Very strong...: \")\n",
    "    if length == 'a':\n",
    "        length = 5\n",
    "    elif length == 'b':\n",
    "        length = 8\n",
    "    elif length == 'c':\n",
    "        length = 12\n",
    "    for i in range(length):\n",
    "        password = str(random.choice(a))\n",
    "        password1.append(password)\n",
    "    return 'You password is', ''.join(password1)"
   ]
  },
  {
   "cell_type": "code",
   "execution_count": 89,
   "id": "caf4bca4-3ccd-45f9-91f9-fd8e822f9129",
   "metadata": {},
   "outputs": [
    {
     "name": "stdin",
     "output_type": "stream",
     "text": [
      "Pick your password length a, b or c: \n",
      "a. weak \n",
      "b. strong \n",
      "c. Very strong...:  a\n"
     ]
    },
    {
     "data": {
      "text/plain": [
       "('You password is', '(E7e^')"
      ]
     },
     "execution_count": 89,
     "metadata": {},
     "output_type": "execute_result"
    }
   ],
   "source": [
    "password_generator1()"
   ]
  },
  {
   "cell_type": "code",
   "execution_count": 101,
   "id": "f47154b8-d79e-4d8a-af53-77e364382803",
   "metadata": {},
   "outputs": [
    {
     "name": "stdin",
     "output_type": "stream",
     "text": [
      "Pick your password length a, b or c: \n",
      "a. weak \n",
      "b. strong \n",
      "c. Very strong...:  a\n"
     ]
    },
    {
     "data": {
      "text/plain": [
       "('You password is', \"(K'Yx\")"
      ]
     },
     "execution_count": 101,
     "metadata": {},
     "output_type": "execute_result"
    }
   ],
   "source": [
    "password_generator1()"
   ]
  },
  {
   "cell_type": "code",
   "execution_count": null,
   "id": "05218383-7de5-40e1-9c73-558ddaf88149",
   "metadata": {},
   "outputs": [],
   "source": []
  }
 ],
 "metadata": {
  "kernelspec": {
   "display_name": "curs_python_env",
   "language": "python",
   "name": "curs_python_env"
  },
  "language_info": {
   "codemirror_mode": {
    "name": "ipython",
    "version": 3
   },
   "file_extension": ".py",
   "mimetype": "text/x-python",
   "name": "python",
   "nbconvert_exporter": "python",
   "pygments_lexer": "ipython3",
   "version": "3.10.5"
  }
 },
 "nbformat": 4,
 "nbformat_minor": 5
}
