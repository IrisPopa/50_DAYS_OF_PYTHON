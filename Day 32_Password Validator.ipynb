{
 "cells": [
  {
   "cell_type": "markdown",
   "id": "dd5eab16-2077-46f1-ab3c-c799473461b7",
   "metadata": {},
   "source": [
    "## Day 32: Password Validator\n",
    "Write a function called password_validator. The function asks the user to enter a password. A valid password should have\n",
    "at least one upper letter, one lower letter, and one  number. It should not be less than 8 characters long. When\n",
    "the user enters a password, the function should check if the\n",
    "password is valid. If the password is valid, the function should\n",
    "return the valid password. If the password is not valid, the\n",
    "function should tell the users the errors in the password and\n",
    "prompt the user to enter another password. The code should\n",
    "only stop once the user enters a valid password. (use while loop)."
   ]
  },
  {
   "cell_type": "code",
   "execution_count": 1,
   "id": "5b08cc8f-dba4-46af-ac47-1d2c20485966",
   "metadata": {},
   "outputs": [],
   "source": [
    "def password_validator():\n",
    "    while True:\n",
    "        upper_list =[]\n",
    "        lower_list = []\n",
    "        number_list =[]\n",
    "        password = input('Please eneter your password:')\n",
    "        for x in list(password):\n",
    "            if x.islower() == True:\n",
    "                lower_list.append(x)\n",
    "            elif x.isupper() == True:\n",
    "                upper_list.append(x)\n",
    "            elif x.isnumeric() == True:\n",
    "                number_list.append(x)\n",
    "        if len(upper_list) < 1:\n",
    "                    print (f'The password should have at least one upper letter, please enter a valid password')\n",
    "                    upper_list.clear()\n",
    "        elif len(lower_list) < 1:\n",
    "                     print (f'The password should have at least one lower letter, please enter a valid password')\n",
    "                     lower_list.clear()\n",
    "        elif len(number_list) < 1:\n",
    "                     print (f'The password should have at least one number, please enter a valid password')\n",
    "                     number_list.clear()\n",
    "        elif len(password) < 8:\n",
    "                     print(\"Your password is less than 8 characters\")\n",
    "        else:\n",
    "            return (f'The password \"{password}\" is valid')"
   ]
  },
  {
   "cell_type": "code",
   "execution_count": 120,
   "id": "718f8a7a-3fe7-4c98-ab71-16d106302efe",
   "metadata": {},
   "outputs": [
    {
     "name": "stdin",
     "output_type": "stream",
     "text": [
      "Please eneter your password: Valimiha3\n"
     ]
    },
    {
     "data": {
      "text/plain": [
       "'The password \"Valimiha3\" is valid'"
      ]
     },
     "execution_count": 120,
     "metadata": {},
     "output_type": "execute_result"
    }
   ],
   "source": [
    "password_validator()"
   ]
  },
  {
   "cell_type": "code",
   "execution_count": 121,
   "id": "6c7a8288-f88a-4cb6-8ec1-afca44536afa",
   "metadata": {},
   "outputs": [
    {
     "name": "stdin",
     "output_type": "stream",
     "text": [
      "Please eneter your password: valimi\n"
     ]
    },
    {
     "name": "stdout",
     "output_type": "stream",
     "text": [
      "The password should have at least one upper letter, please enter a valid password\n"
     ]
    },
    {
     "name": "stdin",
     "output_type": "stream",
     "text": [
      "Please eneter your password: Valimi\n"
     ]
    },
    {
     "name": "stdout",
     "output_type": "stream",
     "text": [
      "The password should have at least one number, please enter a valid password\n"
     ]
    },
    {
     "name": "stdin",
     "output_type": "stream",
     "text": [
      "Please eneter your password: Valimi3\n"
     ]
    },
    {
     "name": "stdout",
     "output_type": "stream",
     "text": [
      "Your password is less than 8 characters\n"
     ]
    },
    {
     "name": "stdin",
     "output_type": "stream",
     "text": [
      "Please eneter your password: VALIMIHA2\n"
     ]
    },
    {
     "name": "stdout",
     "output_type": "stream",
     "text": [
      "The password should have at least one lower letter, please enter a valid password\n"
     ]
    },
    {
     "name": "stdin",
     "output_type": "stream",
     "text": [
      "Please eneter your password: valimiha3\n"
     ]
    },
    {
     "name": "stdout",
     "output_type": "stream",
     "text": [
      "The password should have at least one upper letter, please enter a valid password\n"
     ]
    },
    {
     "name": "stdin",
     "output_type": "stream",
     "text": [
      "Please eneter your password: Valimiha3\n"
     ]
    },
    {
     "data": {
      "text/plain": [
       "'The password \"Valimiha3\" is valid'"
      ]
     },
     "execution_count": 121,
     "metadata": {},
     "output_type": "execute_result"
    }
   ],
   "source": [
    "password_validator()"
   ]
  },
  {
   "cell_type": "code",
   "execution_count": null,
   "id": "fc8bca0e-e477-4baf-af5d-56d099837fcf",
   "metadata": {},
   "outputs": [],
   "source": []
  },
  {
   "cell_type": "code",
   "execution_count": 95,
   "id": "9b7fb46f-68f4-41dd-8a5f-1e08a61c85fe",
   "metadata": {},
   "outputs": [],
   "source": [
    "def password_checker1():\n",
    "    errors = []\n",
    "    while True:\n",
    "        password = input('Enter your password: ')\n",
    "        if not any(i.isupper() for i in password):\n",
    "            errors.append(\"Please add at least one capital letter to your password\")\n",
    "        elif not any(i.islower() for i in password):\n",
    "            errors.append(\"Please add at least one small letter to your password\")\n",
    "        elif not any(i.isdigit() for i in password):\n",
    "            errors.append('Please add at least one number to your password')\n",
    "        elif len(password) < 8:\n",
    "            errors.append(\"Your password is less than 8 characters\")\n",
    "        if len(errors) > 0:\n",
    "            print('Check the following errors:')\n",
    "            print(str(errors))\n",
    "            del errors[0:]\n",
    "        else:\n",
    "            return f'Your password is {password}'"
   ]
  },
  {
   "cell_type": "code",
   "execution_count": 96,
   "id": "e3ff7e8d-71fe-4870-a863-1508991232ca",
   "metadata": {},
   "outputs": [
    {
     "name": "stdin",
     "output_type": "stream",
     "text": [
      "Enter your password:  Valim\n"
     ]
    },
    {
     "name": "stdout",
     "output_type": "stream",
     "text": [
      "Check the following errors:\n",
      "['Please add at least one number to your password']\n"
     ]
    },
    {
     "name": "stdin",
     "output_type": "stream",
     "text": [
      "Enter your password:  Valim3\n"
     ]
    },
    {
     "name": "stdout",
     "output_type": "stream",
     "text": [
      "Check the following errors:\n",
      "['Your password is less than 8 characters']\n"
     ]
    },
    {
     "name": "stdin",
     "output_type": "stream",
     "text": [
      "Enter your password:  mihavali4\n"
     ]
    },
    {
     "name": "stdout",
     "output_type": "stream",
     "text": [
      "Check the following errors:\n",
      "['Please add at least one capital letter to your password']\n"
     ]
    },
    {
     "name": "stdin",
     "output_type": "stream",
     "text": [
      "Enter your password:  Mihavali3\n"
     ]
    },
    {
     "data": {
      "text/plain": [
       "'Your password is Mihavali3'"
      ]
     },
     "execution_count": 96,
     "metadata": {},
     "output_type": "execute_result"
    }
   ],
   "source": [
    "password_checker1()"
   ]
  },
  {
   "cell_type": "code",
   "execution_count": null,
   "id": "1d9950c3-7beb-44ca-9baa-37e32c9f7ac9",
   "metadata": {},
   "outputs": [],
   "source": []
  },
  {
   "cell_type": "code",
   "execution_count": null,
   "id": "89476cbf-f44c-480e-81f4-dfce1a487c62",
   "metadata": {},
   "outputs": [],
   "source": []
  },
  {
   "cell_type": "markdown",
   "id": "933a07a1-21be-44e3-ac1d-aa91a1df89ca",
   "metadata": {},
   "source": [
    "## Extra Challenge: Valid Email\n",
    "emails = ['ben@mail.com', 'john@mail.cm', 'kenny@gmail.com', '@list.com' ]\n",
    "Write a function called email_validator that takes a list of\n",
    "emails and checks if the emails are valid. The function returns a\n",
    "list of only valid emails. A valid email address will have the\n",
    "following - @ symbol (if the @ sign is at the beginning of the\n",
    "name, the email is invalid. If there are more than one @signs,\n",
    "the email is invalid. All valid emails must have a dot com at the\n",
    "end (.com), if not, the email is invalid. For example, the list of\n",
    "emails above should output the following as valid emails:\n",
    "['ben@mail.com', 'kenny@gmail.com']\n",
    "If no emails in the list are valid, the function should return ‘all emails are\n",
    "invalid’"
   ]
  },
  {
   "cell_type": "code",
   "execution_count": 156,
   "id": "72ef3464-e9ab-40c9-9c3e-0d70f74a4736",
   "metadata": {},
   "outputs": [],
   "source": [
    "def email_validator(email_list):\n",
    "    valid_email_list = []\n",
    "    for email in email_list:\n",
    "        if email[0] != '@' and email[-4:] == '.com' and email.count('@') <2:\n",
    "            valid_email_list.append(email)\n",
    "        elif len(valid_email_list) < 1:\n",
    "            valid_email_list.append('All emails are invalid')\n",
    "    print(valid_email_list)      "
   ]
  },
  {
   "cell_type": "code",
   "execution_count": 139,
   "id": "e785fa03-4f7a-426b-be3d-ad6854b3eeb9",
   "metadata": {},
   "outputs": [],
   "source": [
    "emails = ['ben@mail.com', 'john@mail.cm', 'kenny@gmail.com', '@list.com' ] "
   ]
  },
  {
   "cell_type": "code",
   "execution_count": 157,
   "id": "9dabd8e8-5855-4b05-bfe2-e87cc7cd4ad3",
   "metadata": {},
   "outputs": [
    {
     "name": "stdout",
     "output_type": "stream",
     "text": [
      "['ben@mail.com', 'kenny@gmail.com']\n"
     ]
    }
   ],
   "source": [
    "email_validator(emails)"
   ]
  },
  {
   "cell_type": "code",
   "execution_count": 143,
   "id": "b089c292-5a53-49ac-936a-68a5e6d40d14",
   "metadata": {},
   "outputs": [],
   "source": [
    "email_list = ['@ben@mail.com', 'john@mail.cm', 'kenny@gmail.cm', '@list.com' ]"
   ]
  },
  {
   "cell_type": "code",
   "execution_count": 158,
   "id": "ec0e280d-89a7-48ea-8863-849376633e5a",
   "metadata": {},
   "outputs": [
    {
     "name": "stdout",
     "output_type": "stream",
     "text": [
      "['All emails are invalid']\n"
     ]
    }
   ],
   "source": [
    "email_validator(email_list)"
   ]
  },
  {
   "cell_type": "code",
   "execution_count": null,
   "id": "33ccff3e-27ef-45f9-b1f7-90f73c5f1656",
   "metadata": {},
   "outputs": [],
   "source": []
  },
  {
   "cell_type": "code",
   "execution_count": null,
   "id": "79a6a856-647c-4760-a5a3-2b2be71bdda3",
   "metadata": {},
   "outputs": [],
   "source": []
  },
  {
   "cell_type": "code",
   "execution_count": 159,
   "id": "aabeb24f-e5e0-47f7-8ed6-b0d1d324be35",
   "metadata": {},
   "outputs": [],
   "source": [
    "def email_validator1(arr: list):\n",
    "    # Creating an empty list.\n",
    "    valid_emails = []\n",
    "    for email in arr:\n",
    "        # conditions that make email valid\n",
    "        if \"@\" in email and email.count('@') == 1 and email[-4:] == '.com':\n",
    "            if email[0] != '@':\n",
    "                valid_emails.append(email)\n",
    "            # Checking if list with emails is empty.\n",
    "        elif len(valid_emails) == 0:\n",
    "            return 'All emails are invalid'\n",
    "    return f'The list of valid emails is: {valid_emails}'"
   ]
  },
  {
   "cell_type": "code",
   "execution_count": 160,
   "id": "707f2d82-dc13-4bad-825d-e606e6f7a07e",
   "metadata": {},
   "outputs": [
    {
     "data": {
      "text/plain": [
       "\"The list of valid emails is: ['ben@mail.com', 'kenny@gmail.com']\""
      ]
     },
     "execution_count": 160,
     "metadata": {},
     "output_type": "execute_result"
    }
   ],
   "source": [
    "email_validator1(emails)"
   ]
  },
  {
   "cell_type": "code",
   "execution_count": 161,
   "id": "b2c04534-7470-4be6-83a4-3a420f6ca5ac",
   "metadata": {},
   "outputs": [
    {
     "data": {
      "text/plain": [
       "'All emails are invalid'"
      ]
     },
     "execution_count": 161,
     "metadata": {},
     "output_type": "execute_result"
    }
   ],
   "source": [
    "email_validator1(email_list)"
   ]
  },
  {
   "cell_type": "code",
   "execution_count": null,
   "id": "f0f53a6f-b030-4ba9-8178-f6d155435a22",
   "metadata": {},
   "outputs": [],
   "source": []
  }
 ],
 "metadata": {
  "kernelspec": {
   "display_name": "curs_python_env",
   "language": "python",
   "name": "curs_python_env"
  },
  "language_info": {
   "codemirror_mode": {
    "name": "ipython",
    "version": 3
   },
   "file_extension": ".py",
   "mimetype": "text/x-python",
   "name": "python",
   "nbconvert_exporter": "python",
   "pygments_lexer": "ipython3",
   "version": "3.10.5"
  }
 },
 "nbformat": 4,
 "nbformat_minor": 5
}
