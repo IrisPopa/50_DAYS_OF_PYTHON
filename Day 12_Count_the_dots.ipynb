{
 "cells": [
  {
   "cell_type": "markdown",
   "id": "5cc4c8d6-04be-4c2f-8cb7-996fa41404e4",
   "metadata": {},
   "source": [
    "Day 12: Count the Dots\n",
    "Write a function called count_dots. This function takes a string separated by dots as a parameter and counts how many\n",
    "dots are in the string. For example, ‘h.e.l.p.’ should return 4 dots, and ‘he.lp.’ should return 2 dots."
   ]
  },
  {
   "cell_type": "code",
   "execution_count": 4,
   "id": "b5f3eaaf-0290-4ae2-b7a9-b62fa8e72444",
   "metadata": {},
   "outputs": [],
   "source": [
    "def count_dots(dots_string):\n",
    "    dots_list = []\n",
    "    for x in dots_string:\n",
    "        if x == '.':\n",
    "            dots_list.append(x)\n",
    "    return len(dots_list)"
   ]
  },
  {
   "cell_type": "code",
   "execution_count": 6,
   "id": "62b81dd9-b4a3-487b-a963-23d1511a46d0",
   "metadata": {},
   "outputs": [
    {
     "data": {
      "text/plain": [
       "7"
      ]
     },
     "execution_count": 6,
     "metadata": {},
     "output_type": "execute_result"
    }
   ],
   "source": [
    " count_dots('h.o.l.i.d.a.y.')"
   ]
  },
  {
   "cell_type": "code",
   "execution_count": null,
   "id": "c90a4c3a-7feb-4c2a-89f7-7d2542fe26ce",
   "metadata": {},
   "outputs": [],
   "source": []
  },
  {
   "cell_type": "markdown",
   "id": "6311dc4b-c542-4db4-b6d5-514574998f6d",
   "metadata": {},
   "source": [
    "Extra Challenge: Your Age in Minutes\n",
    "Write a function called age_in_minutes that tells a user how old they are in minutes. Your code should ask the user to\n",
    "enter their year of birth, and it should return their age in minutes (by subtracting their year of birth to the current year).\n",
    "Here are things to look out for:\n",
    "a. The user can only input a 4-digit year of birth. For example, 1930 is a valid year. However, entering any number longer or less than 4 digits long should render input invalid. Notify the user to input a four digits number.\n",
    "b. If a user enters a year before 1900, your code should tell the user that input is invalid. If the user enters the year after the current year, the code should tell the user, to input a valid year.\n",
    "The code should run until the user inputs a valid year. Your function should return the user's age in minutes. For example, if someone enters 1930, as their year of birth your function should return:\n",
    "You are 48,355,200 minutes old."
   ]
  },
  {
   "cell_type": "code",
   "execution_count": 51,
   "id": "d7a9fa7b-336e-4274-a0b5-1e3b39b073ff",
   "metadata": {},
   "outputs": [],
   "source": [
    "from datetime import datetime"
   ]
  },
  {
   "cell_type": "code",
   "execution_count": 90,
   "id": "4becff0c-05f7-4ef5-8fba-d94ccf01d0ff",
   "metadata": {},
   "outputs": [],
   "source": [
    "def age_in_minutes ():\n",
    "    year = int((input('Enter your year of birth:')))\n",
    "    if len(str(year)) > 4:\n",
    "        return (f'Please input a four digits number')\n",
    "    elif year < 1900 or year > datetime.now().year:\n",
    "        return (f'Please input a valid year')\n",
    "    else:\n",
    "        minutes = '{:,}'.format((datetime.now().year - year)*365*24*60)\n",
    "        return (f'You are {minutes} minutes old')"
   ]
  },
  {
   "cell_type": "code",
   "execution_count": 88,
   "id": "384e16a9-3aa9-4a44-b1f6-8661401d42b4",
   "metadata": {},
   "outputs": [
    {
     "name": "stdin",
     "output_type": "stream",
     "text": [
      "Enter your year of birth: 1979\n"
     ]
    },
    {
     "data": {
      "text/plain": [
       "'You are 22,600,800 minutes old'"
      ]
     },
     "execution_count": 88,
     "metadata": {},
     "output_type": "execute_result"
    }
   ],
   "source": [
    "age_in_minutes ()"
   ]
  },
  {
   "cell_type": "code",
   "execution_count": null,
   "id": "b0dcc46e-aea8-419d-9bf4-a00b80693e91",
   "metadata": {},
   "outputs": [],
   "source": []
  },
  {
   "cell_type": "code",
   "execution_count": null,
   "id": "766a4283-ea91-461d-b572-11d98a382c9a",
   "metadata": {},
   "outputs": [],
   "source": []
  },
  {
   "cell_type": "code",
   "execution_count": null,
   "id": "f831608b-9bb2-4376-be63-d517acdd2050",
   "metadata": {},
   "outputs": [],
   "source": []
  },
  {
   "cell_type": "code",
   "execution_count": null,
   "id": "5c3bb8d3-26c3-4ad0-b0e9-e379cb75a985",
   "metadata": {},
   "outputs": [],
   "source": []
  }
 ],
 "metadata": {
  "kernelspec": {
   "display_name": "curs_python_env",
   "language": "python",
   "name": "curs_python_env"
  },
  "language_info": {
   "codemirror_mode": {
    "name": "ipython",
    "version": 3
   },
   "file_extension": ".py",
   "mimetype": "text/x-python",
   "name": "python",
   "nbconvert_exporter": "python",
   "pygments_lexer": "ipython3",
   "version": "3.10.5"
  }
 },
 "nbformat": 4,
 "nbformat_minor": 5
}
