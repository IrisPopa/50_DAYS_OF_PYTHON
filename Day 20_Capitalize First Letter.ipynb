{
 "cells": [
  {
   "cell_type": "code",
   "execution_count": null,
   "id": "b5f3eaaf-0290-4ae2-b7a9-b62fa8e72444",
   "metadata": {},
   "outputs": [],
   "source": [
    "Day 20: Capitalize First Letter\n",
    "Write a function called capitalize. This function takes a string as an argument and capitalizes the first letter of each word. For\n",
    "example, ‘i like learning’ becomes ‘I Like Learning’. "
   ]
  },
  {
   "cell_type": "code",
   "execution_count": 7,
   "id": "62b81dd9-b4a3-487b-a963-23d1511a46d0",
   "metadata": {},
   "outputs": [],
   "source": [
    "def capitalize(string):\n",
    "    new_string = string.title()\n",
    "    return new_string"
   ]
  },
  {
   "cell_type": "code",
   "execution_count": 41,
   "id": "3c45df28-7012-4615-b921-f3af4aa7be48",
   "metadata": {},
   "outputs": [],
   "source": [
    "txt = 'i like learning'"
   ]
  },
  {
   "cell_type": "code",
   "execution_count": 8,
   "id": "4becff0c-05f7-4ef5-8fba-d94ccf01d0ff",
   "metadata": {},
   "outputs": [
    {
     "data": {
      "text/plain": [
       "'I Like Learning'"
      ]
     },
     "execution_count": 8,
     "metadata": {},
     "output_type": "execute_result"
    }
   ],
   "source": [
    "capitalize(txt)"
   ]
  },
  {
   "cell_type": "code",
   "execution_count": null,
   "id": "d2aa99e0-a376-4b5b-ae97-b3cd0af3b7f9",
   "metadata": {},
   "outputs": [],
   "source": []
  },
  {
   "cell_type": "code",
   "execution_count": 40,
   "id": "498aedb9-2963-46f6-bcd4-50d336a514f4",
   "metadata": {},
   "outputs": [],
   "source": [
    "def capitalize1(a: str):\n",
    "    upper = []\n",
    "    for i, word in enumerate(a.split()):\n",
    "        if word[0].islower():\n",
    "            upper.append(word.capitalize())\n",
    "        else:\n",
    "            upper.append(word)\n",
    "    return ' '.join(upper)"
   ]
  },
  {
   "cell_type": "code",
   "execution_count": 42,
   "id": "09643559-3237-4a91-be3d-d28f2d4f59d5",
   "metadata": {},
   "outputs": [
    {
     "data": {
      "text/plain": [
       "'I Like Learning'"
      ]
     },
     "execution_count": 42,
     "metadata": {},
     "output_type": "execute_result"
    }
   ],
   "source": [
    "capitalize1(txt)"
   ]
  },
  {
   "cell_type": "code",
   "execution_count": null,
   "id": "e273a24e-7b39-4612-ad81-57dbc710aebc",
   "metadata": {},
   "outputs": [],
   "source": []
  },
  {
   "cell_type": "markdown",
   "id": "934d09bb-29a1-4c42-98a1-e134fb1d965d",
   "metadata": {},
   "source": [
    "Extra Challenge: Reversed List\n",
    "str1 = 'leArning is hard, bUt if You appLy youRself ' \\\n",
    "'you can achieVe success'\n",
    "You are given a string of words. Some of the words in the string contain uppercase letters. Write a code that will return all the words that have an uppercase letter. Your code should return a\n",
    "list of the words. Each word in the list should be reversed. Here is how your output should look:\n",
    "['gninrAel', 'tUb', 'uoY', 'yLppa', 'flesRuoy', 'eVeihca']"
   ]
  },
  {
   "cell_type": "code",
   "execution_count": 26,
   "id": "a9aa34c6-3290-45e0-8c72-fa0e1ffc2e20",
   "metadata": {},
   "outputs": [],
   "source": [
    "def reversed_list_uppercase_letters(string):\n",
    "    string_list = list(string.split(' '))\n",
    "    reversed_words_list = []\n",
    "    for i in range(len(string_list)):\n",
    "        if string_list[i].islower() is False:\n",
    "            reversed_words_list.append(string_list[i][::-1])\n",
    "            i+=1\n",
    "    return reversed_words_list"
   ]
  },
  {
   "cell_type": "code",
   "execution_count": 27,
   "id": "384e16a9-3aa9-4a44-b1f6-8661401d42b4",
   "metadata": {},
   "outputs": [],
   "source": [
    "str1 = 'leArning is hard, bUt if You appLy youRself ' \\\n",
    "'you can achieVe success'"
   ]
  },
  {
   "cell_type": "code",
   "execution_count": 28,
   "id": "b0dcc46e-aea8-419d-9bf4-a00b80693e91",
   "metadata": {},
   "outputs": [
    {
     "data": {
      "text/plain": [
       "['gninrAel', 'tUb', 'uoY', 'yLppa', 'flesRuoy', 'eVeihca']"
      ]
     },
     "execution_count": 28,
     "metadata": {},
     "output_type": "execute_result"
    }
   ],
   "source": [
    "reversed_list_uppercase_letters(str1)"
   ]
  },
  {
   "cell_type": "code",
   "execution_count": null,
   "id": "5c3bb8d3-26c3-4ad0-b0e9-e379cb75a985",
   "metadata": {},
   "outputs": [],
   "source": []
  },
  {
   "cell_type": "code",
   "execution_count": 43,
   "id": "8e3d0ec4-2af1-4298-9bd1-fb3f7a0b689d",
   "metadata": {},
   "outputs": [],
   "source": [
    "import string"
   ]
  },
  {
   "cell_type": "code",
   "execution_count": 48,
   "id": "67d20c0b-4d2e-4a82-96d8-e7872d711069",
   "metadata": {},
   "outputs": [
    {
     "data": {
      "text/plain": [
       "['gninrAel', 'tUb', 'uoY', 'yLppa', 'flesRuoy', 'eVeihca']"
      ]
     },
     "execution_count": 48,
     "metadata": {},
     "output_type": "execute_result"
    }
   ],
   "source": [
    "str1 = 'leArning is hard, bUt if You appLy youRself ' \\\n",
    "'you can achieVe success'\n",
    "upper_names = []\n",
    "for word in str1.split():\n",
    "    for letter in word:\n",
    "        # Using string module to find uppercase letters\n",
    "        if letter in string.ascii_uppercase:\n",
    "            upper_names.append(\"\".join(word[::-1]))\n",
    "upper_names"
   ]
  },
  {
   "cell_type": "code",
   "execution_count": null,
   "id": "39ef5ad1-1bea-4906-af2c-058327ae6ac8",
   "metadata": {},
   "outputs": [],
   "source": []
  }
 ],
 "metadata": {
  "kernelspec": {
   "display_name": "curs_python_env",
   "language": "python",
   "name": "curs_python_env"
  },
  "language_info": {
   "codemirror_mode": {
    "name": "ipython",
    "version": 3
   },
   "file_extension": ".py",
   "mimetype": "text/x-python",
   "name": "python",
   "nbconvert_exporter": "python",
   "pygments_lexer": "ipython3",
   "version": "3.10.5"
  }
 },
 "nbformat": 4,
 "nbformat_minor": 5
}
