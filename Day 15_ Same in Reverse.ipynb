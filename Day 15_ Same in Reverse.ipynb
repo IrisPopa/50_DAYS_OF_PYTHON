{
 "cells": [
  {
   "cell_type": "markdown",
   "id": "5cc4c8d6-04be-4c2f-8cb7-996fa41404e4",
   "metadata": {},
   "source": [
    "Day 15: Same in Reverse\n",
    "Write a function called same_in_reverse that takes a string and checks if the string reads the same in reverse. If it is the\n",
    "same, the code should return True if not, it should return False.\n",
    "For example, ‘dad’ should return True, because it reads the same in reverse."
   ]
  },
  {
   "cell_type": "code",
   "execution_count": 15,
   "id": "b5f3eaaf-0290-4ae2-b7a9-b62fa8e72444",
   "metadata": {},
   "outputs": [],
   "source": [
    "def same_in_reverse1(word):\n",
    "    if word == ''.join(reversed(list(word))):\n",
    "        return True\n",
    "    else:\n",
    "        return False"
   ]
  },
  {
   "cell_type": "code",
   "execution_count": 16,
   "id": "62b81dd9-b4a3-487b-a963-23d1511a46d0",
   "metadata": {},
   "outputs": [
    {
     "data": {
      "text/plain": [
       "True"
      ]
     },
     "execution_count": 16,
     "metadata": {},
     "output_type": "execute_result"
    }
   ],
   "source": [
    "same_in_reverse1('kayak')"
   ]
  },
  {
   "cell_type": "code",
   "execution_count": 17,
   "id": "3c45df28-7012-4615-b921-f3af4aa7be48",
   "metadata": {},
   "outputs": [
    {
     "data": {
      "text/plain": [
       "False"
      ]
     },
     "execution_count": 17,
     "metadata": {},
     "output_type": "execute_result"
    }
   ],
   "source": [
    "same_in_reverse1('hello')"
   ]
  },
  {
   "cell_type": "code",
   "execution_count": 18,
   "id": "e99fd39a-c748-4829-9c08-df214f32bd70",
   "metadata": {},
   "outputs": [],
   "source": [
    "def same_in_reverse2(a):\n",
    "    if a == a[::-1]:\n",
    "        return True\n",
    "    else:\n",
    "        return False"
   ]
  },
  {
   "cell_type": "code",
   "execution_count": 19,
   "id": "d7f637da-6cd0-400a-91bf-da4e8b307300",
   "metadata": {},
   "outputs": [
    {
     "data": {
      "text/plain": [
       "False"
      ]
     },
     "execution_count": 19,
     "metadata": {},
     "output_type": "execute_result"
    }
   ],
   "source": [
    "same_in_reverse2('hello')"
   ]
  },
  {
   "cell_type": "code",
   "execution_count": 20,
   "id": "807dc784-5e4f-454c-840a-b4f96112854d",
   "metadata": {},
   "outputs": [
    {
     "data": {
      "text/plain": [
       "True"
      ]
     },
     "execution_count": 20,
     "metadata": {},
     "output_type": "execute_result"
    }
   ],
   "source": [
    "same_in_reverse2('kayak')"
   ]
  },
  {
   "cell_type": "code",
   "execution_count": null,
   "id": "2066d61b-04af-4380-a57c-029717152061",
   "metadata": {},
   "outputs": [],
   "source": []
  },
  {
   "cell_type": "code",
   "execution_count": null,
   "id": "b4af477a-65f2-44e8-8671-e42599366522",
   "metadata": {},
   "outputs": [],
   "source": []
  },
  {
   "cell_type": "code",
   "execution_count": null,
   "id": "a9aa34c6-3290-45e0-8c72-fa0e1ffc2e20",
   "metadata": {},
   "outputs": [],
   "source": [
    "Extra Challenge: What’s My Age?\n",
    "Write a function called your_age. This function asks a student to enter their name and then it returns their age. For example,\n",
    "if a user enters Peter as their name, your function should return, ‘Hi, Peter, you are 27 years old. This function reads data\n",
    "from the database (dictionary below). If the name is not in the dictionary, your code should tell the user that their name \n",
    "is not in the dictionary, and ask them for their age. Your code should then add the name and age to the dictionary of names_age\n",
    "below. Once added your code should return to the user ‘Hi, (added name), you are (added age) years old’. \n",
    "Remember to convert the input from user to lowercase letters\n",
    "names_age = {\"jane\": 23, \"kerry\": 45, \"tim\": 34, “peter\": 27}"
   ]
  },
  {
   "cell_type": "code",
   "execution_count": 75,
   "id": "b283d6f0-2ac8-45ff-9a2a-f62e34dfa208",
   "metadata": {},
   "outputs": [],
   "source": [
    "names_age = {'jane': 23, 'kerry': 45, 'tim': 34, 'peter': 27}"
   ]
  },
  {
   "cell_type": "code",
   "execution_count": 24,
   "id": "b0dcc46e-aea8-419d-9bf4-a00b80693e91",
   "metadata": {},
   "outputs": [],
   "source": [
    "def your_age1():\n",
    "    names_age = {'jane': 23, 'kerry': 45, 'tim': 34, 'peter': 27}\n",
    "    name = input('Enter your name:').lower()\n",
    "    if name not in names_age.keys():\n",
    "            print('Your name is not in the database')\n",
    "            age  = input('Please enter your age:')\n",
    "            names_age[name] = age\n",
    "            return f'Hi, {name}, you are {names_age[name]} years old'\n",
    "    elif name in names_age.keys():\n",
    "            return f'Hi, {name}, you are {names_age[name]} years old'"
   ]
  },
  {
   "cell_type": "code",
   "execution_count": 25,
   "id": "766a4283-ea91-461d-b572-11d98a382c9a",
   "metadata": {},
   "outputs": [
    {
     "name": "stdin",
     "output_type": "stream",
     "text": [
      "Enter your name: TOM\n"
     ]
    },
    {
     "name": "stdout",
     "output_type": "stream",
     "text": [
      "Your name is not in the database\n"
     ]
    },
    {
     "name": "stdin",
     "output_type": "stream",
     "text": [
      "Please enter your age: 45\n"
     ]
    },
    {
     "data": {
      "text/plain": [
       "'Hi, tom, you are 45 years old'"
      ]
     },
     "execution_count": 25,
     "metadata": {},
     "output_type": "execute_result"
    }
   ],
   "source": [
    "your_age1()"
   ]
  },
  {
   "cell_type": "code",
   "execution_count": 26,
   "id": "916e5a9c-3dd7-4799-a152-e7ab6dd351fc",
   "metadata": {},
   "outputs": [
    {
     "name": "stdin",
     "output_type": "stream",
     "text": [
      "Enter your name: tIM\n"
     ]
    },
    {
     "data": {
      "text/plain": [
       "'Hi, tim, you are 34 years old'"
      ]
     },
     "execution_count": 26,
     "metadata": {},
     "output_type": "execute_result"
    }
   ],
   "source": [
    "your_age1()"
   ]
  },
  {
   "cell_type": "code",
   "execution_count": null,
   "id": "9925fd66-f08d-474d-bc0b-a4f48cb90801",
   "metadata": {},
   "outputs": [],
   "source": []
  },
  {
   "cell_type": "code",
   "execution_count": 29,
   "id": "8198602a-2fac-43c8-bebb-a00799025e87",
   "metadata": {},
   "outputs": [],
   "source": [
    "def your_age2():\n",
    "    names_age = {'jane': 23, 'kerry': 45, 'tim': 34, 'peter': 27}\n",
    "    # Convert name to lowercase letters\n",
    "    name = input(\"Please enter your name: \").lower()\n",
    "    # Use for loop to iterate over the dictionary\n",
    "    for key in names_age.keys():\n",
    "        if key == name:\n",
    "            # use the get method to access a specific value.\n",
    "            return f'Hi, {name}! You are {names_age.get(key)} years old'\n",
    "        else:\n",
    "            # if name not in the dictionary\n",
    "            while name not in names_age.keys():\n",
    "                age = input(\"Your name is not in the dictionary, please enter your age! \").lower()\n",
    "                # Update the dictionary with name and age.\n",
    "                names_age.update({name: age})\n",
    "                return f'Hi, {name}! You are {names_age.get(name)} years old'"
   ]
  },
  {
   "cell_type": "code",
   "execution_count": 30,
   "id": "f831608b-9bb2-4376-be63-d517acdd2050",
   "metadata": {},
   "outputs": [
    {
     "name": "stdin",
     "output_type": "stream",
     "text": [
      "Please enter your name:  Tim\n"
     ]
    },
    {
     "data": {
      "text/plain": [
       "'Hi, tim! You are 34 years old'"
      ]
     },
     "execution_count": 30,
     "metadata": {},
     "output_type": "execute_result"
    }
   ],
   "source": [
    "your_age2()"
   ]
  },
  {
   "cell_type": "code",
   "execution_count": 31,
   "id": "5c3bb8d3-26c3-4ad0-b0e9-e379cb75a985",
   "metadata": {},
   "outputs": [
    {
     "name": "stdin",
     "output_type": "stream",
     "text": [
      "Please enter your name:  maRY\n",
      "Your name is not in the dictionary, please enter your age!  56\n"
     ]
    },
    {
     "data": {
      "text/plain": [
       "'Hi, mary! You are 56 years old'"
      ]
     },
     "execution_count": 31,
     "metadata": {},
     "output_type": "execute_result"
    }
   ],
   "source": [
    "your_age2()"
   ]
  },
  {
   "cell_type": "code",
   "execution_count": null,
   "id": "c4f759d6-e543-4670-9336-80ecc48e95b1",
   "metadata": {},
   "outputs": [],
   "source": []
  }
 ],
 "metadata": {
  "kernelspec": {
   "display_name": "curs_python_env",
   "language": "python",
   "name": "curs_python_env"
  },
  "language_info": {
   "codemirror_mode": {
    "name": "ipython",
    "version": 3
   },
   "file_extension": ".py",
   "mimetype": "text/x-python",
   "name": "python",
   "nbconvert_exporter": "python",
   "pygments_lexer": "ipython3",
   "version": "3.10.5"
  }
 },
 "nbformat": 4,
 "nbformat_minor": 5
}
