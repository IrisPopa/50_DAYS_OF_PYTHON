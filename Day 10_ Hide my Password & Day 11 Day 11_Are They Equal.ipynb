{
 "cells": [
  {
   "cell_type": "markdown",
   "id": "54c0c820-27bc-4d61-874a-39b0a3b31aa4",
   "metadata": {},
   "source": [
    "Day 10: Hide my Password\n",
    "Write a function called hide_password that takes no parameters. The function takes an input (a password) from a\n",
    "user and returns a hidden password. For example, if the user enters ‘hello’ as a password the function should return ‘****’ as\n",
    "a password and tell the user that the password is 4 characters long."
   ]
  },
  {
   "cell_type": "code",
   "execution_count": 23,
   "id": "6aa6bcc5-a95c-43e6-a175-79d0b8d9de19",
   "metadata": {},
   "outputs": [],
   "source": [
    "def hide_password():\n",
    "    password = input('Enter your password:')\n",
    "    list_password  = list(password)\n",
    "    for i in range (0, len(list_password)):\n",
    "        list_password[i] ='*'\n",
    "        new_password = ''.join(list_password)\n",
    "        no_characters =len(new_password)\n",
    "    return f'Your password is {new_password} and it has {no_characters} characters long'"
   ]
  },
  {
   "cell_type": "code",
   "execution_count": 24,
   "id": "b5f3eaaf-0290-4ae2-b7a9-b62fa8e72444",
   "metadata": {},
   "outputs": [
    {
     "name": "stdin",
     "output_type": "stream",
     "text": [
      "Enter your password: Mihaelapopa\n"
     ]
    },
    {
     "data": {
      "text/plain": [
       "'Your password is *********** and it has 11 characters long'"
      ]
     },
     "execution_count": 24,
     "metadata": {},
     "output_type": "execute_result"
    }
   ],
   "source": [
    " hide_password()"
   ]
  },
  {
   "cell_type": "code",
   "execution_count": 9,
   "id": "d061d8ff-2a3b-4204-9d17-bef029303cb8",
   "metadata": {},
   "outputs": [
    {
     "data": {
      "text/plain": [
       "'********'"
      ]
     },
     "execution_count": 9,
     "metadata": {},
     "output_type": "execute_result"
    }
   ],
   "source": [
    "a = 'password'\n",
    "b = len(a) * '*'\n",
    "b"
   ]
  },
  {
   "cell_type": "code",
   "execution_count": 11,
   "id": "65c47c41-f521-472b-b6d3-cee5ced89647",
   "metadata": {},
   "outputs": [
    {
     "data": {
      "text/plain": [
       "'p*****d'"
      ]
     },
     "execution_count": 11,
     "metadata": {},
     "output_type": "execute_result"
    }
   ],
   "source": [
    "d = (a[0], len(a[1:-2]) * '*', a[-1])\n",
    "c = ''.join(d)\n",
    "c"
   ]
  },
  {
   "cell_type": "markdown",
   "id": "c1889833-6f3f-4d2f-a6b2-91d426ad7747",
   "metadata": {},
   "source": [
    "Extra Challenge: A Thousand Separator\n",
    "Your new company has a list of figures saved in a list. The issue is that these numbers have no separator. The numbers are\n",
    "saved in the following format:\n",
    "[1000000, 2356989, 2354672, 9878098].\n",
    "You have been asked to write a code that will convert each of the numbers in the list into a string. Your code should then add a\n",
    "comma on each number as a thousand separator for readability. When you run your code on the above list, your output should be:\n",
    "[ '1,000,000', '2,356,989', '2,354,672', '9,878,098’]\n",
    "Write a function called convert_numbers that will take one argument, a list of numbers above"
   ]
  },
  {
   "cell_type": "code",
   "execution_count": 139,
   "id": "b0dcc46e-aea8-419d-9bf4-a00b80693e91",
   "metadata": {},
   "outputs": [],
   "source": [
    "def convert_numbers1(numbers_list):\n",
    "    new_number_list =[]\n",
    "    for number in numbers_list:\n",
    "        new_number_list.append('{:,}'.format(number))\n",
    "    return new_number_list"
   ]
  },
  {
   "cell_type": "code",
   "execution_count": 4,
   "id": "766a4283-ea91-461d-b572-11d98a382c9a",
   "metadata": {},
   "outputs": [],
   "source": [
    "a = [1000000, 2356989, 2354672, 9878098]"
   ]
  },
  {
   "cell_type": "code",
   "execution_count": 140,
   "id": "1af60f70-3972-44de-b999-dc10ee5708f3",
   "metadata": {},
   "outputs": [
    {
     "data": {
      "text/plain": [
       "['1,000,000', '2,356,989', '2,354,672', '9,878,098']"
      ]
     },
     "execution_count": 140,
     "metadata": {},
     "output_type": "execute_result"
    }
   ],
   "source": [
    "convert_numbers1(a)"
   ]
  },
  {
   "cell_type": "code",
   "execution_count": 114,
   "id": "1a6e2ddf-400a-46cf-842b-a9ec140ba394",
   "metadata": {},
   "outputs": [
    {
     "data": {
      "text/plain": [
       "int"
      ]
     },
     "execution_count": 114,
     "metadata": {},
     "output_type": "execute_result"
    }
   ],
   "source": [
    "a = [1000000, 2356989, 2354672, 9878098]\n",
    "type(a[1])"
   ]
  },
  {
   "cell_type": "code",
   "execution_count": null,
   "id": "34fccae6-6584-4ff8-9471-611b9b95ce42",
   "metadata": {},
   "outputs": [],
   "source": []
  },
  {
   "cell_type": "code",
   "execution_count": 49,
   "id": "9d94f336-f540-41ba-9597-570cf06670c0",
   "metadata": {},
   "outputs": [],
   "source": [
    "def convert_numbers2(numbers_list):\n",
    "    str_number_list = []\n",
    "    convert_numbers_list = []\n",
    "    for i in range (0, len(numbers_list)):\n",
    "        if i < len(numbers_list):\n",
    "            str_number_list.append(list(str(numbers_list[i])))\n",
    "            for j in range (-len(str_number_list[i]),0):\n",
    "                if j %3 == 0:\n",
    "                    str_number_list[i].insert(j,',')\n",
    "            convert_numbers_list.append(''.join(str_number_list[i]))\n",
    "    return convert_numbers_list"
   ]
  },
  {
   "cell_type": "code",
   "execution_count": 50,
   "id": "7c2d245b-8683-4cf0-8df1-7821e6a05d85",
   "metadata": {},
   "outputs": [
    {
     "data": {
      "text/plain": [
       "['1,000,000', '2,356,989', '2,354,672', '9,878,098']"
      ]
     },
     "execution_count": 50,
     "metadata": {},
     "output_type": "execute_result"
    }
   ],
   "source": [
    "convert_numbers2(a)"
   ]
  },
  {
   "cell_type": "code",
   "execution_count": 225,
   "id": "916e5a9c-3dd7-4799-a152-e7ab6dd351fc",
   "metadata": {},
   "outputs": [
    {
     "name": "stdout",
     "output_type": "stream",
     "text": [
      "['1000000', '2356989', '2354672', '9878098']\n"
     ]
    }
   ],
   "source": [
    "b =[]\n",
    "for i in range (0, len(a)):\n",
    "    if i < len(a):\n",
    "        b.append(str(a[i]))\n",
    "        i += 1\n",
    "print(b)"
   ]
  },
  {
   "cell_type": "code",
   "execution_count": 123,
   "id": "8198602a-2fac-43c8-bebb-a00799025e87",
   "metadata": {},
   "outputs": [
    {
     "name": "stdout",
     "output_type": "stream",
     "text": [
      "[['1', '0', '0', '0', '0', '0', '0'], ['2', '3', '5', '6', '9', '8', '9'], ['2', '3', '5', '4', '6', '7', '2'], ['9', '8', '7', '8', '0', '9', '8']]\n"
     ]
    }
   ],
   "source": [
    "c =[]\n",
    "for i in range (0, len(a)):\n",
    "    if i < len(a):\n",
    "       c.append(list(str(a[i])))\n",
    "print(c)"
   ]
  },
  {
   "cell_type": "code",
   "execution_count": 61,
   "id": "f831608b-9bb2-4376-be63-d517acdd2050",
   "metadata": {},
   "outputs": [
    {
     "data": {
      "text/plain": [
       "['1', '0', '0', '0', '0', '0', '0', '0']"
      ]
     },
     "execution_count": 61,
     "metadata": {},
     "output_type": "execute_result"
    }
   ],
   "source": [
    "z =list(str(10000000))\n",
    "z"
   ]
  },
  {
   "cell_type": "code",
   "execution_count": 113,
   "id": "75ae4659-e70a-4de5-8323-b38e61d7d58f",
   "metadata": {},
   "outputs": [
    {
     "data": {
      "text/plain": [
       "'1,000,000'"
      ]
     },
     "execution_count": 113,
     "metadata": {},
     "output_type": "execute_result"
    }
   ],
   "source": [
    "x = 1000000\n",
    "y = '{:,}'.format(1000000)\n",
    "y"
   ]
  },
  {
   "cell_type": "code",
   "execution_count": 109,
   "id": "70c4e693-acea-4706-822f-4a0abfff6e84",
   "metadata": {},
   "outputs": [
    {
     "data": {
      "text/plain": [
       "str"
      ]
     },
     "execution_count": 109,
     "metadata": {},
     "output_type": "execute_result"
    }
   ],
   "source": [
    "type(y)"
   ]
  },
  {
   "cell_type": "code",
   "execution_count": 133,
   "id": "63784345-bc6f-4e31-81bc-9531056ce7d3",
   "metadata": {},
   "outputs": [
    {
     "data": {
      "text/plain": [
       "['2', '3', '5', '6', ',', '9', '8', '9']"
      ]
     },
     "execution_count": 133,
     "metadata": {},
     "output_type": "execute_result"
    }
   ],
   "source": [
    "w =['2', '3', '5', '6', '9', '8', '9']\n",
    "w.insert(-3,',')\n",
    "w"
   ]
  },
  {
   "cell_type": "code",
   "execution_count": 135,
   "id": "a7374e57-d5ff-4ce7-9f64-602a76f2ede9",
   "metadata": {},
   "outputs": [
    {
     "data": {
      "text/plain": [
       "['9', '3']"
      ]
     },
     "execution_count": 135,
     "metadata": {},
     "output_type": "execute_result"
    }
   ],
   "source": [
    "w =['2', '3', '5', '6', '9', '8', '9']\n",
    "w[-3:0:-3]"
   ]
  },
  {
   "cell_type": "code",
   "execution_count": 28,
   "id": "74191c1f-b3be-4eb5-973b-4714350eb10b",
   "metadata": {},
   "outputs": [
    {
     "name": "stdout",
     "output_type": "stream",
     "text": [
      "2,356,989\n"
     ]
    }
   ],
   "source": [
    "w =['2', '3', '5', '6', '9', '8', '9']\n",
    "for i in range (-len(w),0):\n",
    "    if i %3 ==0:\n",
    "       w.insert(i,',')\n",
    "print(''.join(w))"
   ]
  },
  {
   "cell_type": "code",
   "execution_count": 200,
   "id": "d53ce14d-b727-4d42-953b-7b327d3dd5aa",
   "metadata": {},
   "outputs": [
    {
     "data": {
      "text/plain": [
       "'2,356,989'"
      ]
     },
     "execution_count": 200,
     "metadata": {},
     "output_type": "execute_result"
    }
   ],
   "source": [
    "''.join(['2', ',', '3', '5', '6', ',', '9', '8', '9'])"
   ]
  },
  {
   "cell_type": "code",
   "execution_count": null,
   "id": "36e717d3-7e13-4e40-a56c-c41246376951",
   "metadata": {},
   "outputs": [],
   "source": []
  },
  {
   "cell_type": "code",
   "execution_count": null,
   "id": "528b893d-5e86-4279-993b-96784528a0d1",
   "metadata": {},
   "outputs": [],
   "source": []
  },
  {
   "cell_type": "markdown",
   "id": "fb081d83-6268-44c5-a0dc-64a6ecb54790",
   "metadata": {},
   "source": [
    "Day 11: Are They Equal?\n",
    "Write a function called equal_strings. The function takes two strings as arguments and compares them. If the strings are equal (if they have the same characters and have equal length), it should return True, if they are not, it should return False. For example, ‘love’ and ‘evol’ should return True"
   ]
  },
  {
   "cell_type": "code",
   "execution_count": 12,
   "id": "9ac5a8cb-31e3-4b90-862f-832556688310",
   "metadata": {},
   "outputs": [],
   "source": [
    "def equal_strings(string1, string2):\n",
    "    string1_list = sorted(list(string1))\n",
    "    string2_list = sorted(list(string2))\n",
    "    if len(string1) == len(string2) and string1_list == string2_list:\n",
    "        return True\n",
    "    else:\n",
    "        return False"
   ]
  },
  {
   "cell_type": "code",
   "execution_count": 18,
   "id": "c8f930f1-002f-4c74-94a9-eee07eee9b2a",
   "metadata": {},
   "outputs": [
    {
     "data": {
      "text/plain": [
       "False"
      ]
     },
     "execution_count": 18,
     "metadata": {},
     "output_type": "execute_result"
    }
   ],
   "source": [
    "equal_strings('acoperit', 'ipotetic')"
   ]
  },
  {
   "cell_type": "code",
   "execution_count": 19,
   "id": "4c97d4e9-13c8-42ba-8e2a-b6019487fe3c",
   "metadata": {},
   "outputs": [
    {
     "data": {
      "text/plain": [
       "True"
      ]
     },
     "execution_count": 19,
     "metadata": {},
     "output_type": "execute_result"
    }
   ],
   "source": [
    "equal_strings('acoperit', 'ipotecar')"
   ]
  },
  {
   "cell_type": "code",
   "execution_count": null,
   "id": "a093566b-85a4-4d83-9e43-3a74e9af041c",
   "metadata": {},
   "outputs": [],
   "source": []
  },
  {
   "cell_type": "markdown",
   "id": "9619d109-d82d-4d1c-b56b-eb641d3812e1",
   "metadata": {},
   "source": [
    "Extra Challenge: Swap Values\n",
    "Write a function called swap_values. This function takes a list of numbers and swaps the first element with the last element. For example, if you pass [2, 4,67, 7] as a parameter, your function should return [7, 4, 67, 2]."
   ]
  },
  {
   "cell_type": "code",
   "execution_count": 16,
   "id": "9ed6bb72-b940-4c72-ae4b-eac2afd5a529",
   "metadata": {},
   "outputs": [],
   "source": [
    "def swap_values(number_list):\n",
    "    first_number = number_list[0]\n",
    "    last_number = number_list[-1]\n",
    "    number_list[0] =  last_number \n",
    "    number_list[-1] = first_number\n",
    "    return number_list"
   ]
  },
  {
   "cell_type": "code",
   "execution_count": 21,
   "id": "c356dd7f-b15b-47d1-a254-af110f46a93b",
   "metadata": {},
   "outputs": [],
   "source": [
    "a =[8, 4, 67, 58, 10]"
   ]
  },
  {
   "cell_type": "code",
   "execution_count": 22,
   "id": "e70ea28a-a4c0-4fb4-a655-0d7e450eae2d",
   "metadata": {},
   "outputs": [
    {
     "data": {
      "text/plain": [
       "[10, 4, 67, 58, 8]"
      ]
     },
     "execution_count": 22,
     "metadata": {},
     "output_type": "execute_result"
    }
   ],
   "source": [
    "swap_values(a)"
   ]
  },
  {
   "cell_type": "code",
   "execution_count": null,
   "id": "204713be-580a-4297-8d48-aa3e6de160c9",
   "metadata": {},
   "outputs": [],
   "source": []
  }
 ],
 "metadata": {
  "kernelspec": {
   "display_name": "curs_python_env",
   "language": "python",
   "name": "curs_python_env"
  },
  "language_info": {
   "codemirror_mode": {
    "name": "ipython",
    "version": 3
   },
   "file_extension": ".py",
   "mimetype": "text/x-python",
   "name": "python",
   "nbconvert_exporter": "python",
   "pygments_lexer": "ipython3",
   "version": "3.10.5"
  }
 },
 "nbformat": 4,
 "nbformat_minor": 5
}
