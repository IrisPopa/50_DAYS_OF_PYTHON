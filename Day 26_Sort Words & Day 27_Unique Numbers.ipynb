{
 "cells": [
  {
   "cell_type": "markdown",
   "id": "1331d09c-bc44-4a44-8fdd-2f3c0f29c9f0",
   "metadata": {},
   "source": [
    "**Day 26: Sort Words\n",
    "Write a function called sort_words that takes a string of words as an argument, removes the whitespaces, and returns a list of\n",
    "letters sorted in alphabetical order. Letters will be separated by commas. All letters should appear once in the list. This means\n",
    "that you sort and remove duplicates. For example ‘love life’ should return as ['e,f,i,l,o,v']."
   ]
  },
  {
   "cell_type": "code",
   "execution_count": 66,
   "id": "62b81dd9-b4a3-487b-a963-23d1511a46d0",
   "metadata": {},
   "outputs": [],
   "source": [
    "def sort_words(arg: str):\n",
    "    arg_set = set(arg)\n",
    "    arg_set.remove(' ')\n",
    "    arg_list= list(arg_set)\n",
    "    arg_list.sort()\n",
    "    return [','.join(arg_list)]"
   ]
  },
  {
   "cell_type": "code",
   "execution_count": 39,
   "id": "3c45df28-7012-4615-b921-f3af4aa7be48",
   "metadata": {},
   "outputs": [],
   "source": [
    "str1 = 'love life'"
   ]
  },
  {
   "cell_type": "code",
   "execution_count": 40,
   "id": "4becff0c-05f7-4ef5-8fba-d94ccf01d0ff",
   "metadata": {},
   "outputs": [],
   "source": [
    "str2 ='alphabetical order'"
   ]
  },
  {
   "cell_type": "code",
   "execution_count": 67,
   "id": "d2aa99e0-a376-4b5b-ae97-b3cd0af3b7f9",
   "metadata": {},
   "outputs": [
    {
     "data": {
      "text/plain": [
       "['e,f,i,l,o,v']"
      ]
     },
     "execution_count": 67,
     "metadata": {},
     "output_type": "execute_result"
    }
   ],
   "source": [
    "sort_words(str1)"
   ]
  },
  {
   "cell_type": "code",
   "execution_count": 68,
   "id": "ccf47e7c-2670-4fd7-bf42-9c3a0f4464d3",
   "metadata": {},
   "outputs": [
    {
     "data": {
      "text/plain": [
       "['a,b,c,d,e,h,i,l,o,p,r,t']"
      ]
     },
     "execution_count": 68,
     "metadata": {},
     "output_type": "execute_result"
    }
   ],
   "source": [
    "sort_words(str2)"
   ]
  },
  {
   "cell_type": "code",
   "execution_count": null,
   "id": "b0dcc46e-aea8-419d-9bf4-a00b80693e91",
   "metadata": {},
   "outputs": [],
   "source": []
  },
  {
   "cell_type": "code",
   "execution_count": 63,
   "id": "0c11ccce-85eb-49de-8484-90faf2061456",
   "metadata": {},
   "outputs": [],
   "source": [
    "def sort_words1(sentence):\n",
    "    list1 = []\n",
    "    sentence = sentence.replace(' ', '')\n",
    "    for i in sentence:\n",
    "        if i not in list1:\n",
    "            list1.append(i)\n",
    "    list1.sort()\n",
    "    sorted_words = [','.join(list1)]\n",
    "    return sorted_words"
   ]
  },
  {
   "cell_type": "code",
   "execution_count": 69,
   "id": "86e0ea35-f4b3-4b2c-967d-cd1c17d30815",
   "metadata": {},
   "outputs": [
    {
     "data": {
      "text/plain": [
       "['a,b,c,d,e,h,i,l,o,p,r,t']"
      ]
     },
     "execution_count": 69,
     "metadata": {},
     "output_type": "execute_result"
    }
   ],
   "source": [
    "sort_words1(str2)"
   ]
  },
  {
   "cell_type": "code",
   "execution_count": null,
   "id": "9d31c00e-4323-4784-b7c7-ff9591467473",
   "metadata": {},
   "outputs": [],
   "source": []
  },
  {
   "cell_type": "markdown",
   "id": "885b2711-f073-420e-b9b2-4607262c8da8",
   "metadata": {},
   "source": [
    "Extra Challenge: Length of Words\n",
    "s = 'Hi my name is Richard'\n",
    "Write a function called string_length that takes a string of words (words and spaces) as argument. This function should\n",
    "return the length of all the words in the string. Return the results in a form of a dictionary. The string above should return:\n",
    "{'Hi': 2, 'my': 2, 'name': 4, 'is': 2, 'Richard': 7}"
   ]
  },
  {
   "cell_type": "code",
   "execution_count": 11,
   "id": "916e5a9c-3dd7-4799-a152-e7ab6dd351fc",
   "metadata": {},
   "outputs": [],
   "source": [
    "def string_length(string):\n",
    "    string_dic ={}\n",
    "    for word in string.split():\n",
    "         string_dic.update({word:len(word)})\n",
    "    return string_dic"
   ]
  },
  {
   "cell_type": "code",
   "execution_count": null,
   "id": "950b56dd-cff3-4c44-884c-d4b688d4f360",
   "metadata": {},
   "outputs": [],
   "source": [
    "a = 'Hi my name is Richard' "
   ]
  },
  {
   "cell_type": "code",
   "execution_count": 10,
   "id": "b1f3c9ee-11fa-4030-accb-e0fbe0e1b740",
   "metadata": {},
   "outputs": [
    {
     "data": {
      "text/plain": [
       "{'Hi': 2, 'my': 2, 'name': 4, 'is': 2, 'Richard': 7}"
      ]
     },
     "execution_count": 10,
     "metadata": {},
     "output_type": "execute_result"
    }
   ],
   "source": [
    "string_length(a)"
   ]
  },
  {
   "cell_type": "code",
   "execution_count": 12,
   "id": "9925fd66-f08d-474d-bc0b-a4f48cb90801",
   "metadata": {},
   "outputs": [],
   "source": [
    "b = 'Return the results in a form of a dictionary'"
   ]
  },
  {
   "cell_type": "code",
   "execution_count": 13,
   "id": "2f28a534-652e-4fb4-8cc1-549208275b98",
   "metadata": {},
   "outputs": [
    {
     "data": {
      "text/plain": [
       "{'Return': 6,\n",
       " 'the': 3,\n",
       " 'results': 7,\n",
       " 'in': 2,\n",
       " 'a': 1,\n",
       " 'form': 4,\n",
       " 'of': 2,\n",
       " 'dictionary': 10}"
      ]
     },
     "execution_count": 13,
     "metadata": {},
     "output_type": "execute_result"
    }
   ],
   "source": [
    "string_length(b)"
   ]
  },
  {
   "cell_type": "code",
   "execution_count": null,
   "id": "92fcc74d-eb00-4786-a902-912198cc0d0d",
   "metadata": {},
   "outputs": [],
   "source": []
  },
  {
   "cell_type": "markdown",
   "id": "bf6f517b-132f-4a33-827a-1a4f109df408",
   "metadata": {},
   "source": [
    "Day 27: Unique Numbers\n",
    "Write a function called unique_numbers that takes a list of numbers as an argument. Your function is going to find all the\n",
    "unique numbers in the list. It will then sum up the unique numbers. You will calculate the difference between the sum of\n",
    "all the numbers in the original list and the sum of unique numbers in the list. If the difference is an even number, your\n",
    "function should return the original list. If the difference is an odd number, your function should return a list with unique\n",
    "numbers only. For example [1, 2, 4, 5, 6, 7, 8, 8] should return [1, 2, 4, 5, 6, 7, 8, 8]."
   ]
  },
  {
   "cell_type": "code",
   "execution_count": 68,
   "id": "5bdc703e-49b5-4f0f-89b4-18b2511bfc01",
   "metadata": {},
   "outputs": [],
   "source": [
    "def unique_numbers(numbers_list):\n",
    "    unique_numbers_list = []\n",
    "    for x in numbers_list:\n",
    "        if numbers_list.count(x) == 1:\n",
    "            unique_numbers_list.append(x)\n",
    "    if (sum(numbers_list) - sum(unique_numbers_list)) % 2 != 0:\n",
    "        return unique_numbers_list \n",
    "    else:\n",
    "        return numbers_list"
   ]
  },
  {
   "cell_type": "code",
   "execution_count": 16,
   "id": "71bf7fca-ad7d-43eb-b71b-2a8ef4121343",
   "metadata": {},
   "outputs": [],
   "source": [
    "x = [1, 2, 4, 5, 6, 7, 8, 8] "
   ]
  },
  {
   "cell_type": "code",
   "execution_count": 48,
   "id": "0515a531-885c-4a5a-931f-eb4ec616d9c5",
   "metadata": {},
   "outputs": [
    {
     "data": {
      "text/plain": [
       "[1, 2, 4, 5, 6, 7]"
      ]
     },
     "execution_count": 58,
     "metadata": {},
     "output_type": "execute_result"
    }
   ],
   "source": [
    "unique_numbers(x)"
   ]
  },
  {
   "cell_type": "code",
   "execution_count": 66,
   "id": "4df436d7-dd49-4113-a72f-d377e32906be",
   "metadata": {},
   "outputs": [],
   "source": [
    "y = [4, 6, 4, 6, 2, 3]"
   ]
  },
  {
   "cell_type": "code",
   "execution_count": 67,
   "id": "296e82cd-3ab7-45ca-abc4-681c14e7c5ac",
   "metadata": {},
   "outputs": [
    {
     "data": {
      "text/plain": [
       "[2, 3]"
      ]
     },
     "execution_count": 67,
     "metadata": {},
     "output_type": "execute_result"
    }
   ],
   "source": [
    "unique_numbers(y)"
   ]
  },
  {
   "cell_type": "code",
   "execution_count": null,
   "id": "b25d8095-a17a-4bfb-9592-555c23cd7caa",
   "metadata": {},
   "outputs": [],
   "source": []
  },
  {
   "cell_type": "markdown",
   "id": "df0f8e37-8967-4a57-bd2a-0f97b23cc10c",
   "metadata": {},
   "source": [
    "Extra Challenge: Difference of two Lists\n",
    "Write a function called difference that takes two lists as arguments. This function should return all the elements that are\n",
    "in list a but not in list b and all the elements in list b not in lista. For example:\n",
    "list1 = [1, 2, 4, 5, 6]\n",
    "list2 = [1, 2, 5, 7, 9]\n",
    "should return:\n",
    "[4, 6, 7, 9]\n",
    "Use list comprehension in your function"
   ]
  },
  {
   "cell_type": "code",
   "execution_count": 1,
   "id": "fcdc9250-7013-4da6-ade2-15ac0bda02ed",
   "metadata": {},
   "outputs": [],
   "source": [
    "def difference_of_two_lists(list1, list2):\n",
    "    new_list1 =[x for x in list1 if x not in list2]\n",
    "    new_list2 =[y for y in list2 if y not in list1]\n",
    "    return new_list1 + new_list2"
   ]
  },
  {
   "cell_type": "code",
   "execution_count": 2,
   "id": "80615b65-ff4a-49d1-861c-2a437383c5c5",
   "metadata": {},
   "outputs": [],
   "source": [
    "list1 = [1, 2, 4, 5, 6]\n",
    "list2 = [1, 2, 5, 7, 9]"
   ]
  },
  {
   "cell_type": "code",
   "execution_count": 3,
   "id": "a98a8e01-803c-4ab2-a704-3970206fede7",
   "metadata": {},
   "outputs": [
    {
     "data": {
      "text/plain": [
       "[4, 6, 7, 9]"
      ]
     },
     "execution_count": 3,
     "metadata": {},
     "output_type": "execute_result"
    }
   ],
   "source": [
    "difference_of_two_lists(list1, list2)"
   ]
  },
  {
   "cell_type": "code",
   "execution_count": null,
   "id": "89b7e58c-0c28-4765-80b8-4424f9369d0b",
   "metadata": {},
   "outputs": [],
   "source": []
  }
 ],
 "metadata": {
  "kernelspec": {
   "display_name": "curs_python_env",
   "language": "python",
   "name": "curs_python_env"
  },
  "language_info": {
   "codemirror_mode": {
    "name": "ipython",
    "version": 3
   },
   "file_extension": ".py",
   "mimetype": "text/x-python",
   "name": "python",
   "nbconvert_exporter": "python",
   "pygments_lexer": "ipython3",
   "version": "3.10.5"
  }
 },
 "nbformat": 4,
 "nbformat_minor": 5
}
